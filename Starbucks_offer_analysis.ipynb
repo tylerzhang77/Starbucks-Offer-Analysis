{
 "cells": [
  {
   "cell_type": "markdown",
   "metadata": {},
   "source": [
    "# Starbucks Capstone Challenge\n",
    "\n",
    "### Introduction\n",
    "\n",
    "This data set contains simulated data that mimics customer behavior on the Starbucks rewards mobile app. Once every few days, Starbucks sends out an offer to users of the mobile app. An offer can be merely an advertisement for a drink or an actual offer such as a discount or BOGO (buy one get one free). Some users might not receive any offer during certain weeks. \n",
    "\n",
    "Not all users receive the same offer, and that is the challenge to solve with this data set.\n",
    "\n",
    "Your task is to combine transaction, demographic and offer data to determine which demographic groups respond best to which offer type. This data set is a simplified version of the real Starbucks app because the underlying simulator only has one product whereas Starbucks actually sells dozens of products.\n",
    "\n",
    "Every offer has a validity period before the offer expires. As an example, a BOGO offer might be valid for only 5 days. You'll see in the data set that informational offers have a validity period even though these ads are merely providing information about a product; for example, if an informational offer has 7 days of validity, you can assume the customer is feeling the influence of the offer for 7 days after receiving the advertisement.\n",
    "\n",
    "You'll be given transactional data showing user purchases made on the app including the timestamp of purchase and the amount of money spent on a purchase. This transactional data also has a record for each offer that a user receives as well as a record for when a user actually views the offer. There are also records for when a user completes an offer. \n",
    "\n",
    "Keep in mind as well that someone using the app might make a purchase through the app without having received an offer or seen an offer.\n",
    "\n",
    "### Example\n",
    "\n",
    "To give an example, a user could receive a discount offer buy 10 dollars get 2 off on Monday. The offer is valid for 10 days from receipt. If the customer accumulates at least 10 dollars in purchases during the validity period, the customer completes the offer.\n",
    "\n",
    "However, there are a few things to watch out for in this data set. Customers do not opt into the offers that they receive; in other words, a user can receive an offer, never actually view the offer, and still complete the offer. For example, a user might receive the \"buy 10 dollars get 2 dollars off offer\", but the user never opens the offer during the 10 day validity period. The customer spends 15 dollars during those ten days. There will be an offer completion record in the data set; however, the customer was not influenced by the offer because the customer never viewed the offer.\n",
    "\n",
    "### Cleaning\n",
    "\n",
    "This makes data cleaning especially important and tricky.\n",
    "\n",
    "You'll also want to take into account that some demographic groups will make purchases even if they don't receive an offer. From a business perspective, if a customer is going to make a 10 dollar purchase without an offer anyway, you wouldn't want to send a buy 10 dollars get 2 dollars off offer. You'll want to try to assess what a certain demographic group will buy when not receiving any offers.\n",
    "\n",
    "### Final Advice\n",
    "\n",
    "Because this is a capstone project, you are free to analyze the data any way you see fit. For example, you could build a machine learning model that predicts how much someone will spend based on demographics and offer type. Or you could build a model that predicts whether or not someone will respond to an offer. Or, you don't need to build a machine learning model at all. You could develop a set of heuristics that determine what offer you should send to each customer (i.e., 75 percent of women customers who were 35 years old responded to offer A vs 40 percent from the same demographic to offer B, so send offer A)."
   ]
  },
  {
   "cell_type": "markdown",
   "metadata": {},
   "source": [
    "# Data Sets\n",
    "\n",
    "The data is contained in three files:\n",
    "\n",
    "* portfolio.json - containing offer ids and meta data about each offer (duration, type, etc.)\n",
    "* profile.json - demographic data for each customer\n",
    "* transcript.json - records for transactions, offers received, offers viewed, and offers completed\n",
    "\n",
    "Here is the schema and explanation of each variable in the files:\n",
    "\n",
    "**portfolio.json**\n",
    "* id (string) - offer id\n",
    "* offer_type (string) - type of offer ie BOGO, discount, informational\n",
    "* difficulty (int) - minimum required spend to complete an offer\n",
    "* reward (int) - reward given for completing an offer\n",
    "* duration (int) - time for offer to be open, in days\n",
    "* channels (list of strings)\n",
    "\n",
    "**profile.json**\n",
    "* age (int) - age of the customer \n",
    "* became_member_on (int) - date when customer created an app account\n",
    "* gender (str) - gender of the customer (note some entries contain 'O' for other rather than M or F)\n",
    "* id (str) - customer id\n",
    "* income (float) - customer's income\n",
    "\n",
    "**transcript.json**\n",
    "* event (str) - record description (ie transaction, offer received, offer viewed, etc.)\n",
    "* person (str) - customer id\n",
    "* time (int) - time in hours since start of test. The data begins at time t=0\n",
    "* value - (dict of strings) - either an offer id or transaction amount depending on the record\n"
   ]
  },
  {
   "cell_type": "markdown",
   "metadata": {},
   "source": [
    "# Package import"
   ]
  },
  {
   "cell_type": "code",
   "execution_count": 2,
   "metadata": {},
   "outputs": [],
   "source": [
    "import pandas as pd\n",
    "import numpy as np\n",
    "import math\n",
    "import json\n",
    "import datetime\n",
    "import matplotlib.pyplot as plt\n",
    "import pickle\n",
    "from sklearn import metrics\n",
    "from sklearn.preprocessing import MultiLabelBinarizer\n",
    "from sklearn.model_selection import train_test_split, RandomizedSearchCV, GridSearchCV\n",
    "from sklearn.ensemble import RandomForestClassifier, RandomForestRegressor\n",
    "from sklearn.metrics import confusion_matrix, precision_score, recall_score, f1_score, accuracy_score, mean_squared_error, explained_variance_score\n",
    "from sklearn.neighbors import KNeighborsClassifier, KNeighborsRegressor\n",
    "from sklearn.linear_model import LogisticRegression, Lasso, LassoCV\n",
    "from sklearn import preprocessing\n",
    "% matplotlib inline\n",
    "pd.options.mode.chained_assignment = None \n",
    "pd.set_option(\"display.max_columns\", None)"
   ]
  },
  {
   "cell_type": "markdown",
   "metadata": {},
   "source": [
    "# Data Understanding and basic cleaning"
   ]
  },
  {
   "cell_type": "code",
   "execution_count": 7,
   "metadata": {},
   "outputs": [],
   "source": [
    "# read in the json files\n",
    "portfolio = pd.read_json('data/portfolio.json', orient='records', lines=True)\n",
    "profile = pd.read_json('data/profile.json', orient='records', lines=True)\n",
    "transcript = pd.read_json('data/transcript.json', orient='records', lines=True)"
   ]
  },
  {
   "cell_type": "markdown",
   "metadata": {},
   "source": [
    "### About the portfolio dataset\n",
    "* It is a 10 * 6 shaped dataset.\n",
    "* We have 4 entries for bogo, 4 entries for discount and 2 entries for informational.\n",
    "* The difficulty and reward for informational offer are both 0.\n",
    "* In average, compared to discount, bogo has lower difficulty and higher reward. "
   ]
  },
  {
   "cell_type": "code",
   "execution_count": 8,
   "metadata": {},
   "outputs": [
    {
     "data": {
      "text/html": [
       "<div>\n",
       "<style scoped>\n",
       "    .dataframe tbody tr th:only-of-type {\n",
       "        vertical-align: middle;\n",
       "    }\n",
       "\n",
       "    .dataframe tbody tr th {\n",
       "        vertical-align: top;\n",
       "    }\n",
       "\n",
       "    .dataframe thead th {\n",
       "        text-align: right;\n",
       "    }\n",
       "</style>\n",
       "<table border=\"1\" class=\"dataframe\">\n",
       "  <thead>\n",
       "    <tr style=\"text-align: right;\">\n",
       "      <th></th>\n",
       "      <th>channels</th>\n",
       "      <th>difficulty</th>\n",
       "      <th>duration</th>\n",
       "      <th>id</th>\n",
       "      <th>offer_type</th>\n",
       "      <th>reward</th>\n",
       "    </tr>\n",
       "  </thead>\n",
       "  <tbody>\n",
       "    <tr>\n",
       "      <th>0</th>\n",
       "      <td>[email, mobile, social]</td>\n",
       "      <td>10</td>\n",
       "      <td>7</td>\n",
       "      <td>ae264e3637204a6fb9bb56bc8210ddfd</td>\n",
       "      <td>bogo</td>\n",
       "      <td>10</td>\n",
       "    </tr>\n",
       "    <tr>\n",
       "      <th>1</th>\n",
       "      <td>[web, email, mobile, social]</td>\n",
       "      <td>10</td>\n",
       "      <td>5</td>\n",
       "      <td>4d5c57ea9a6940dd891ad53e9dbe8da0</td>\n",
       "      <td>bogo</td>\n",
       "      <td>10</td>\n",
       "    </tr>\n",
       "    <tr>\n",
       "      <th>2</th>\n",
       "      <td>[web, email, mobile]</td>\n",
       "      <td>0</td>\n",
       "      <td>4</td>\n",
       "      <td>3f207df678b143eea3cee63160fa8bed</td>\n",
       "      <td>informational</td>\n",
       "      <td>0</td>\n",
       "    </tr>\n",
       "    <tr>\n",
       "      <th>3</th>\n",
       "      <td>[web, email, mobile]</td>\n",
       "      <td>5</td>\n",
       "      <td>7</td>\n",
       "      <td>9b98b8c7a33c4b65b9aebfe6a799e6d9</td>\n",
       "      <td>bogo</td>\n",
       "      <td>5</td>\n",
       "    </tr>\n",
       "    <tr>\n",
       "      <th>4</th>\n",
       "      <td>[web, email]</td>\n",
       "      <td>20</td>\n",
       "      <td>10</td>\n",
       "      <td>0b1e1539f2cc45b7b9fa7c272da2e1d7</td>\n",
       "      <td>discount</td>\n",
       "      <td>5</td>\n",
       "    </tr>\n",
       "  </tbody>\n",
       "</table>\n",
       "</div>"
      ],
      "text/plain": [
       "                       channels  difficulty  duration  \\\n",
       "0       [email, mobile, social]          10         7   \n",
       "1  [web, email, mobile, social]          10         5   \n",
       "2          [web, email, mobile]           0         4   \n",
       "3          [web, email, mobile]           5         7   \n",
       "4                  [web, email]          20        10   \n",
       "\n",
       "                                 id     offer_type  reward  \n",
       "0  ae264e3637204a6fb9bb56bc8210ddfd           bogo      10  \n",
       "1  4d5c57ea9a6940dd891ad53e9dbe8da0           bogo      10  \n",
       "2  3f207df678b143eea3cee63160fa8bed  informational       0  \n",
       "3  9b98b8c7a33c4b65b9aebfe6a799e6d9           bogo       5  \n",
       "4  0b1e1539f2cc45b7b9fa7c272da2e1d7       discount       5  "
      ]
     },
     "execution_count": 8,
     "metadata": {},
     "output_type": "execute_result"
    }
   ],
   "source": [
    "portfolio.head()"
   ]
  },
  {
   "cell_type": "code",
   "execution_count": 9,
   "metadata": {},
   "outputs": [
    {
     "data": {
      "text/html": [
       "<div>\n",
       "<style scoped>\n",
       "    .dataframe tbody tr th:only-of-type {\n",
       "        vertical-align: middle;\n",
       "    }\n",
       "\n",
       "    .dataframe tbody tr th {\n",
       "        vertical-align: top;\n",
       "    }\n",
       "\n",
       "    .dataframe thead th {\n",
       "        text-align: right;\n",
       "    }\n",
       "</style>\n",
       "<table border=\"1\" class=\"dataframe\">\n",
       "  <thead>\n",
       "    <tr style=\"text-align: right;\">\n",
       "      <th></th>\n",
       "      <th>difficulty</th>\n",
       "      <th>duration</th>\n",
       "      <th>reward</th>\n",
       "    </tr>\n",
       "  </thead>\n",
       "  <tbody>\n",
       "    <tr>\n",
       "      <th>count</th>\n",
       "      <td>10.000000</td>\n",
       "      <td>10.000000</td>\n",
       "      <td>10.000000</td>\n",
       "    </tr>\n",
       "    <tr>\n",
       "      <th>mean</th>\n",
       "      <td>7.700000</td>\n",
       "      <td>6.500000</td>\n",
       "      <td>4.200000</td>\n",
       "    </tr>\n",
       "    <tr>\n",
       "      <th>std</th>\n",
       "      <td>5.831905</td>\n",
       "      <td>2.321398</td>\n",
       "      <td>3.583915</td>\n",
       "    </tr>\n",
       "    <tr>\n",
       "      <th>min</th>\n",
       "      <td>0.000000</td>\n",
       "      <td>3.000000</td>\n",
       "      <td>0.000000</td>\n",
       "    </tr>\n",
       "    <tr>\n",
       "      <th>25%</th>\n",
       "      <td>5.000000</td>\n",
       "      <td>5.000000</td>\n",
       "      <td>2.000000</td>\n",
       "    </tr>\n",
       "    <tr>\n",
       "      <th>50%</th>\n",
       "      <td>8.500000</td>\n",
       "      <td>7.000000</td>\n",
       "      <td>4.000000</td>\n",
       "    </tr>\n",
       "    <tr>\n",
       "      <th>75%</th>\n",
       "      <td>10.000000</td>\n",
       "      <td>7.000000</td>\n",
       "      <td>5.000000</td>\n",
       "    </tr>\n",
       "    <tr>\n",
       "      <th>max</th>\n",
       "      <td>20.000000</td>\n",
       "      <td>10.000000</td>\n",
       "      <td>10.000000</td>\n",
       "    </tr>\n",
       "  </tbody>\n",
       "</table>\n",
       "</div>"
      ],
      "text/plain": [
       "       difficulty   duration     reward\n",
       "count   10.000000  10.000000  10.000000\n",
       "mean     7.700000   6.500000   4.200000\n",
       "std      5.831905   2.321398   3.583915\n",
       "min      0.000000   3.000000   0.000000\n",
       "25%      5.000000   5.000000   2.000000\n",
       "50%      8.500000   7.000000   4.000000\n",
       "75%     10.000000   7.000000   5.000000\n",
       "max     20.000000  10.000000  10.000000"
      ]
     },
     "execution_count": 9,
     "metadata": {},
     "output_type": "execute_result"
    }
   ],
   "source": [
    "# look into the portfolio dataset\n",
    "portfolio.describe()"
   ]
  },
  {
   "cell_type": "code",
   "execution_count": 10,
   "metadata": {},
   "outputs": [
    {
     "data": {
      "text/plain": [
       "(10, 6)"
      ]
     },
     "execution_count": 10,
     "metadata": {},
     "output_type": "execute_result"
    }
   ],
   "source": [
    "# shape of dataset\n",
    "portfolio.shape"
   ]
  },
  {
   "cell_type": "code",
   "execution_count": 11,
   "metadata": {},
   "outputs": [
    {
     "data": {
      "image/png": "[encoded data removed]",
      "text/plain": [
       "<matplotlib.figure.Figure at 0x7f9ba33962e8>"
      ]
     },
     "metadata": {
      "needs_background": "light"
     },
     "output_type": "display_data"
    }
   ],
   "source": [
    "# counts for each type of offer\n",
    "portfolio['offer_type'].value_counts().plot.bar(fontsize = 12)\n",
    "plt.title('Count for each type of offer')\n",
    "plt.xlabel('Offer type')\n",
    "plt.ylabel('Count')\n",
    "plt.show()"
   ]
  },
  {
   "cell_type": "code",
   "execution_count": 12,
   "metadata": {},
   "outputs": [
    {
     "data": {
      "image/png": "[encoded data removed]",
      "text/plain": [
       "<matplotlib.figure.Figure at 0x7f9b9d065588>"
      ]
     },
     "metadata": {
      "needs_background": "light"
     },
     "output_type": "display_data"
    }
   ],
   "source": [
    "# difficulty information\n",
    "portfolio.groupby('offer_type')['difficulty'].mean().plot.bar(fontsize = 12)\n",
    "plt.title('Average difficulty for each offer type')\n",
    "plt.xlabel('Offer type')\n",
    "plt.ylabel('Mean difficulty')\n",
    "plt.show()"
   ]
  },
  {
   "cell_type": "code",
   "execution_count": 13,
   "metadata": {},
   "outputs": [
    {
     "data": {
      "image/png": "[encoded data removed]",
      "text/plain": [
       "<matplotlib.figure.Figure at 0x7f9b9cff56a0>"
      ]
     },
     "metadata": {
      "needs_background": "light"
     },
     "output_type": "display_data"
    }
   ],
   "source": [
    "# reward information\n",
    "portfolio.groupby('offer_type')['reward'].mean().plot.bar(fontsize = 12)\n",
    "plt.title('Average reward for each offer type')\n",
    "plt.xlabel('Offer type')\n",
    "plt.ylabel('Mean reward')\n",
    "plt.show()"
   ]
  },
  {
   "cell_type": "markdown",
   "metadata": {},
   "source": [
    "### Clean the portfolio data \n",
    "* Change column name for further analysis\n",
    "* Dummy coding the offer type column and the channels column, then replace the original columns"
   ]
  },
  {
   "cell_type": "code",
   "execution_count": 14,
   "metadata": {},
   "outputs": [],
   "source": [
    "def clean_portfolio():\n",
    "    '''This is for clean the portfolio dataset'''\n",
    "    global portfolio\n",
    "    offertype_df = pd.get_dummies(portfolio['offer_type'])\n",
    "    mlb = MultiLabelBinarizer()\n",
    "    channels_df = pd.DataFrame(mlb.fit_transform(portfolio['channels']),columns=mlb.classes_, index=portfolio.index)\n",
    "    portfolio = pd.concat([portfolio, offertype_df, channels_df], axis = 1)\n",
    "    portfolio = portfolio.drop(['channels', 'offer_type'], axis = 1)\n",
    "    portfolio.rename(columns={'id':'offer_id'}, inplace = True)\n",
    "    return portfolio"
   ]
  },
  {
   "cell_type": "code",
   "execution_count": 15,
   "metadata": {},
   "outputs": [
    {
     "data": {
      "text/html": [
       "<div>\n",
       "<style scoped>\n",
       "    .dataframe tbody tr th:only-of-type {\n",
       "        vertical-align: middle;\n",
       "    }\n",
       "\n",
       "    .dataframe tbody tr th {\n",
       "        vertical-align: top;\n",
       "    }\n",
       "\n",
       "    .dataframe thead th {\n",
       "        text-align: right;\n",
       "    }\n",
       "</style>\n",
       "<table border=\"1\" class=\"dataframe\">\n",
       "  <thead>\n",
       "    <tr style=\"text-align: right;\">\n",
       "      <th></th>\n",
       "      <th>difficulty</th>\n",
       "      <th>duration</th>\n",
       "      <th>offer_id</th>\n",
       "      <th>reward</th>\n",
       "      <th>bogo</th>\n",
       "      <th>discount</th>\n",
       "      <th>informational</th>\n",
       "      <th>email</th>\n",
       "      <th>mobile</th>\n",
       "      <th>social</th>\n",
       "      <th>web</th>\n",
       "    </tr>\n",
       "  </thead>\n",
       "  <tbody>\n",
       "    <tr>\n",
       "      <th>0</th>\n",
       "      <td>10</td>\n",
       "      <td>7</td>\n",
       "      <td>ae264e3637204a6fb9bb56bc8210ddfd</td>\n",
       "      <td>10</td>\n",
       "      <td>1</td>\n",
       "      <td>0</td>\n",
       "      <td>0</td>\n",
       "      <td>1</td>\n",
       "      <td>1</td>\n",
       "      <td>1</td>\n",
       "      <td>0</td>\n",
       "    </tr>\n",
       "    <tr>\n",
       "      <th>1</th>\n",
       "      <td>10</td>\n",
       "      <td>5</td>\n",
       "      <td>4d5c57ea9a6940dd891ad53e9dbe8da0</td>\n",
       "      <td>10</td>\n",
       "      <td>1</td>\n",
       "      <td>0</td>\n",
       "      <td>0</td>\n",
       "      <td>1</td>\n",
       "      <td>1</td>\n",
       "      <td>1</td>\n",
       "      <td>1</td>\n",
       "    </tr>\n",
       "    <tr>\n",
       "      <th>2</th>\n",
       "      <td>0</td>\n",
       "      <td>4</td>\n",
       "      <td>3f207df678b143eea3cee63160fa8bed</td>\n",
       "      <td>0</td>\n",
       "      <td>0</td>\n",
       "      <td>0</td>\n",
       "      <td>1</td>\n",
       "      <td>1</td>\n",
       "      <td>1</td>\n",
       "      <td>0</td>\n",
       "      <td>1</td>\n",
       "    </tr>\n",
       "    <tr>\n",
       "      <th>3</th>\n",
       "      <td>5</td>\n",
       "      <td>7</td>\n",
       "      <td>9b98b8c7a33c4b65b9aebfe6a799e6d9</td>\n",
       "      <td>5</td>\n",
       "      <td>1</td>\n",
       "      <td>0</td>\n",
       "      <td>0</td>\n",
       "      <td>1</td>\n",
       "      <td>1</td>\n",
       "      <td>0</td>\n",
       "      <td>1</td>\n",
       "    </tr>\n",
       "    <tr>\n",
       "      <th>4</th>\n",
       "      <td>20</td>\n",
       "      <td>10</td>\n",
       "      <td>0b1e1539f2cc45b7b9fa7c272da2e1d7</td>\n",
       "      <td>5</td>\n",
       "      <td>0</td>\n",
       "      <td>1</td>\n",
       "      <td>0</td>\n",
       "      <td>1</td>\n",
       "      <td>0</td>\n",
       "      <td>0</td>\n",
       "      <td>1</td>\n",
       "    </tr>\n",
       "  </tbody>\n",
       "</table>\n",
       "</div>"
      ],
      "text/plain": [
       "   difficulty  duration                          offer_id  reward  bogo  \\\n",
       "0          10         7  ae264e3637204a6fb9bb56bc8210ddfd      10     1   \n",
       "1          10         5  4d5c57ea9a6940dd891ad53e9dbe8da0      10     1   \n",
       "2           0         4  3f207df678b143eea3cee63160fa8bed       0     0   \n",
       "3           5         7  9b98b8c7a33c4b65b9aebfe6a799e6d9       5     1   \n",
       "4          20        10  0b1e1539f2cc45b7b9fa7c272da2e1d7       5     0   \n",
       "\n",
       "   discount  informational  email  mobile  social  web  \n",
       "0         0              0      1       1       1    0  \n",
       "1         0              0      1       1       1    1  \n",
       "2         0              1      1       1       0    1  \n",
       "3         0              0      1       1       0    1  \n",
       "4         1              0      1       0       0    1  "
      ]
     },
     "execution_count": 15,
     "metadata": {},
     "output_type": "execute_result"
    }
   ],
   "source": [
    "portfolio = clean_portfolio()\n",
    "portfolio.head()"
   ]
  },
  {
   "cell_type": "markdown",
   "metadata": {},
   "source": [
    "### About the profile dataset\n",
    "* A 14825 * 5 shaped dataset.\n",
    "* From the age distribution plot, most of the users are around 45 - 65 years old. \n",
    "* From the income distribution plot, most of the users have incomes between 50k - 70k.\n",
    "* We have around 8k male in the dataset while around 6k for female. "
   ]
  },
  {
   "cell_type": "markdown",
   "metadata": {},
   "source": [
    "#### Clean the profile dataset\n",
    "* Drop unreasonable data points \n",
    "* Dummy encode the year that the user became a member on, and drop the original column\n",
    "* Dummy encode gender and replace the original one "
   ]
  },
  {
   "cell_type": "code",
   "execution_count": 16,
   "metadata": {},
   "outputs": [
    {
     "data": {
      "text/html": [
       "<div>\n",
       "<style scoped>\n",
       "    .dataframe tbody tr th:only-of-type {\n",
       "        vertical-align: middle;\n",
       "    }\n",
       "\n",
       "    .dataframe tbody tr th {\n",
       "        vertical-align: top;\n",
       "    }\n",
       "\n",
       "    .dataframe thead th {\n",
       "        text-align: right;\n",
       "    }\n",
       "</style>\n",
       "<table border=\"1\" class=\"dataframe\">\n",
       "  <thead>\n",
       "    <tr style=\"text-align: right;\">\n",
       "      <th></th>\n",
       "      <th>age</th>\n",
       "      <th>became_member_on</th>\n",
       "      <th>gender</th>\n",
       "      <th>id</th>\n",
       "      <th>income</th>\n",
       "    </tr>\n",
       "  </thead>\n",
       "  <tbody>\n",
       "    <tr>\n",
       "      <th>0</th>\n",
       "      <td>118</td>\n",
       "      <td>20170212</td>\n",
       "      <td>None</td>\n",
       "      <td>68be06ca386d4c31939f3a4f0e3dd783</td>\n",
       "      <td>NaN</td>\n",
       "    </tr>\n",
       "    <tr>\n",
       "      <th>1</th>\n",
       "      <td>55</td>\n",
       "      <td>20170715</td>\n",
       "      <td>F</td>\n",
       "      <td>0610b486422d4921ae7d2bf64640c50b</td>\n",
       "      <td>112000.0</td>\n",
       "    </tr>\n",
       "    <tr>\n",
       "      <th>2</th>\n",
       "      <td>118</td>\n",
       "      <td>20180712</td>\n",
       "      <td>None</td>\n",
       "      <td>38fe809add3b4fcf9315a9694bb96ff5</td>\n",
       "      <td>NaN</td>\n",
       "    </tr>\n",
       "    <tr>\n",
       "      <th>3</th>\n",
       "      <td>75</td>\n",
       "      <td>20170509</td>\n",
       "      <td>F</td>\n",
       "      <td>78afa995795e4d85b5d9ceeca43f5fef</td>\n",
       "      <td>100000.0</td>\n",
       "    </tr>\n",
       "    <tr>\n",
       "      <th>4</th>\n",
       "      <td>118</td>\n",
       "      <td>20170804</td>\n",
       "      <td>None</td>\n",
       "      <td>a03223e636434f42ac4c3df47e8bac43</td>\n",
       "      <td>NaN</td>\n",
       "    </tr>\n",
       "    <tr>\n",
       "      <th>5</th>\n",
       "      <td>68</td>\n",
       "      <td>20180426</td>\n",
       "      <td>M</td>\n",
       "      <td>e2127556f4f64592b11af22de27a7932</td>\n",
       "      <td>70000.0</td>\n",
       "    </tr>\n",
       "    <tr>\n",
       "      <th>6</th>\n",
       "      <td>118</td>\n",
       "      <td>20170925</td>\n",
       "      <td>None</td>\n",
       "      <td>8ec6ce2a7e7949b1bf142def7d0e0586</td>\n",
       "      <td>NaN</td>\n",
       "    </tr>\n",
       "    <tr>\n",
       "      <th>7</th>\n",
       "      <td>118</td>\n",
       "      <td>20171002</td>\n",
       "      <td>None</td>\n",
       "      <td>68617ca6246f4fbc85e91a2a49552598</td>\n",
       "      <td>NaN</td>\n",
       "    </tr>\n",
       "    <tr>\n",
       "      <th>8</th>\n",
       "      <td>65</td>\n",
       "      <td>20180209</td>\n",
       "      <td>M</td>\n",
       "      <td>389bc3fa690240e798340f5a15918d5c</td>\n",
       "      <td>53000.0</td>\n",
       "    </tr>\n",
       "    <tr>\n",
       "      <th>9</th>\n",
       "      <td>118</td>\n",
       "      <td>20161122</td>\n",
       "      <td>None</td>\n",
       "      <td>8974fc5686fe429db53ddde067b88302</td>\n",
       "      <td>NaN</td>\n",
       "    </tr>\n",
       "    <tr>\n",
       "      <th>10</th>\n",
       "      <td>118</td>\n",
       "      <td>20170824</td>\n",
       "      <td>None</td>\n",
       "      <td>c4863c7985cf408faee930f111475da3</td>\n",
       "      <td>NaN</td>\n",
       "    </tr>\n",
       "    <tr>\n",
       "      <th>11</th>\n",
       "      <td>118</td>\n",
       "      <td>20150919</td>\n",
       "      <td>None</td>\n",
       "      <td>148adfcaa27d485b82f323aaaad036bd</td>\n",
       "      <td>NaN</td>\n",
       "    </tr>\n",
       "    <tr>\n",
       "      <th>12</th>\n",
       "      <td>58</td>\n",
       "      <td>20171111</td>\n",
       "      <td>M</td>\n",
       "      <td>2eeac8d8feae4a8cad5a6af0499a211d</td>\n",
       "      <td>51000.0</td>\n",
       "    </tr>\n",
       "    <tr>\n",
       "      <th>13</th>\n",
       "      <td>61</td>\n",
       "      <td>20170911</td>\n",
       "      <td>F</td>\n",
       "      <td>aa4862eba776480b8bb9c68455b8c2e1</td>\n",
       "      <td>57000.0</td>\n",
       "    </tr>\n",
       "    <tr>\n",
       "      <th>14</th>\n",
       "      <td>26</td>\n",
       "      <td>20140213</td>\n",
       "      <td>M</td>\n",
       "      <td>e12aeaf2d47d42479ea1c4ac3d8286c6</td>\n",
       "      <td>46000.0</td>\n",
       "    </tr>\n",
       "    <tr>\n",
       "      <th>15</th>\n",
       "      <td>62</td>\n",
       "      <td>20160211</td>\n",
       "      <td>F</td>\n",
       "      <td>31dda685af34476cad5bc968bdb01c53</td>\n",
       "      <td>71000.0</td>\n",
       "    </tr>\n",
       "    <tr>\n",
       "      <th>16</th>\n",
       "      <td>49</td>\n",
       "      <td>20141113</td>\n",
       "      <td>M</td>\n",
       "      <td>62cf5e10845442329191fc246e7bcea3</td>\n",
       "      <td>52000.0</td>\n",
       "    </tr>\n",
       "    <tr>\n",
       "      <th>17</th>\n",
       "      <td>118</td>\n",
       "      <td>20170801</td>\n",
       "      <td>None</td>\n",
       "      <td>744d603ef08c4f33af5a61c8c7628d1c</td>\n",
       "      <td>NaN</td>\n",
       "    </tr>\n",
       "    <tr>\n",
       "      <th>18</th>\n",
       "      <td>57</td>\n",
       "      <td>20171231</td>\n",
       "      <td>M</td>\n",
       "      <td>6445de3b47274c759400cd68131d91b4</td>\n",
       "      <td>42000.0</td>\n",
       "    </tr>\n",
       "    <tr>\n",
       "      <th>19</th>\n",
       "      <td>61</td>\n",
       "      <td>20180501</td>\n",
       "      <td>F</td>\n",
       "      <td>a448667f336b42c9a66fc5ffd5d73772</td>\n",
       "      <td>40000.0</td>\n",
       "    </tr>\n",
       "  </tbody>\n",
       "</table>\n",
       "</div>"
      ],
      "text/plain": [
       "    age  became_member_on gender                                id    income\n",
       "0   118          20170212   None  68be06ca386d4c31939f3a4f0e3dd783       NaN\n",
       "1    55          20170715      F  0610b486422d4921ae7d2bf64640c50b  112000.0\n",
       "2   118          20180712   None  38fe809add3b4fcf9315a9694bb96ff5       NaN\n",
       "3    75          20170509      F  78afa995795e4d85b5d9ceeca43f5fef  100000.0\n",
       "4   118          20170804   None  a03223e636434f42ac4c3df47e8bac43       NaN\n",
       "5    68          20180426      M  e2127556f4f64592b11af22de27a7932   70000.0\n",
       "6   118          20170925   None  8ec6ce2a7e7949b1bf142def7d0e0586       NaN\n",
       "7   118          20171002   None  68617ca6246f4fbc85e91a2a49552598       NaN\n",
       "8    65          20180209      M  389bc3fa690240e798340f5a15918d5c   53000.0\n",
       "9   118          20161122   None  8974fc5686fe429db53ddde067b88302       NaN\n",
       "10  118          20170824   None  c4863c7985cf408faee930f111475da3       NaN\n",
       "11  118          20150919   None  148adfcaa27d485b82f323aaaad036bd       NaN\n",
       "12   58          20171111      M  2eeac8d8feae4a8cad5a6af0499a211d   51000.0\n",
       "13   61          20170911      F  aa4862eba776480b8bb9c68455b8c2e1   57000.0\n",
       "14   26          20140213      M  e12aeaf2d47d42479ea1c4ac3d8286c6   46000.0\n",
       "15   62          20160211      F  31dda685af34476cad5bc968bdb01c53   71000.0\n",
       "16   49          20141113      M  62cf5e10845442329191fc246e7bcea3   52000.0\n",
       "17  118          20170801   None  744d603ef08c4f33af5a61c8c7628d1c       NaN\n",
       "18   57          20171231      M  6445de3b47274c759400cd68131d91b4   42000.0\n",
       "19   61          20180501      F  a448667f336b42c9a66fc5ffd5d73772   40000.0"
      ]
     },
     "execution_count": 16,
     "metadata": {},
     "output_type": "execute_result"
    }
   ],
   "source": [
    "profile.head(20)"
   ]
  },
  {
   "cell_type": "code",
   "execution_count": 17,
   "metadata": {},
   "outputs": [
    {
     "data": {
      "text/plain": [
       "(17000, 5)"
      ]
     },
     "execution_count": 17,
     "metadata": {},
     "output_type": "execute_result"
    }
   ],
   "source": [
    "profile.shape"
   ]
  },
  {
   "cell_type": "markdown",
   "metadata": {},
   "source": [
    "We can see that there are missing values in the gender and income column. The number of missing values are the same, both 2175. From the head of the dataset, we can observe that there are entries with age being 118, none gender and null income. These must be mistakes and will not be useful in further analysis. So, we can remove them."
   ]
  },
  {
   "cell_type": "code",
   "execution_count": 18,
   "metadata": {},
   "outputs": [
    {
     "data": {
      "text/plain": [
       "age                    0\n",
       "became_member_on       0\n",
       "gender              2175\n",
       "id                     0\n",
       "income              2175\n",
       "dtype: int64"
      ]
     },
     "execution_count": 18,
     "metadata": {},
     "output_type": "execute_result"
    }
   ],
   "source": [
    "profile.isnull().sum(axis = 0)"
   ]
  },
  {
   "cell_type": "code",
   "execution_count": 19,
   "metadata": {},
   "outputs": [],
   "source": [
    "# remove rows with age == 118\n",
    "profile = profile[profile['age']!=118]"
   ]
  },
  {
   "cell_type": "code",
   "execution_count": 20,
   "metadata": {},
   "outputs": [
    {
     "data": {
      "text/plain": [
       "age                 0\n",
       "became_member_on    0\n",
       "gender              0\n",
       "id                  0\n",
       "income              0\n",
       "dtype: int64"
      ]
     },
     "execution_count": 20,
     "metadata": {},
     "output_type": "execute_result"
    }
   ],
   "source": [
    "# Then we check missing values again\n",
    "profile.isnull().sum(axis = 0)"
   ]
  },
  {
   "cell_type": "markdown",
   "metadata": {},
   "source": [
    "All the missing values are gone. We can do some further data understanding now. "
   ]
  },
  {
   "cell_type": "code",
   "execution_count": 21,
   "metadata": {},
   "outputs": [
    {
     "data": {
      "text/html": [
       "<div>\n",
       "<style scoped>\n",
       "    .dataframe tbody tr th:only-of-type {\n",
       "        vertical-align: middle;\n",
       "    }\n",
       "\n",
       "    .dataframe tbody tr th {\n",
       "        vertical-align: top;\n",
       "    }\n",
       "\n",
       "    .dataframe thead th {\n",
       "        text-align: right;\n",
       "    }\n",
       "</style>\n",
       "<table border=\"1\" class=\"dataframe\">\n",
       "  <thead>\n",
       "    <tr style=\"text-align: right;\">\n",
       "      <th></th>\n",
       "      <th>age</th>\n",
       "      <th>became_member_on</th>\n",
       "      <th>gender</th>\n",
       "      <th>id</th>\n",
       "      <th>income</th>\n",
       "    </tr>\n",
       "  </thead>\n",
       "  <tbody>\n",
       "    <tr>\n",
       "      <th>1</th>\n",
       "      <td>55</td>\n",
       "      <td>20170715</td>\n",
       "      <td>F</td>\n",
       "      <td>0610b486422d4921ae7d2bf64640c50b</td>\n",
       "      <td>112000.0</td>\n",
       "    </tr>\n",
       "    <tr>\n",
       "      <th>3</th>\n",
       "      <td>75</td>\n",
       "      <td>20170509</td>\n",
       "      <td>F</td>\n",
       "      <td>78afa995795e4d85b5d9ceeca43f5fef</td>\n",
       "      <td>100000.0</td>\n",
       "    </tr>\n",
       "    <tr>\n",
       "      <th>5</th>\n",
       "      <td>68</td>\n",
       "      <td>20180426</td>\n",
       "      <td>M</td>\n",
       "      <td>e2127556f4f64592b11af22de27a7932</td>\n",
       "      <td>70000.0</td>\n",
       "    </tr>\n",
       "    <tr>\n",
       "      <th>8</th>\n",
       "      <td>65</td>\n",
       "      <td>20180209</td>\n",
       "      <td>M</td>\n",
       "      <td>389bc3fa690240e798340f5a15918d5c</td>\n",
       "      <td>53000.0</td>\n",
       "    </tr>\n",
       "    <tr>\n",
       "      <th>12</th>\n",
       "      <td>58</td>\n",
       "      <td>20171111</td>\n",
       "      <td>M</td>\n",
       "      <td>2eeac8d8feae4a8cad5a6af0499a211d</td>\n",
       "      <td>51000.0</td>\n",
       "    </tr>\n",
       "  </tbody>\n",
       "</table>\n",
       "</div>"
      ],
      "text/plain": [
       "    age  became_member_on gender                                id    income\n",
       "1    55          20170715      F  0610b486422d4921ae7d2bf64640c50b  112000.0\n",
       "3    75          20170509      F  78afa995795e4d85b5d9ceeca43f5fef  100000.0\n",
       "5    68          20180426      M  e2127556f4f64592b11af22de27a7932   70000.0\n",
       "8    65          20180209      M  389bc3fa690240e798340f5a15918d5c   53000.0\n",
       "12   58          20171111      M  2eeac8d8feae4a8cad5a6af0499a211d   51000.0"
      ]
     },
     "execution_count": 21,
     "metadata": {},
     "output_type": "execute_result"
    }
   ],
   "source": [
    "profile.head()"
   ]
  },
  {
   "cell_type": "code",
   "execution_count": 22,
   "metadata": {},
   "outputs": [
    {
     "data": {
      "text/html": [
       "<div>\n",
       "<style scoped>\n",
       "    .dataframe tbody tr th:only-of-type {\n",
       "        vertical-align: middle;\n",
       "    }\n",
       "\n",
       "    .dataframe tbody tr th {\n",
       "        vertical-align: top;\n",
       "    }\n",
       "\n",
       "    .dataframe thead th {\n",
       "        text-align: right;\n",
       "    }\n",
       "</style>\n",
       "<table border=\"1\" class=\"dataframe\">\n",
       "  <thead>\n",
       "    <tr style=\"text-align: right;\">\n",
       "      <th></th>\n",
       "      <th>age</th>\n",
       "      <th>became_member_on</th>\n",
       "      <th>income</th>\n",
       "    </tr>\n",
       "  </thead>\n",
       "  <tbody>\n",
       "    <tr>\n",
       "      <th>count</th>\n",
       "      <td>14825.000000</td>\n",
       "      <td>1.482500e+04</td>\n",
       "      <td>14825.000000</td>\n",
       "    </tr>\n",
       "    <tr>\n",
       "      <th>mean</th>\n",
       "      <td>54.393524</td>\n",
       "      <td>2.016689e+07</td>\n",
       "      <td>65404.991568</td>\n",
       "    </tr>\n",
       "    <tr>\n",
       "      <th>std</th>\n",
       "      <td>17.383705</td>\n",
       "      <td>1.188565e+04</td>\n",
       "      <td>21598.299410</td>\n",
       "    </tr>\n",
       "    <tr>\n",
       "      <th>min</th>\n",
       "      <td>18.000000</td>\n",
       "      <td>2.013073e+07</td>\n",
       "      <td>30000.000000</td>\n",
       "    </tr>\n",
       "    <tr>\n",
       "      <th>25%</th>\n",
       "      <td>42.000000</td>\n",
       "      <td>2.016052e+07</td>\n",
       "      <td>49000.000000</td>\n",
       "    </tr>\n",
       "    <tr>\n",
       "      <th>50%</th>\n",
       "      <td>55.000000</td>\n",
       "      <td>2.017080e+07</td>\n",
       "      <td>64000.000000</td>\n",
       "    </tr>\n",
       "    <tr>\n",
       "      <th>75%</th>\n",
       "      <td>66.000000</td>\n",
       "      <td>2.017123e+07</td>\n",
       "      <td>80000.000000</td>\n",
       "    </tr>\n",
       "    <tr>\n",
       "      <th>max</th>\n",
       "      <td>101.000000</td>\n",
       "      <td>2.018073e+07</td>\n",
       "      <td>120000.000000</td>\n",
       "    </tr>\n",
       "  </tbody>\n",
       "</table>\n",
       "</div>"
      ],
      "text/plain": [
       "                age  became_member_on         income\n",
       "count  14825.000000      1.482500e+04   14825.000000\n",
       "mean      54.393524      2.016689e+07   65404.991568\n",
       "std       17.383705      1.188565e+04   21598.299410\n",
       "min       18.000000      2.013073e+07   30000.000000\n",
       "25%       42.000000      2.016052e+07   49000.000000\n",
       "50%       55.000000      2.017080e+07   64000.000000\n",
       "75%       66.000000      2.017123e+07   80000.000000\n",
       "max      101.000000      2.018073e+07  120000.000000"
      ]
     },
     "execution_count": 22,
     "metadata": {},
     "output_type": "execute_result"
    }
   ],
   "source": [
    "profile.describe()"
   ]
  },
  {
   "cell_type": "code",
   "execution_count": 23,
   "metadata": {},
   "outputs": [
    {
     "data": {
      "text/plain": [
       "(14825, 5)"
      ]
     },
     "execution_count": 23,
     "metadata": {},
     "output_type": "execute_result"
    }
   ],
   "source": [
    "profile.shape"
   ]
  },
  {
   "cell_type": "code",
   "execution_count": 24,
   "metadata": {},
   "outputs": [
    {
     "data": {
      "image/png": "[encoded data removed]",
      "text/plain": [
       "<matplotlib.figure.Figure at 0x7f9b9d01ee48>"
      ]
     },
     "metadata": {
      "needs_background": "light"
     },
     "output_type": "display_data"
    }
   ],
   "source": [
    "# age distribution\n",
    "profile['age'].plot.hist(bins=30, fontsize = 12)\n",
    "plt.xticks(range(10, 110, 10))\n",
    "plt.title('Age distribution of users')\n",
    "plt.xlabel('Age')\n",
    "plt.show()"
   ]
  },
  {
   "cell_type": "code",
   "execution_count": 25,
   "metadata": {},
   "outputs": [
    {
     "data": {
      "image/png": "[encoded data removed]",
      "text/plain": [
       "<matplotlib.figure.Figure at 0x7f9b9cf87c18>"
      ]
     },
     "metadata": {
      "needs_background": "light"
     },
     "output_type": "display_data"
    }
   ],
   "source": [
    "# income distribution\n",
    "profile['income'].plot.hist(bins=30, fontsize = 12)\n",
    "plt.title('Income distribution of users')\n",
    "plt.xlabel('Income')\n",
    "plt.show()"
   ]
  },
  {
   "cell_type": "code",
   "execution_count": 26,
   "metadata": {},
   "outputs": [
    {
     "data": {
      "image/png": "[encoded data removed]",
      "text/plain": [
       "<matplotlib.figure.Figure at 0x7f9b9cf95f60>"
      ]
     },
     "metadata": {
      "needs_background": "light"
     },
     "output_type": "display_data"
    }
   ],
   "source": [
    "# sex distribution \n",
    "profile['gender'].value_counts().plot.bar(fontsize = 12)\n",
    "plt.title('Gender distribution')\n",
    "plt.xlabel('Gender')\n",
    "plt.ylabel('Count')\n",
    "plt.show()"
   ]
  },
  {
   "cell_type": "code",
   "execution_count": 27,
   "metadata": {},
   "outputs": [],
   "source": [
    "# Dummy encode the year \n",
    "def get_year(date):\n",
    "    '''get the year from a date string'''\n",
    "    sdate = datetime.datetime.strptime(str(date), '%Y%m%d')\n",
    "    return sdate.year\n",
    "def clean_profile():\n",
    "    '''For cleaning the profile dataset'''\n",
    "    global profile\n",
    "    year_df = pd.get_dummies(profile['became_member_on'].apply(get_year))\n",
    "    gender_df = pd.get_dummies(profile['gender'])\n",
    "    profile = pd.concat([profile, year_df, gender_df], axis=1)\n",
    "    profile = profile.drop(['became_member_on', 'gender'], axis = 1)\n",
    "    profile.rename(columns={'id':'user_id'}, inplace=True)\n",
    "    return profile"
   ]
  },
  {
   "cell_type": "code",
   "execution_count": 28,
   "metadata": {},
   "outputs": [
    {
     "data": {
      "text/html": [
       "<div>\n",
       "<style scoped>\n",
       "    .dataframe tbody tr th:only-of-type {\n",
       "        vertical-align: middle;\n",
       "    }\n",
       "\n",
       "    .dataframe tbody tr th {\n",
       "        vertical-align: top;\n",
       "    }\n",
       "\n",
       "    .dataframe thead th {\n",
       "        text-align: right;\n",
       "    }\n",
       "</style>\n",
       "<table border=\"1\" class=\"dataframe\">\n",
       "  <thead>\n",
       "    <tr style=\"text-align: right;\">\n",
       "      <th></th>\n",
       "      <th>age</th>\n",
       "      <th>user_id</th>\n",
       "      <th>income</th>\n",
       "      <th>2013</th>\n",
       "      <th>2014</th>\n",
       "      <th>2015</th>\n",
       "      <th>2016</th>\n",
       "      <th>2017</th>\n",
       "      <th>2018</th>\n",
       "      <th>F</th>\n",
       "      <th>M</th>\n",
       "      <th>O</th>\n",
       "    </tr>\n",
       "  </thead>\n",
       "  <tbody>\n",
       "    <tr>\n",
       "      <th>1</th>\n",
       "      <td>55</td>\n",
       "      <td>0610b486422d4921ae7d2bf64640c50b</td>\n",
       "      <td>112000.0</td>\n",
       "      <td>0</td>\n",
       "      <td>0</td>\n",
       "      <td>0</td>\n",
       "      <td>0</td>\n",
       "      <td>1</td>\n",
       "      <td>0</td>\n",
       "      <td>1</td>\n",
       "      <td>0</td>\n",
       "      <td>0</td>\n",
       "    </tr>\n",
       "    <tr>\n",
       "      <th>3</th>\n",
       "      <td>75</td>\n",
       "      <td>78afa995795e4d85b5d9ceeca43f5fef</td>\n",
       "      <td>100000.0</td>\n",
       "      <td>0</td>\n",
       "      <td>0</td>\n",
       "      <td>0</td>\n",
       "      <td>0</td>\n",
       "      <td>1</td>\n",
       "      <td>0</td>\n",
       "      <td>1</td>\n",
       "      <td>0</td>\n",
       "      <td>0</td>\n",
       "    </tr>\n",
       "    <tr>\n",
       "      <th>5</th>\n",
       "      <td>68</td>\n",
       "      <td>e2127556f4f64592b11af22de27a7932</td>\n",
       "      <td>70000.0</td>\n",
       "      <td>0</td>\n",
       "      <td>0</td>\n",
       "      <td>0</td>\n",
       "      <td>0</td>\n",
       "      <td>0</td>\n",
       "      <td>1</td>\n",
       "      <td>0</td>\n",
       "      <td>1</td>\n",
       "      <td>0</td>\n",
       "    </tr>\n",
       "    <tr>\n",
       "      <th>8</th>\n",
       "      <td>65</td>\n",
       "      <td>389bc3fa690240e798340f5a15918d5c</td>\n",
       "      <td>53000.0</td>\n",
       "      <td>0</td>\n",
       "      <td>0</td>\n",
       "      <td>0</td>\n",
       "      <td>0</td>\n",
       "      <td>0</td>\n",
       "      <td>1</td>\n",
       "      <td>0</td>\n",
       "      <td>1</td>\n",
       "      <td>0</td>\n",
       "    </tr>\n",
       "    <tr>\n",
       "      <th>12</th>\n",
       "      <td>58</td>\n",
       "      <td>2eeac8d8feae4a8cad5a6af0499a211d</td>\n",
       "      <td>51000.0</td>\n",
       "      <td>0</td>\n",
       "      <td>0</td>\n",
       "      <td>0</td>\n",
       "      <td>0</td>\n",
       "      <td>1</td>\n",
       "      <td>0</td>\n",
       "      <td>0</td>\n",
       "      <td>1</td>\n",
       "      <td>0</td>\n",
       "    </tr>\n",
       "  </tbody>\n",
       "</table>\n",
       "</div>"
      ],
      "text/plain": [
       "    age                           user_id    income  2013  2014  2015  2016  \\\n",
       "1    55  0610b486422d4921ae7d2bf64640c50b  112000.0     0     0     0     0   \n",
       "3    75  78afa995795e4d85b5d9ceeca43f5fef  100000.0     0     0     0     0   \n",
       "5    68  e2127556f4f64592b11af22de27a7932   70000.0     0     0     0     0   \n",
       "8    65  389bc3fa690240e798340f5a15918d5c   53000.0     0     0     0     0   \n",
       "12   58  2eeac8d8feae4a8cad5a6af0499a211d   51000.0     0     0     0     0   \n",
       "\n",
       "    2017  2018  F  M  O  \n",
       "1      1     0  1  0  0  \n",
       "3      1     0  1  0  0  \n",
       "5      0     1  0  1  0  \n",
       "8      0     1  0  1  0  \n",
       "12     1     0  0  1  0  "
      ]
     },
     "execution_count": 28,
     "metadata": {},
     "output_type": "execute_result"
    }
   ],
   "source": [
    "profile = clean_profile()\n",
    "profile.head()"
   ]
  },
  {
   "cell_type": "code",
   "execution_count": 29,
   "metadata": {},
   "outputs": [
    {
     "data": {
      "text/plain": [
       "(14825, 12)"
      ]
     },
     "execution_count": 29,
     "metadata": {},
     "output_type": "execute_result"
    }
   ],
   "source": [
    "profile.shape"
   ]
  },
  {
   "cell_type": "markdown",
   "metadata": {},
   "source": [
    "### About the transcript dataset\n",
    "* A 306534 * 4 shaped dataset.\n",
    "* This dataset contains multiple classes of offer and transaction informations. \n",
    "* A customer could have multiple entries about receiving, viewing and completing offers, as well as the transaction information. \n",
    "* Ordered by time, if we see patterns like: 'offer received' - 'offer viewed' - 'transaction' - 'offer completed', this means that the offer works."
   ]
  },
  {
   "cell_type": "code",
   "execution_count": 30,
   "metadata": {},
   "outputs": [
    {
     "data": {
      "text/html": [
       "<div>\n",
       "<style scoped>\n",
       "    .dataframe tbody tr th:only-of-type {\n",
       "        vertical-align: middle;\n",
       "    }\n",
       "\n",
       "    .dataframe tbody tr th {\n",
       "        vertical-align: top;\n",
       "    }\n",
       "\n",
       "    .dataframe thead th {\n",
       "        text-align: right;\n",
       "    }\n",
       "</style>\n",
       "<table border=\"1\" class=\"dataframe\">\n",
       "  <thead>\n",
       "    <tr style=\"text-align: right;\">\n",
       "      <th></th>\n",
       "      <th>event</th>\n",
       "      <th>person</th>\n",
       "      <th>time</th>\n",
       "      <th>value</th>\n",
       "    </tr>\n",
       "  </thead>\n",
       "  <tbody>\n",
       "    <tr>\n",
       "      <th>0</th>\n",
       "      <td>offer received</td>\n",
       "      <td>78afa995795e4d85b5d9ceeca43f5fef</td>\n",
       "      <td>0</td>\n",
       "      <td>{'offer id': '9b98b8c7a33c4b65b9aebfe6a799e6d9'}</td>\n",
       "    </tr>\n",
       "    <tr>\n",
       "      <th>1</th>\n",
       "      <td>offer received</td>\n",
       "      <td>a03223e636434f42ac4c3df47e8bac43</td>\n",
       "      <td>0</td>\n",
       "      <td>{'offer id': '0b1e1539f2cc45b7b9fa7c272da2e1d7'}</td>\n",
       "    </tr>\n",
       "    <tr>\n",
       "      <th>2</th>\n",
       "      <td>offer received</td>\n",
       "      <td>e2127556f4f64592b11af22de27a7932</td>\n",
       "      <td>0</td>\n",
       "      <td>{'offer id': '2906b810c7d4411798c6938adc9daaa5'}</td>\n",
       "    </tr>\n",
       "    <tr>\n",
       "      <th>3</th>\n",
       "      <td>offer received</td>\n",
       "      <td>8ec6ce2a7e7949b1bf142def7d0e0586</td>\n",
       "      <td>0</td>\n",
       "      <td>{'offer id': 'fafdcd668e3743c1bb461111dcafc2a4'}</td>\n",
       "    </tr>\n",
       "    <tr>\n",
       "      <th>4</th>\n",
       "      <td>offer received</td>\n",
       "      <td>68617ca6246f4fbc85e91a2a49552598</td>\n",
       "      <td>0</td>\n",
       "      <td>{'offer id': '4d5c57ea9a6940dd891ad53e9dbe8da0'}</td>\n",
       "    </tr>\n",
       "  </tbody>\n",
       "</table>\n",
       "</div>"
      ],
      "text/plain": [
       "            event                            person  time  \\\n",
       "0  offer received  78afa995795e4d85b5d9ceeca43f5fef     0   \n",
       "1  offer received  a03223e636434f42ac4c3df47e8bac43     0   \n",
       "2  offer received  e2127556f4f64592b11af22de27a7932     0   \n",
       "3  offer received  8ec6ce2a7e7949b1bf142def7d0e0586     0   \n",
       "4  offer received  68617ca6246f4fbc85e91a2a49552598     0   \n",
       "\n",
       "                                              value  \n",
       "0  {'offer id': '9b98b8c7a33c4b65b9aebfe6a799e6d9'}  \n",
       "1  {'offer id': '0b1e1539f2cc45b7b9fa7c272da2e1d7'}  \n",
       "2  {'offer id': '2906b810c7d4411798c6938adc9daaa5'}  \n",
       "3  {'offer id': 'fafdcd668e3743c1bb461111dcafc2a4'}  \n",
       "4  {'offer id': '4d5c57ea9a6940dd891ad53e9dbe8da0'}  "
      ]
     },
     "execution_count": 30,
     "metadata": {},
     "output_type": "execute_result"
    }
   ],
   "source": [
    "transcript.head()"
   ]
  },
  {
   "cell_type": "code",
   "execution_count": 31,
   "metadata": {},
   "outputs": [
    {
     "data": {
      "text/plain": [
       "event     0\n",
       "person    0\n",
       "time      0\n",
       "value     0\n",
       "dtype: int64"
      ]
     },
     "execution_count": 31,
     "metadata": {},
     "output_type": "execute_result"
    }
   ],
   "source": [
    "# check missing value\n",
    "transcript.isnull().sum(axis = 0)"
   ]
  },
  {
   "cell_type": "code",
   "execution_count": 32,
   "metadata": {},
   "outputs": [
    {
     "data": {
      "text/plain": [
       "(306534, 4)"
      ]
     },
     "execution_count": 32,
     "metadata": {},
     "output_type": "execute_result"
    }
   ],
   "source": [
    "transcript.shape"
   ]
  },
  {
   "cell_type": "code",
   "execution_count": 33,
   "metadata": {},
   "outputs": [
    {
     "data": {
      "text/plain": [
       "<matplotlib.axes._subplots.AxesSubplot at 0x7f9b9d02ec18>"
      ]
     },
     "execution_count": 33,
     "metadata": {},
     "output_type": "execute_result"
    },
    {
     "data": {
      "image/png": "[encoded data removed]",
      "text/plain": [
       "<matplotlib.figure.Figure at 0x7f9b9cf5a1d0>"
      ]
     },
     "metadata": {
      "needs_background": "light"
     },
     "output_type": "display_data"
    }
   ],
   "source": [
    "# event distribution\n",
    "transcript['event'].value_counts().plot.bar(fontsize = 12)"
   ]
  },
  {
   "cell_type": "code",
   "execution_count": 34,
   "metadata": {},
   "outputs": [
    {
     "data": {
      "text/html": [
       "<div>\n",
       "<style scoped>\n",
       "    .dataframe tbody tr th:only-of-type {\n",
       "        vertical-align: middle;\n",
       "    }\n",
       "\n",
       "    .dataframe tbody tr th {\n",
       "        vertical-align: top;\n",
       "    }\n",
       "\n",
       "    .dataframe thead th {\n",
       "        text-align: right;\n",
       "    }\n",
       "</style>\n",
       "<table border=\"1\" class=\"dataframe\">\n",
       "  <thead>\n",
       "    <tr style=\"text-align: right;\">\n",
       "      <th></th>\n",
       "      <th>event</th>\n",
       "      <th>person</th>\n",
       "      <th>time</th>\n",
       "      <th>value</th>\n",
       "    </tr>\n",
       "  </thead>\n",
       "  <tbody>\n",
       "    <tr>\n",
       "      <th>0</th>\n",
       "      <td>offer received</td>\n",
       "      <td>78afa995795e4d85b5d9ceeca43f5fef</td>\n",
       "      <td>0</td>\n",
       "      <td>{'offer id': '9b98b8c7a33c4b65b9aebfe6a799e6d9'}</td>\n",
       "    </tr>\n",
       "    <tr>\n",
       "      <th>1</th>\n",
       "      <td>offer received</td>\n",
       "      <td>a03223e636434f42ac4c3df47e8bac43</td>\n",
       "      <td>0</td>\n",
       "      <td>{'offer id': '0b1e1539f2cc45b7b9fa7c272da2e1d7'}</td>\n",
       "    </tr>\n",
       "    <tr>\n",
       "      <th>2</th>\n",
       "      <td>offer received</td>\n",
       "      <td>e2127556f4f64592b11af22de27a7932</td>\n",
       "      <td>0</td>\n",
       "      <td>{'offer id': '2906b810c7d4411798c6938adc9daaa5'}</td>\n",
       "    </tr>\n",
       "    <tr>\n",
       "      <th>3</th>\n",
       "      <td>offer received</td>\n",
       "      <td>8ec6ce2a7e7949b1bf142def7d0e0586</td>\n",
       "      <td>0</td>\n",
       "      <td>{'offer id': 'fafdcd668e3743c1bb461111dcafc2a4'}</td>\n",
       "    </tr>\n",
       "    <tr>\n",
       "      <th>4</th>\n",
       "      <td>offer received</td>\n",
       "      <td>68617ca6246f4fbc85e91a2a49552598</td>\n",
       "      <td>0</td>\n",
       "      <td>{'offer id': '4d5c57ea9a6940dd891ad53e9dbe8da0'}</td>\n",
       "    </tr>\n",
       "  </tbody>\n",
       "</table>\n",
       "</div>"
      ],
      "text/plain": [
       "            event                            person  time  \\\n",
       "0  offer received  78afa995795e4d85b5d9ceeca43f5fef     0   \n",
       "1  offer received  a03223e636434f42ac4c3df47e8bac43     0   \n",
       "2  offer received  e2127556f4f64592b11af22de27a7932     0   \n",
       "3  offer received  8ec6ce2a7e7949b1bf142def7d0e0586     0   \n",
       "4  offer received  68617ca6246f4fbc85e91a2a49552598     0   \n",
       "\n",
       "                                              value  \n",
       "0  {'offer id': '9b98b8c7a33c4b65b9aebfe6a799e6d9'}  \n",
       "1  {'offer id': '0b1e1539f2cc45b7b9fa7c272da2e1d7'}  \n",
       "2  {'offer id': '2906b810c7d4411798c6938adc9daaa5'}  \n",
       "3  {'offer id': 'fafdcd668e3743c1bb461111dcafc2a4'}  \n",
       "4  {'offer id': '4d5c57ea9a6940dd891ad53e9dbe8da0'}  "
      ]
     },
     "execution_count": 34,
     "metadata": {},
     "output_type": "execute_result"
    }
   ],
   "source": [
    "# offer received class\n",
    "transcript[transcript['event'] == 'offer received'].head()"
   ]
  },
  {
   "cell_type": "code",
   "execution_count": 35,
   "metadata": {},
   "outputs": [
    {
     "data": {
      "text/html": [
       "<div>\n",
       "<style scoped>\n",
       "    .dataframe tbody tr th:only-of-type {\n",
       "        vertical-align: middle;\n",
       "    }\n",
       "\n",
       "    .dataframe tbody tr th {\n",
       "        vertical-align: top;\n",
       "    }\n",
       "\n",
       "    .dataframe thead th {\n",
       "        text-align: right;\n",
       "    }\n",
       "</style>\n",
       "<table border=\"1\" class=\"dataframe\">\n",
       "  <thead>\n",
       "    <tr style=\"text-align: right;\">\n",
       "      <th></th>\n",
       "      <th>event</th>\n",
       "      <th>person</th>\n",
       "      <th>time</th>\n",
       "      <th>value</th>\n",
       "    </tr>\n",
       "  </thead>\n",
       "  <tbody>\n",
       "    <tr>\n",
       "      <th>12650</th>\n",
       "      <td>offer viewed</td>\n",
       "      <td>389bc3fa690240e798340f5a15918d5c</td>\n",
       "      <td>0</td>\n",
       "      <td>{'offer id': 'f19421c1d4aa40978ebb69ca19b0e20d'}</td>\n",
       "    </tr>\n",
       "    <tr>\n",
       "      <th>12651</th>\n",
       "      <td>offer viewed</td>\n",
       "      <td>d1ede868e29245ea91818a903fec04c6</td>\n",
       "      <td>0</td>\n",
       "      <td>{'offer id': '5a8bc65990b245e5a138643cd4eb9837'}</td>\n",
       "    </tr>\n",
       "    <tr>\n",
       "      <th>12652</th>\n",
       "      <td>offer viewed</td>\n",
       "      <td>102e9454054946fda62242d2e176fdce</td>\n",
       "      <td>0</td>\n",
       "      <td>{'offer id': '4d5c57ea9a6940dd891ad53e9dbe8da0'}</td>\n",
       "    </tr>\n",
       "    <tr>\n",
       "      <th>12653</th>\n",
       "      <td>offer viewed</td>\n",
       "      <td>02c083884c7d45b39cc68e1314fec56c</td>\n",
       "      <td>0</td>\n",
       "      <td>{'offer id': 'ae264e3637204a6fb9bb56bc8210ddfd'}</td>\n",
       "    </tr>\n",
       "    <tr>\n",
       "      <th>12655</th>\n",
       "      <td>offer viewed</td>\n",
       "      <td>be8a5d1981a2458d90b255ddc7e0d174</td>\n",
       "      <td>0</td>\n",
       "      <td>{'offer id': '5a8bc65990b245e5a138643cd4eb9837'}</td>\n",
       "    </tr>\n",
       "  </tbody>\n",
       "</table>\n",
       "</div>"
      ],
      "text/plain": [
       "              event                            person  time  \\\n",
       "12650  offer viewed  389bc3fa690240e798340f5a15918d5c     0   \n",
       "12651  offer viewed  d1ede868e29245ea91818a903fec04c6     0   \n",
       "12652  offer viewed  102e9454054946fda62242d2e176fdce     0   \n",
       "12653  offer viewed  02c083884c7d45b39cc68e1314fec56c     0   \n",
       "12655  offer viewed  be8a5d1981a2458d90b255ddc7e0d174     0   \n",
       "\n",
       "                                                  value  \n",
       "12650  {'offer id': 'f19421c1d4aa40978ebb69ca19b0e20d'}  \n",
       "12651  {'offer id': '5a8bc65990b245e5a138643cd4eb9837'}  \n",
       "12652  {'offer id': '4d5c57ea9a6940dd891ad53e9dbe8da0'}  \n",
       "12653  {'offer id': 'ae264e3637204a6fb9bb56bc8210ddfd'}  \n",
       "12655  {'offer id': '5a8bc65990b245e5a138643cd4eb9837'}  "
      ]
     },
     "execution_count": 35,
     "metadata": {},
     "output_type": "execute_result"
    }
   ],
   "source": [
    "# offer viewed class\n",
    "transcript[transcript['event'] == 'offer viewed'].head()"
   ]
  },
  {
   "cell_type": "code",
   "execution_count": 36,
   "metadata": {},
   "outputs": [
    {
     "data": {
      "text/html": [
       "<div>\n",
       "<style scoped>\n",
       "    .dataframe tbody tr th:only-of-type {\n",
       "        vertical-align: middle;\n",
       "    }\n",
       "\n",
       "    .dataframe tbody tr th {\n",
       "        vertical-align: top;\n",
       "    }\n",
       "\n",
       "    .dataframe thead th {\n",
       "        text-align: right;\n",
       "    }\n",
       "</style>\n",
       "<table border=\"1\" class=\"dataframe\">\n",
       "  <thead>\n",
       "    <tr style=\"text-align: right;\">\n",
       "      <th></th>\n",
       "      <th>event</th>\n",
       "      <th>person</th>\n",
       "      <th>time</th>\n",
       "      <th>value</th>\n",
       "    </tr>\n",
       "  </thead>\n",
       "  <tbody>\n",
       "    <tr>\n",
       "      <th>12658</th>\n",
       "      <td>offer completed</td>\n",
       "      <td>9fa9ae8f57894cc9a3b8a9bbe0fc1b2f</td>\n",
       "      <td>0</td>\n",
       "      <td>{'offer_id': '2906b810c7d4411798c6938adc9daaa5...</td>\n",
       "    </tr>\n",
       "    <tr>\n",
       "      <th>12672</th>\n",
       "      <td>offer completed</td>\n",
       "      <td>fe97aa22dd3e48c8b143116a8403dd52</td>\n",
       "      <td>0</td>\n",
       "      <td>{'offer_id': 'fafdcd668e3743c1bb461111dcafc2a4...</td>\n",
       "    </tr>\n",
       "    <tr>\n",
       "      <th>12679</th>\n",
       "      <td>offer completed</td>\n",
       "      <td>629fc02d56414d91bca360decdfa9288</td>\n",
       "      <td>0</td>\n",
       "      <td>{'offer_id': '9b98b8c7a33c4b65b9aebfe6a799e6d9...</td>\n",
       "    </tr>\n",
       "    <tr>\n",
       "      <th>12692</th>\n",
       "      <td>offer completed</td>\n",
       "      <td>676506bad68e4161b9bbaffeb039626b</td>\n",
       "      <td>0</td>\n",
       "      <td>{'offer_id': 'ae264e3637204a6fb9bb56bc8210ddfd...</td>\n",
       "    </tr>\n",
       "    <tr>\n",
       "      <th>12697</th>\n",
       "      <td>offer completed</td>\n",
       "      <td>8f7dd3b2afe14c078eb4f6e6fe4ba97d</td>\n",
       "      <td>0</td>\n",
       "      <td>{'offer_id': '4d5c57ea9a6940dd891ad53e9dbe8da0...</td>\n",
       "    </tr>\n",
       "  </tbody>\n",
       "</table>\n",
       "</div>"
      ],
      "text/plain": [
       "                 event                            person  time  \\\n",
       "12658  offer completed  9fa9ae8f57894cc9a3b8a9bbe0fc1b2f     0   \n",
       "12672  offer completed  fe97aa22dd3e48c8b143116a8403dd52     0   \n",
       "12679  offer completed  629fc02d56414d91bca360decdfa9288     0   \n",
       "12692  offer completed  676506bad68e4161b9bbaffeb039626b     0   \n",
       "12697  offer completed  8f7dd3b2afe14c078eb4f6e6fe4ba97d     0   \n",
       "\n",
       "                                                   value  \n",
       "12658  {'offer_id': '2906b810c7d4411798c6938adc9daaa5...  \n",
       "12672  {'offer_id': 'fafdcd668e3743c1bb461111dcafc2a4...  \n",
       "12679  {'offer_id': '9b98b8c7a33c4b65b9aebfe6a799e6d9...  \n",
       "12692  {'offer_id': 'ae264e3637204a6fb9bb56bc8210ddfd...  \n",
       "12697  {'offer_id': '4d5c57ea9a6940dd891ad53e9dbe8da0...  "
      ]
     },
     "execution_count": 36,
     "metadata": {},
     "output_type": "execute_result"
    }
   ],
   "source": [
    "# offer completed class\n",
    "transcript[transcript['event'] == 'offer completed'].head()"
   ]
  },
  {
   "cell_type": "code",
   "execution_count": 37,
   "metadata": {},
   "outputs": [
    {
     "data": {
      "text/html": [
       "<div>\n",
       "<style scoped>\n",
       "    .dataframe tbody tr th:only-of-type {\n",
       "        vertical-align: middle;\n",
       "    }\n",
       "\n",
       "    .dataframe tbody tr th {\n",
       "        vertical-align: top;\n",
       "    }\n",
       "\n",
       "    .dataframe thead th {\n",
       "        text-align: right;\n",
       "    }\n",
       "</style>\n",
       "<table border=\"1\" class=\"dataframe\">\n",
       "  <thead>\n",
       "    <tr style=\"text-align: right;\">\n",
       "      <th></th>\n",
       "      <th>event</th>\n",
       "      <th>person</th>\n",
       "      <th>time</th>\n",
       "      <th>value</th>\n",
       "    </tr>\n",
       "  </thead>\n",
       "  <tbody>\n",
       "    <tr>\n",
       "      <th>12654</th>\n",
       "      <td>transaction</td>\n",
       "      <td>02c083884c7d45b39cc68e1314fec56c</td>\n",
       "      <td>0</td>\n",
       "      <td>{'amount': 0.8300000000000001}</td>\n",
       "    </tr>\n",
       "    <tr>\n",
       "      <th>12657</th>\n",
       "      <td>transaction</td>\n",
       "      <td>9fa9ae8f57894cc9a3b8a9bbe0fc1b2f</td>\n",
       "      <td>0</td>\n",
       "      <td>{'amount': 34.56}</td>\n",
       "    </tr>\n",
       "    <tr>\n",
       "      <th>12659</th>\n",
       "      <td>transaction</td>\n",
       "      <td>54890f68699049c2a04d415abc25e717</td>\n",
       "      <td>0</td>\n",
       "      <td>{'amount': 13.23}</td>\n",
       "    </tr>\n",
       "    <tr>\n",
       "      <th>12670</th>\n",
       "      <td>transaction</td>\n",
       "      <td>b2f1cd155b864803ad8334cdf13c4bd2</td>\n",
       "      <td>0</td>\n",
       "      <td>{'amount': 19.51}</td>\n",
       "    </tr>\n",
       "    <tr>\n",
       "      <th>12671</th>\n",
       "      <td>transaction</td>\n",
       "      <td>fe97aa22dd3e48c8b143116a8403dd52</td>\n",
       "      <td>0</td>\n",
       "      <td>{'amount': 18.97}</td>\n",
       "    </tr>\n",
       "  </tbody>\n",
       "</table>\n",
       "</div>"
      ],
      "text/plain": [
       "             event                            person  time  \\\n",
       "12654  transaction  02c083884c7d45b39cc68e1314fec56c     0   \n",
       "12657  transaction  9fa9ae8f57894cc9a3b8a9bbe0fc1b2f     0   \n",
       "12659  transaction  54890f68699049c2a04d415abc25e717     0   \n",
       "12670  transaction  b2f1cd155b864803ad8334cdf13c4bd2     0   \n",
       "12671  transaction  fe97aa22dd3e48c8b143116a8403dd52     0   \n",
       "\n",
       "                                value  \n",
       "12654  {'amount': 0.8300000000000001}  \n",
       "12657               {'amount': 34.56}  \n",
       "12659               {'amount': 13.23}  \n",
       "12670               {'amount': 19.51}  \n",
       "12671               {'amount': 18.97}  "
      ]
     },
     "execution_count": 37,
     "metadata": {},
     "output_type": "execute_result"
    }
   ],
   "source": [
    "# transaction class\n",
    "transcript[transcript['event'] == 'transaction'].head()"
   ]
  },
  {
   "cell_type": "code",
   "execution_count": 38,
   "metadata": {},
   "outputs": [
    {
     "data": {
      "text/html": [
       "<div>\n",
       "<style scoped>\n",
       "    .dataframe tbody tr th:only-of-type {\n",
       "        vertical-align: middle;\n",
       "    }\n",
       "\n",
       "    .dataframe tbody tr th {\n",
       "        vertical-align: top;\n",
       "    }\n",
       "\n",
       "    .dataframe thead th {\n",
       "        text-align: right;\n",
       "    }\n",
       "</style>\n",
       "<table border=\"1\" class=\"dataframe\">\n",
       "  <thead>\n",
       "    <tr style=\"text-align: right;\">\n",
       "      <th></th>\n",
       "      <th>event</th>\n",
       "      <th>person</th>\n",
       "      <th>time</th>\n",
       "      <th>value</th>\n",
       "    </tr>\n",
       "  </thead>\n",
       "  <tbody>\n",
       "    <tr>\n",
       "      <th>12659</th>\n",
       "      <td>transaction</td>\n",
       "      <td>54890f68699049c2a04d415abc25e717</td>\n",
       "      <td>0</td>\n",
       "      <td>{'amount': 13.23}</td>\n",
       "    </tr>\n",
       "    <tr>\n",
       "      <th>36917</th>\n",
       "      <td>transaction</td>\n",
       "      <td>54890f68699049c2a04d415abc25e717</td>\n",
       "      <td>78</td>\n",
       "      <td>{'amount': 21.35}</td>\n",
       "    </tr>\n",
       "    <tr>\n",
       "      <th>59408</th>\n",
       "      <td>offer received</td>\n",
       "      <td>54890f68699049c2a04d415abc25e717</td>\n",
       "      <td>168</td>\n",
       "      <td>{'offer id': '2298d6c36e964ae4a3e7e9706d1fb8c2'}</td>\n",
       "    </tr>\n",
       "    <tr>\n",
       "      <th>74810</th>\n",
       "      <td>offer viewed</td>\n",
       "      <td>54890f68699049c2a04d415abc25e717</td>\n",
       "      <td>186</td>\n",
       "      <td>{'offer id': '2298d6c36e964ae4a3e7e9706d1fb8c2'}</td>\n",
       "    </tr>\n",
       "    <tr>\n",
       "      <th>109893</th>\n",
       "      <td>transaction</td>\n",
       "      <td>54890f68699049c2a04d415abc25e717</td>\n",
       "      <td>330</td>\n",
       "      <td>{'amount': 15.61}</td>\n",
       "    </tr>\n",
       "    <tr>\n",
       "      <th>109894</th>\n",
       "      <td>offer completed</td>\n",
       "      <td>54890f68699049c2a04d415abc25e717</td>\n",
       "      <td>330</td>\n",
       "      <td>{'offer_id': '2298d6c36e964ae4a3e7e9706d1fb8c2...</td>\n",
       "    </tr>\n",
       "    <tr>\n",
       "      <th>117069</th>\n",
       "      <td>offer received</td>\n",
       "      <td>54890f68699049c2a04d415abc25e717</td>\n",
       "      <td>336</td>\n",
       "      <td>{'offer id': '0b1e1539f2cc45b7b9fa7c272da2e1d7'}</td>\n",
       "    </tr>\n",
       "    <tr>\n",
       "      <th>145383</th>\n",
       "      <td>transaction</td>\n",
       "      <td>54890f68699049c2a04d415abc25e717</td>\n",
       "      <td>390</td>\n",
       "      <td>{'amount': 22.39}</td>\n",
       "    </tr>\n",
       "    <tr>\n",
       "      <th>145384</th>\n",
       "      <td>offer completed</td>\n",
       "      <td>54890f68699049c2a04d415abc25e717</td>\n",
       "      <td>390</td>\n",
       "      <td>{'offer_id': '0b1e1539f2cc45b7b9fa7c272da2e1d7...</td>\n",
       "    </tr>\n",
       "    <tr>\n",
       "      <th>156869</th>\n",
       "      <td>offer received</td>\n",
       "      <td>54890f68699049c2a04d415abc25e717</td>\n",
       "      <td>408</td>\n",
       "      <td>{'offer id': '5a8bc65990b245e5a138643cd4eb9837'}</td>\n",
       "    </tr>\n",
       "    <tr>\n",
       "      <th>174369</th>\n",
       "      <td>transaction</td>\n",
       "      <td>54890f68699049c2a04d415abc25e717</td>\n",
       "      <td>426</td>\n",
       "      <td>{'amount': 7.78}</td>\n",
       "    </tr>\n",
       "    <tr>\n",
       "      <th>191227</th>\n",
       "      <td>offer viewed</td>\n",
       "      <td>54890f68699049c2a04d415abc25e717</td>\n",
       "      <td>468</td>\n",
       "      <td>{'offer id': '5a8bc65990b245e5a138643cd4eb9837'}</td>\n",
       "    </tr>\n",
       "    <tr>\n",
       "      <th>230421</th>\n",
       "      <td>transaction</td>\n",
       "      <td>54890f68699049c2a04d415abc25e717</td>\n",
       "      <td>534</td>\n",
       "      <td>{'amount': 20.01}</td>\n",
       "    </tr>\n",
       "    <tr>\n",
       "      <th>299276</th>\n",
       "      <td>transaction</td>\n",
       "      <td>54890f68699049c2a04d415abc25e717</td>\n",
       "      <td>684</td>\n",
       "      <td>{'amount': 18.48}</td>\n",
       "    </tr>\n",
       "  </tbody>\n",
       "</table>\n",
       "</div>"
      ],
      "text/plain": [
       "                  event                            person  time  \\\n",
       "12659       transaction  54890f68699049c2a04d415abc25e717     0   \n",
       "36917       transaction  54890f68699049c2a04d415abc25e717    78   \n",
       "59408    offer received  54890f68699049c2a04d415abc25e717   168   \n",
       "74810      offer viewed  54890f68699049c2a04d415abc25e717   186   \n",
       "109893      transaction  54890f68699049c2a04d415abc25e717   330   \n",
       "109894  offer completed  54890f68699049c2a04d415abc25e717   330   \n",
       "117069   offer received  54890f68699049c2a04d415abc25e717   336   \n",
       "145383      transaction  54890f68699049c2a04d415abc25e717   390   \n",
       "145384  offer completed  54890f68699049c2a04d415abc25e717   390   \n",
       "156869   offer received  54890f68699049c2a04d415abc25e717   408   \n",
       "174369      transaction  54890f68699049c2a04d415abc25e717   426   \n",
       "191227     offer viewed  54890f68699049c2a04d415abc25e717   468   \n",
       "230421      transaction  54890f68699049c2a04d415abc25e717   534   \n",
       "299276      transaction  54890f68699049c2a04d415abc25e717   684   \n",
       "\n",
       "                                                    value  \n",
       "12659                                   {'amount': 13.23}  \n",
       "36917                                   {'amount': 21.35}  \n",
       "59408    {'offer id': '2298d6c36e964ae4a3e7e9706d1fb8c2'}  \n",
       "74810    {'offer id': '2298d6c36e964ae4a3e7e9706d1fb8c2'}  \n",
       "109893                                  {'amount': 15.61}  \n",
       "109894  {'offer_id': '2298d6c36e964ae4a3e7e9706d1fb8c2...  \n",
       "117069   {'offer id': '0b1e1539f2cc45b7b9fa7c272da2e1d7'}  \n",
       "145383                                  {'amount': 22.39}  \n",
       "145384  {'offer_id': '0b1e1539f2cc45b7b9fa7c272da2e1d7...  \n",
       "156869   {'offer id': '5a8bc65990b245e5a138643cd4eb9837'}  \n",
       "174369                                   {'amount': 7.78}  \n",
       "191227   {'offer id': '5a8bc65990b245e5a138643cd4eb9837'}  \n",
       "230421                                  {'amount': 20.01}  \n",
       "299276                                  {'amount': 18.48}  "
      ]
     },
     "execution_count": 38,
     "metadata": {},
     "output_type": "execute_result"
    }
   ],
   "source": [
    "# pick a random customer to understand \n",
    "transcript[transcript['person'] == '54890f68699049c2a04d415abc25e717']"
   ]
  },
  {
   "cell_type": "markdown",
   "metadata": {},
   "source": [
    "#### Clean the transcript dataset\n",
    "* Dummy encoding the event column\n",
    "* Expand the value column for different event type \n",
    "* Change the unit of time from hours to days"
   ]
  },
  {
   "cell_type": "code",
   "execution_count": 39,
   "metadata": {},
   "outputs": [],
   "source": [
    "def clean_transcript():\n",
    "    global transcript\n",
    "    # expand the value column\n",
    "    transcript = transcript.join(pd.DataFrame.from_records(transcript.pop('value')))\n",
    "    # combine the offer id column\n",
    "    transcript.offer_id.update(transcript.pop('offer id'))\n",
    "    # change time unit \n",
    "    transcript['time'] = transcript['time'] / 24\n",
    "    # rename person column\n",
    "    transcript.rename(columns={'person':'user_id', 'reward': 'comp_reward'}, inplace=True)\n",
    "    # sort values \n",
    "    transcript.sort_values(['user_id', 'time'], inplace=True)\n",
    "    # drop the users that are not in the profile data set (some are excluded because of unreasonable age before)\n",
    "    transcript = transcript.loc[transcript['user_id'].isin(profile['user_id'].unique())]\n",
    "    return transcript"
   ]
  },
  {
   "cell_type": "code",
   "execution_count": 40,
   "metadata": {},
   "outputs": [],
   "source": [
    "transcript = clean_transcript()"
   ]
  },
  {
   "cell_type": "markdown",
   "metadata": {},
   "source": [
    "### Combine the three dataset "
   ]
  },
  {
   "cell_type": "code",
   "execution_count": 41,
   "metadata": {},
   "outputs": [
    {
     "data": {
      "text/html": [
       "<div>\n",
       "<style scoped>\n",
       "    .dataframe tbody tr th:only-of-type {\n",
       "        vertical-align: middle;\n",
       "    }\n",
       "\n",
       "    .dataframe tbody tr th {\n",
       "        vertical-align: top;\n",
       "    }\n",
       "\n",
       "    .dataframe thead th {\n",
       "        text-align: right;\n",
       "    }\n",
       "</style>\n",
       "<table border=\"1\" class=\"dataframe\">\n",
       "  <thead>\n",
       "    <tr style=\"text-align: right;\">\n",
       "      <th></th>\n",
       "      <th>event</th>\n",
       "      <th>user_id</th>\n",
       "      <th>time</th>\n",
       "      <th>amount</th>\n",
       "      <th>offer_id</th>\n",
       "      <th>comp_reward</th>\n",
       "    </tr>\n",
       "  </thead>\n",
       "  <tbody>\n",
       "    <tr>\n",
       "      <th>55972</th>\n",
       "      <td>offer received</td>\n",
       "      <td>0009655768c64bdeb2e877511632db8f</td>\n",
       "      <td>7.0</td>\n",
       "      <td>NaN</td>\n",
       "      <td>5a8bc65990b245e5a138643cd4eb9837</td>\n",
       "      <td>NaN</td>\n",
       "    </tr>\n",
       "    <tr>\n",
       "      <th>77705</th>\n",
       "      <td>offer viewed</td>\n",
       "      <td>0009655768c64bdeb2e877511632db8f</td>\n",
       "      <td>8.0</td>\n",
       "      <td>NaN</td>\n",
       "      <td>5a8bc65990b245e5a138643cd4eb9837</td>\n",
       "      <td>NaN</td>\n",
       "    </tr>\n",
       "    <tr>\n",
       "      <th>89291</th>\n",
       "      <td>transaction</td>\n",
       "      <td>0009655768c64bdeb2e877511632db8f</td>\n",
       "      <td>9.5</td>\n",
       "      <td>22.16</td>\n",
       "      <td>NaN</td>\n",
       "      <td>NaN</td>\n",
       "    </tr>\n",
       "    <tr>\n",
       "      <th>113605</th>\n",
       "      <td>offer received</td>\n",
       "      <td>0009655768c64bdeb2e877511632db8f</td>\n",
       "      <td>14.0</td>\n",
       "      <td>NaN</td>\n",
       "      <td>3f207df678b143eea3cee63160fa8bed</td>\n",
       "      <td>NaN</td>\n",
       "    </tr>\n",
       "    <tr>\n",
       "      <th>139992</th>\n",
       "      <td>offer viewed</td>\n",
       "      <td>0009655768c64bdeb2e877511632db8f</td>\n",
       "      <td>15.5</td>\n",
       "      <td>NaN</td>\n",
       "      <td>3f207df678b143eea3cee63160fa8bed</td>\n",
       "      <td>NaN</td>\n",
       "    </tr>\n",
       "  </tbody>\n",
       "</table>\n",
       "</div>"
      ],
      "text/plain": [
       "                 event                           user_id  time  amount  \\\n",
       "55972   offer received  0009655768c64bdeb2e877511632db8f   7.0     NaN   \n",
       "77705     offer viewed  0009655768c64bdeb2e877511632db8f   8.0     NaN   \n",
       "89291      transaction  0009655768c64bdeb2e877511632db8f   9.5   22.16   \n",
       "113605  offer received  0009655768c64bdeb2e877511632db8f  14.0     NaN   \n",
       "139992    offer viewed  0009655768c64bdeb2e877511632db8f  15.5     NaN   \n",
       "\n",
       "                                offer_id  comp_reward  \n",
       "55972   5a8bc65990b245e5a138643cd4eb9837          NaN  \n",
       "77705   5a8bc65990b245e5a138643cd4eb9837          NaN  \n",
       "89291                                NaN          NaN  \n",
       "113605  3f207df678b143eea3cee63160fa8bed          NaN  \n",
       "139992  3f207df678b143eea3cee63160fa8bed          NaN  "
      ]
     },
     "execution_count": 41,
     "metadata": {},
     "output_type": "execute_result"
    }
   ],
   "source": [
    "transcript.head()"
   ]
  },
  {
   "cell_type": "code",
   "execution_count": 42,
   "metadata": {},
   "outputs": [],
   "source": [
    "# This is for finding indicator for each categories\n",
    "received_ind = (transcript.event == 'offer received')\n",
    "viewed_ind = (transcript.event == 'offer viewed')\n",
    "completed_ind = (transcript.event == 'offer completed')\n",
    "transaction_ind = (transcript.event == 'transaction')"
   ]
  },
  {
   "cell_type": "code",
   "execution_count": 43,
   "metadata": {},
   "outputs": [],
   "source": [
    "def add_col(transcript):\n",
    "    '''This is for adding new columns to the transcript dataset, which are useful for further analysis'''\n",
    "    transcript['offer_viewed'] = 0\n",
    "    transcript['offer_completed'] = 0\n",
    "    transcript['viewed_before_completed'] = 0\n",
    "    transcript['trans_amount_comp'] = 0\n",
    "    transcript['reward_amount'] = 0\n",
    "    transcript['total_trans_amount'] = 0\n",
    "add_col(transcript)"
   ]
  },
  {
   "cell_type": "code",
   "execution_count": 44,
   "metadata": {},
   "outputs": [
    {
     "data": {
      "text/html": [
       "<div>\n",
       "<style scoped>\n",
       "    .dataframe tbody tr th:only-of-type {\n",
       "        vertical-align: middle;\n",
       "    }\n",
       "\n",
       "    .dataframe tbody tr th {\n",
       "        vertical-align: top;\n",
       "    }\n",
       "\n",
       "    .dataframe thead th {\n",
       "        text-align: right;\n",
       "    }\n",
       "</style>\n",
       "<table border=\"1\" class=\"dataframe\">\n",
       "  <thead>\n",
       "    <tr style=\"text-align: right;\">\n",
       "      <th></th>\n",
       "      <th>event</th>\n",
       "      <th>user_id</th>\n",
       "      <th>time</th>\n",
       "      <th>amount</th>\n",
       "      <th>offer_id</th>\n",
       "      <th>comp_reward</th>\n",
       "      <th>offer_viewed</th>\n",
       "      <th>offer_completed</th>\n",
       "      <th>viewed_before_completed</th>\n",
       "      <th>trans_amount_comp</th>\n",
       "      <th>reward_amount</th>\n",
       "      <th>total_trans_amount</th>\n",
       "    </tr>\n",
       "  </thead>\n",
       "  <tbody>\n",
       "    <tr>\n",
       "      <th>55972</th>\n",
       "      <td>offer received</td>\n",
       "      <td>0009655768c64bdeb2e877511632db8f</td>\n",
       "      <td>7.0</td>\n",
       "      <td>NaN</td>\n",
       "      <td>5a8bc65990b245e5a138643cd4eb9837</td>\n",
       "      <td>NaN</td>\n",
       "      <td>0</td>\n",
       "      <td>0</td>\n",
       "      <td>0</td>\n",
       "      <td>0</td>\n",
       "      <td>0</td>\n",
       "      <td>0</td>\n",
       "    </tr>\n",
       "    <tr>\n",
       "      <th>77705</th>\n",
       "      <td>offer viewed</td>\n",
       "      <td>0009655768c64bdeb2e877511632db8f</td>\n",
       "      <td>8.0</td>\n",
       "      <td>NaN</td>\n",
       "      <td>5a8bc65990b245e5a138643cd4eb9837</td>\n",
       "      <td>NaN</td>\n",
       "      <td>0</td>\n",
       "      <td>0</td>\n",
       "      <td>0</td>\n",
       "      <td>0</td>\n",
       "      <td>0</td>\n",
       "      <td>0</td>\n",
       "    </tr>\n",
       "    <tr>\n",
       "      <th>89291</th>\n",
       "      <td>transaction</td>\n",
       "      <td>0009655768c64bdeb2e877511632db8f</td>\n",
       "      <td>9.5</td>\n",
       "      <td>22.16</td>\n",
       "      <td>NaN</td>\n",
       "      <td>NaN</td>\n",
       "      <td>0</td>\n",
       "      <td>0</td>\n",
       "      <td>0</td>\n",
       "      <td>0</td>\n",
       "      <td>0</td>\n",
       "      <td>0</td>\n",
       "    </tr>\n",
       "    <tr>\n",
       "      <th>113605</th>\n",
       "      <td>offer received</td>\n",
       "      <td>0009655768c64bdeb2e877511632db8f</td>\n",
       "      <td>14.0</td>\n",
       "      <td>NaN</td>\n",
       "      <td>3f207df678b143eea3cee63160fa8bed</td>\n",
       "      <td>NaN</td>\n",
       "      <td>0</td>\n",
       "      <td>0</td>\n",
       "      <td>0</td>\n",
       "      <td>0</td>\n",
       "      <td>0</td>\n",
       "      <td>0</td>\n",
       "    </tr>\n",
       "    <tr>\n",
       "      <th>139992</th>\n",
       "      <td>offer viewed</td>\n",
       "      <td>0009655768c64bdeb2e877511632db8f</td>\n",
       "      <td>15.5</td>\n",
       "      <td>NaN</td>\n",
       "      <td>3f207df678b143eea3cee63160fa8bed</td>\n",
       "      <td>NaN</td>\n",
       "      <td>0</td>\n",
       "      <td>0</td>\n",
       "      <td>0</td>\n",
       "      <td>0</td>\n",
       "      <td>0</td>\n",
       "      <td>0</td>\n",
       "    </tr>\n",
       "  </tbody>\n",
       "</table>\n",
       "</div>"
      ],
      "text/plain": [
       "                 event                           user_id  time  amount  \\\n",
       "55972   offer received  0009655768c64bdeb2e877511632db8f   7.0     NaN   \n",
       "77705     offer viewed  0009655768c64bdeb2e877511632db8f   8.0     NaN   \n",
       "89291      transaction  0009655768c64bdeb2e877511632db8f   9.5   22.16   \n",
       "113605  offer received  0009655768c64bdeb2e877511632db8f  14.0     NaN   \n",
       "139992    offer viewed  0009655768c64bdeb2e877511632db8f  15.5     NaN   \n",
       "\n",
       "                                offer_id  comp_reward  offer_viewed  \\\n",
       "55972   5a8bc65990b245e5a138643cd4eb9837          NaN             0   \n",
       "77705   5a8bc65990b245e5a138643cd4eb9837          NaN             0   \n",
       "89291                                NaN          NaN             0   \n",
       "113605  3f207df678b143eea3cee63160fa8bed          NaN             0   \n",
       "139992  3f207df678b143eea3cee63160fa8bed          NaN             0   \n",
       "\n",
       "        offer_completed  viewed_before_completed  trans_amount_comp  \\\n",
       "55972                 0                        0                  0   \n",
       "77705                 0                        0                  0   \n",
       "89291                 0                        0                  0   \n",
       "113605                0                        0                  0   \n",
       "139992                0                        0                  0   \n",
       "\n",
       "        reward_amount  total_trans_amount  \n",
       "55972               0                   0  \n",
       "77705               0                   0  \n",
       "89291               0                   0  \n",
       "113605              0                   0  \n",
       "139992              0                   0  "
      ]
     },
     "execution_count": 44,
     "metadata": {},
     "output_type": "execute_result"
    }
   ],
   "source": [
    "transcript.head()"
   ]
  },
  {
   "cell_type": "markdown",
   "metadata": {},
   "source": [
    "We need to clean the transcript data set further to dig out information about valid offers. There are multiple requirements to meet if we want to treat an offer as a valid one: \n",
    "* User needs to view the offer, within the valid time window. \n",
    "* User needs to make transactions with at least the amount that is required by the offer, within the valid time window.\n",
    "\n",
    "I will create indicators for each received offer to show the status of it:\n",
    "\n",
    "*offer_viewed* : 1 if a received offer is viewed later; otherwise 0.\n",
    "\n",
    "*offer_completed* : 1 if a received offer is completed later; otherwise 0. Note: an offer can be completed without being viewed.\n",
    "\n",
    "*viewed_before_completed* : 1 if a received offer is first viewed then completed; 0 otherwise. This indicator tells if an offer really worked.\n",
    "\n",
    "I will also create some variables to store numeric values that we can look into later:\n",
    "\n",
    "*trans_amount_comp* : The total transaction amount between the start of the offer till the completion of the offer.\n",
    "\n",
    "*reward_amount* : The reward amount of the offer.\n",
    "\n",
    "*total_trans_amount* : The total transaction amount between the start of the offer till the end of the offer."
   ]
  },
  {
   "cell_type": "code",
   "execution_count": 45,
   "metadata": {},
   "outputs": [
    {
     "name": "stdout",
     "output_type": "stream",
     "text": [
      "1000 is done\n",
      "2000 is done\n",
      "3000 is done\n",
      "4000 is done\n",
      "5000 is done\n",
      "6000 is done\n",
      "7000 is done\n",
      "8000 is done\n",
      "9000 is done\n",
      "10000 is done\n",
      "11000 is done\n",
      "13000 is done\n",
      "14000 is done\n",
      "15000 is done\n",
      "16000 is done\n"
     ]
    }
   ],
   "source": [
    "# Create a dictionary to easily find offer duration with offer id \n",
    "offerDurations = dict(zip(portfolio.offer_id,portfolio.duration))\n",
    "\n",
    "for i in profile.index:\n",
    "    person = profile.user_id[i]\n",
    "    person_ind = (transcript['user_id'] == person)  \n",
    "    \n",
    "    # get indices for each category. With the indices, we can subset the original dataset\n",
    "    received_indices = transcript.index[person_ind & received_ind]\n",
    "    viewed_indices = transcript.index[person_ind & viewed_ind]\n",
    "    completed_indices = transcript.index[person_ind & completed_ind]\n",
    "    transaction_indices = transcript.index[person_ind & transaction_ind]\n",
    "\n",
    "    # get the ids and times of the offers received \n",
    "    received_ids = transcript['offer_id'][received_indices].values\n",
    "    received_times = transcript['time'][received_indices].values\n",
    "\n",
    "    # Get the expiration time for each offer \n",
    "    duration_times = [offerDurations[x] for x in received_ids]\n",
    "    receivedEnd_times = received_times + duration_times\n",
    "\n",
    "    # get the ids and times of the offers that are viewed. These must be a subset of received offers \n",
    "    viewed_ids = transcript['offer_id'][viewed_indices].values\n",
    "    viewed_times = transcript['time'][viewed_indices].values\n",
    "    \n",
    "    # get the ids and times of the offers completed. Notice that an offer can be completed without being viewed    \n",
    "    completed_ids = transcript['offer_id'][completed_indices].values\n",
    "    completed_times = transcript['time'][completed_indices].values\n",
    "    completed_rewards = transcript['comp_reward'][completed_indices].values\n",
    "\n",
    "    # get the amount and times of each transaction\n",
    "    transaction_amounts = transcript['amount'][transaction_indices].values\n",
    "    transaction_times = transcript['time'][transaction_indices].values\n",
    "\n",
    "    for j, offerid in enumerate(received_ids):\n",
    "\n",
    "        # get time points of the start and end of an offer, transaction outside of this time period does not count \n",
    "        offerBegin = received_times[j]\n",
    "        offerEnd = receivedEnd_times[j]\n",
    " \n",
    "        # for each offer, find transactions during the period that the offer is active \n",
    "        offerTrans_mask = (transaction_times >= offerBegin) & (transaction_times <= offerEnd)\n",
    "        transcript.loc[received_indices[j],'total_trans_amount'] = sum(transaction_amounts[offerTrans_mask])\n",
    "\n",
    "        # check if an offer is viewed\n",
    "        if (offerid in viewed_ids):\n",
    "            view_mask = (viewed_ids == offerid) & (viewed_times >= offerBegin) & (viewed_times <= offerEnd)\n",
    "            if sum(view_mask) > 0:\n",
    "                transcript.loc[received_indices[j],'offer_viewed'] = 1\n",
    "\n",
    "        # Check if an offer is completed\n",
    "        if (offerid in completed_ids):\n",
    "            compOffer_mask = (completed_ids == offerid) & (completed_times >= offerBegin) & (completed_times <= offerEnd)\n",
    "            # If an offer was completed\n",
    "            if sum(compOffer_mask) > 0:\n",
    "                # Get reward ammount and time for completed offer\n",
    "                compOfferReward = completed_rewards[compOffer_mask][0]\n",
    "                compOfferTime = completed_times[compOffer_mask][0]\n",
    "                # Mark the the received offer was completed in the transcript data set\n",
    "                transcript.loc[received_indices[j],'offer_completed'] = 1\n",
    "                # Record reward of completed offer\n",
    "                transcript.loc[received_indices[j],'reward_amount'] = compOfferReward\n",
    "                # Find trans amount during valid offer period\n",
    "                compTrans_mask = (transaction_times >= offerBegin) & (transaction_times <= compOfferTime)\n",
    "                compTrans = transaction_amounts[compTrans_mask]\n",
    "                transcript.loc[received_indices[j],'trans_amount_comp'] = sum(compTrans)\n",
    "\n",
    "            # find out if an offer is viewed before completed\n",
    "            if (offerid in viewed_ids):\n",
    "                compView_mask = (viewed_ids == offerid) & (viewed_times >= offerBegin) & (viewed_times <= compOfferTime)\n",
    "                if sum(compView_mask) > 0:\n",
    "                    transcript.loc[received_indices[j],'viewed_before_completed'] = sum(compView_mask)"
   ]
  },
  {
   "cell_type": "code",
   "execution_count": 46,
   "metadata": {},
   "outputs": [
    {
     "data": {
      "text/html": [
       "<div>\n",
       "<style scoped>\n",
       "    .dataframe tbody tr th:only-of-type {\n",
       "        vertical-align: middle;\n",
       "    }\n",
       "\n",
       "    .dataframe tbody tr th {\n",
       "        vertical-align: top;\n",
       "    }\n",
       "\n",
       "    .dataframe thead th {\n",
       "        text-align: right;\n",
       "    }\n",
       "</style>\n",
       "<table border=\"1\" class=\"dataframe\">\n",
       "  <thead>\n",
       "    <tr style=\"text-align: right;\">\n",
       "      <th></th>\n",
       "      <th>event</th>\n",
       "      <th>user_id</th>\n",
       "      <th>time</th>\n",
       "      <th>amount</th>\n",
       "      <th>offer_id</th>\n",
       "      <th>comp_reward</th>\n",
       "      <th>offer_viewed</th>\n",
       "      <th>offer_completed</th>\n",
       "      <th>viewed_before_completed</th>\n",
       "      <th>trans_amount_comp</th>\n",
       "      <th>reward_amount</th>\n",
       "      <th>total_trans_amount</th>\n",
       "    </tr>\n",
       "  </thead>\n",
       "  <tbody>\n",
       "    <tr>\n",
       "      <th>55972</th>\n",
       "      <td>offer received</td>\n",
       "      <td>0009655768c64bdeb2e877511632db8f</td>\n",
       "      <td>7.0</td>\n",
       "      <td>NaN</td>\n",
       "      <td>5a8bc65990b245e5a138643cd4eb9837</td>\n",
       "      <td>NaN</td>\n",
       "      <td>1</td>\n",
       "      <td>0</td>\n",
       "      <td>0</td>\n",
       "      <td>0.0</td>\n",
       "      <td>0.0</td>\n",
       "      <td>22.16</td>\n",
       "    </tr>\n",
       "    <tr>\n",
       "      <th>77705</th>\n",
       "      <td>offer viewed</td>\n",
       "      <td>0009655768c64bdeb2e877511632db8f</td>\n",
       "      <td>8.0</td>\n",
       "      <td>NaN</td>\n",
       "      <td>5a8bc65990b245e5a138643cd4eb9837</td>\n",
       "      <td>NaN</td>\n",
       "      <td>0</td>\n",
       "      <td>0</td>\n",
       "      <td>0</td>\n",
       "      <td>0.0</td>\n",
       "      <td>0.0</td>\n",
       "      <td>0.00</td>\n",
       "    </tr>\n",
       "    <tr>\n",
       "      <th>89291</th>\n",
       "      <td>transaction</td>\n",
       "      <td>0009655768c64bdeb2e877511632db8f</td>\n",
       "      <td>9.5</td>\n",
       "      <td>22.16</td>\n",
       "      <td>NaN</td>\n",
       "      <td>NaN</td>\n",
       "      <td>0</td>\n",
       "      <td>0</td>\n",
       "      <td>0</td>\n",
       "      <td>0.0</td>\n",
       "      <td>0.0</td>\n",
       "      <td>0.00</td>\n",
       "    </tr>\n",
       "    <tr>\n",
       "      <th>113605</th>\n",
       "      <td>offer received</td>\n",
       "      <td>0009655768c64bdeb2e877511632db8f</td>\n",
       "      <td>14.0</td>\n",
       "      <td>NaN</td>\n",
       "      <td>3f207df678b143eea3cee63160fa8bed</td>\n",
       "      <td>NaN</td>\n",
       "      <td>1</td>\n",
       "      <td>0</td>\n",
       "      <td>0</td>\n",
       "      <td>0.0</td>\n",
       "      <td>0.0</td>\n",
       "      <td>8.57</td>\n",
       "    </tr>\n",
       "    <tr>\n",
       "      <th>139992</th>\n",
       "      <td>offer viewed</td>\n",
       "      <td>0009655768c64bdeb2e877511632db8f</td>\n",
       "      <td>15.5</td>\n",
       "      <td>NaN</td>\n",
       "      <td>3f207df678b143eea3cee63160fa8bed</td>\n",
       "      <td>NaN</td>\n",
       "      <td>0</td>\n",
       "      <td>0</td>\n",
       "      <td>0</td>\n",
       "      <td>0.0</td>\n",
       "      <td>0.0</td>\n",
       "      <td>0.00</td>\n",
       "    </tr>\n",
       "  </tbody>\n",
       "</table>\n",
       "</div>"
      ],
      "text/plain": [
       "                 event                           user_id  time  amount  \\\n",
       "55972   offer received  0009655768c64bdeb2e877511632db8f   7.0     NaN   \n",
       "77705     offer viewed  0009655768c64bdeb2e877511632db8f   8.0     NaN   \n",
       "89291      transaction  0009655768c64bdeb2e877511632db8f   9.5   22.16   \n",
       "113605  offer received  0009655768c64bdeb2e877511632db8f  14.0     NaN   \n",
       "139992    offer viewed  0009655768c64bdeb2e877511632db8f  15.5     NaN   \n",
       "\n",
       "                                offer_id  comp_reward  offer_viewed  \\\n",
       "55972   5a8bc65990b245e5a138643cd4eb9837          NaN             1   \n",
       "77705   5a8bc65990b245e5a138643cd4eb9837          NaN             0   \n",
       "89291                                NaN          NaN             0   \n",
       "113605  3f207df678b143eea3cee63160fa8bed          NaN             1   \n",
       "139992  3f207df678b143eea3cee63160fa8bed          NaN             0   \n",
       "\n",
       "        offer_completed  viewed_before_completed  trans_amount_comp  \\\n",
       "55972                 0                        0                0.0   \n",
       "77705                 0                        0                0.0   \n",
       "89291                 0                        0                0.0   \n",
       "113605                0                        0                0.0   \n",
       "139992                0                        0                0.0   \n",
       "\n",
       "        reward_amount  total_trans_amount  \n",
       "55972             0.0               22.16  \n",
       "77705             0.0                0.00  \n",
       "89291             0.0                0.00  \n",
       "113605            0.0                8.57  \n",
       "139992            0.0                0.00  "
      ]
     },
     "execution_count": 46,
     "metadata": {},
     "output_type": "execute_result"
    }
   ],
   "source": [
    "transcript.head()"
   ]
  },
  {
   "cell_type": "code",
   "execution_count": 47,
   "metadata": {},
   "outputs": [],
   "source": [
    "# merge the transcript data set with the portfolio and profile data set\n",
    "trans = transcript.merge(portfolio, how = 'left', on = 'offer_id').merge(profile, how = 'left', on = 'user_id')"
   ]
  },
  {
   "cell_type": "code",
   "execution_count": 63,
   "metadata": {},
   "outputs": [],
   "source": [
    "# store for further use\n",
    "#with open('trans.pickle', 'wb') as op:\n",
    "#    pickle.dump(trans, op)"
   ]
  },
  {
   "cell_type": "code",
   "execution_count": 3,
   "metadata": {},
   "outputs": [],
   "source": [
    "# get data\n",
    "#with open('trans.pickle', 'rb') as data:\n",
    "#    trans = pickle.load(data)"
   ]
  },
  {
   "cell_type": "code",
   "execution_count": 4,
   "metadata": {},
   "outputs": [],
   "source": [
    "# subset to only contain rows with 'offer_received' type \n",
    "rec_of = trans[trans['event'] == 'offer received']\n",
    "# drop useless columns\n",
    "rec_of.drop(axis=1, columns=['amount', 'comp_reward', 'event'], inplace=True)"
   ]
  },
  {
   "cell_type": "code",
   "execution_count": 5,
   "metadata": {},
   "outputs": [
    {
     "data": {
      "text/html": [
       "<div>\n",
       "<style scoped>\n",
       "    .dataframe tbody tr th:only-of-type {\n",
       "        vertical-align: middle;\n",
       "    }\n",
       "\n",
       "    .dataframe tbody tr th {\n",
       "        vertical-align: top;\n",
       "    }\n",
       "\n",
       "    .dataframe thead th {\n",
       "        text-align: right;\n",
       "    }\n",
       "</style>\n",
       "<table border=\"1\" class=\"dataframe\">\n",
       "  <thead>\n",
       "    <tr style=\"text-align: right;\">\n",
       "      <th></th>\n",
       "      <th>user_id</th>\n",
       "      <th>time</th>\n",
       "      <th>offer_id</th>\n",
       "      <th>offer_viewed</th>\n",
       "      <th>offer_completed</th>\n",
       "      <th>viewed_before_completed</th>\n",
       "      <th>trans_amount_comp</th>\n",
       "      <th>reward_amount</th>\n",
       "      <th>total_trans_amount</th>\n",
       "      <th>difficulty</th>\n",
       "      <th>duration</th>\n",
       "      <th>reward</th>\n",
       "      <th>bogo</th>\n",
       "      <th>discount</th>\n",
       "      <th>informational</th>\n",
       "      <th>email</th>\n",
       "      <th>mobile</th>\n",
       "      <th>social</th>\n",
       "      <th>web</th>\n",
       "      <th>age</th>\n",
       "      <th>income</th>\n",
       "      <th>2013</th>\n",
       "      <th>2014</th>\n",
       "      <th>2015</th>\n",
       "      <th>2016</th>\n",
       "      <th>2017</th>\n",
       "      <th>2018</th>\n",
       "      <th>F</th>\n",
       "      <th>M</th>\n",
       "      <th>O</th>\n",
       "    </tr>\n",
       "  </thead>\n",
       "  <tbody>\n",
       "    <tr>\n",
       "      <th>0</th>\n",
       "      <td>0009655768c64bdeb2e877511632db8f</td>\n",
       "      <td>7.0</td>\n",
       "      <td>5a8bc65990b245e5a138643cd4eb9837</td>\n",
       "      <td>1</td>\n",
       "      <td>0</td>\n",
       "      <td>0</td>\n",
       "      <td>0.00</td>\n",
       "      <td>0.0</td>\n",
       "      <td>22.16</td>\n",
       "      <td>0.0</td>\n",
       "      <td>3.0</td>\n",
       "      <td>0.0</td>\n",
       "      <td>0.0</td>\n",
       "      <td>0.0</td>\n",
       "      <td>1.0</td>\n",
       "      <td>1.0</td>\n",
       "      <td>1.0</td>\n",
       "      <td>1.0</td>\n",
       "      <td>0.0</td>\n",
       "      <td>33</td>\n",
       "      <td>72000.0</td>\n",
       "      <td>0</td>\n",
       "      <td>0</td>\n",
       "      <td>0</td>\n",
       "      <td>0</td>\n",
       "      <td>1</td>\n",
       "      <td>0</td>\n",
       "      <td>0</td>\n",
       "      <td>1</td>\n",
       "      <td>0</td>\n",
       "    </tr>\n",
       "    <tr>\n",
       "      <th>3</th>\n",
       "      <td>0009655768c64bdeb2e877511632db8f</td>\n",
       "      <td>14.0</td>\n",
       "      <td>3f207df678b143eea3cee63160fa8bed</td>\n",
       "      <td>1</td>\n",
       "      <td>0</td>\n",
       "      <td>0</td>\n",
       "      <td>0.00</td>\n",
       "      <td>0.0</td>\n",
       "      <td>8.57</td>\n",
       "      <td>0.0</td>\n",
       "      <td>4.0</td>\n",
       "      <td>0.0</td>\n",
       "      <td>0.0</td>\n",
       "      <td>0.0</td>\n",
       "      <td>1.0</td>\n",
       "      <td>1.0</td>\n",
       "      <td>1.0</td>\n",
       "      <td>0.0</td>\n",
       "      <td>1.0</td>\n",
       "      <td>33</td>\n",
       "      <td>72000.0</td>\n",
       "      <td>0</td>\n",
       "      <td>0</td>\n",
       "      <td>0</td>\n",
       "      <td>0</td>\n",
       "      <td>1</td>\n",
       "      <td>0</td>\n",
       "      <td>0</td>\n",
       "      <td>1</td>\n",
       "      <td>0</td>\n",
       "    </tr>\n",
       "    <tr>\n",
       "      <th>5</th>\n",
       "      <td>0009655768c64bdeb2e877511632db8f</td>\n",
       "      <td>17.0</td>\n",
       "      <td>f19421c1d4aa40978ebb69ca19b0e20d</td>\n",
       "      <td>1</td>\n",
       "      <td>1</td>\n",
       "      <td>0</td>\n",
       "      <td>8.57</td>\n",
       "      <td>5.0</td>\n",
       "      <td>22.68</td>\n",
       "      <td>5.0</td>\n",
       "      <td>5.0</td>\n",
       "      <td>5.0</td>\n",
       "      <td>1.0</td>\n",
       "      <td>0.0</td>\n",
       "      <td>0.0</td>\n",
       "      <td>1.0</td>\n",
       "      <td>1.0</td>\n",
       "      <td>1.0</td>\n",
       "      <td>1.0</td>\n",
       "      <td>33</td>\n",
       "      <td>72000.0</td>\n",
       "      <td>0</td>\n",
       "      <td>0</td>\n",
       "      <td>0</td>\n",
       "      <td>0</td>\n",
       "      <td>1</td>\n",
       "      <td>0</td>\n",
       "      <td>0</td>\n",
       "      <td>1</td>\n",
       "      <td>0</td>\n",
       "    </tr>\n",
       "    <tr>\n",
       "      <th>9</th>\n",
       "      <td>0009655768c64bdeb2e877511632db8f</td>\n",
       "      <td>21.0</td>\n",
       "      <td>fafdcd668e3743c1bb461111dcafc2a4</td>\n",
       "      <td>1</td>\n",
       "      <td>1</td>\n",
       "      <td>0</td>\n",
       "      <td>14.11</td>\n",
       "      <td>2.0</td>\n",
       "      <td>96.87</td>\n",
       "      <td>10.0</td>\n",
       "      <td>10.0</td>\n",
       "      <td>2.0</td>\n",
       "      <td>0.0</td>\n",
       "      <td>1.0</td>\n",
       "      <td>0.0</td>\n",
       "      <td>1.0</td>\n",
       "      <td>1.0</td>\n",
       "      <td>1.0</td>\n",
       "      <td>1.0</td>\n",
       "      <td>33</td>\n",
       "      <td>72000.0</td>\n",
       "      <td>0</td>\n",
       "      <td>0</td>\n",
       "      <td>0</td>\n",
       "      <td>0</td>\n",
       "      <td>1</td>\n",
       "      <td>0</td>\n",
       "      <td>0</td>\n",
       "      <td>1</td>\n",
       "      <td>0</td>\n",
       "    </tr>\n",
       "    <tr>\n",
       "      <th>14</th>\n",
       "      <td>0009655768c64bdeb2e877511632db8f</td>\n",
       "      <td>24.0</td>\n",
       "      <td>2906b810c7d4411798c6938adc9daaa5</td>\n",
       "      <td>0</td>\n",
       "      <td>1</td>\n",
       "      <td>0</td>\n",
       "      <td>10.27</td>\n",
       "      <td>2.0</td>\n",
       "      <td>69.20</td>\n",
       "      <td>10.0</td>\n",
       "      <td>7.0</td>\n",
       "      <td>2.0</td>\n",
       "      <td>0.0</td>\n",
       "      <td>1.0</td>\n",
       "      <td>0.0</td>\n",
       "      <td>1.0</td>\n",
       "      <td>1.0</td>\n",
       "      <td>0.0</td>\n",
       "      <td>1.0</td>\n",
       "      <td>33</td>\n",
       "      <td>72000.0</td>\n",
       "      <td>0</td>\n",
       "      <td>0</td>\n",
       "      <td>0</td>\n",
       "      <td>0</td>\n",
       "      <td>1</td>\n",
       "      <td>0</td>\n",
       "      <td>0</td>\n",
       "      <td>1</td>\n",
       "      <td>0</td>\n",
       "    </tr>\n",
       "  </tbody>\n",
       "</table>\n",
       "</div>"
      ],
      "text/plain": [
       "                             user_id  time                          offer_id  \\\n",
       "0   0009655768c64bdeb2e877511632db8f   7.0  5a8bc65990b245e5a138643cd4eb9837   \n",
       "3   0009655768c64bdeb2e877511632db8f  14.0  3f207df678b143eea3cee63160fa8bed   \n",
       "5   0009655768c64bdeb2e877511632db8f  17.0  f19421c1d4aa40978ebb69ca19b0e20d   \n",
       "9   0009655768c64bdeb2e877511632db8f  21.0  fafdcd668e3743c1bb461111dcafc2a4   \n",
       "14  0009655768c64bdeb2e877511632db8f  24.0  2906b810c7d4411798c6938adc9daaa5   \n",
       "\n",
       "    offer_viewed  offer_completed  viewed_before_completed  trans_amount_comp  \\\n",
       "0              1                0                        0               0.00   \n",
       "3              1                0                        0               0.00   \n",
       "5              1                1                        0               8.57   \n",
       "9              1                1                        0              14.11   \n",
       "14             0                1                        0              10.27   \n",
       "\n",
       "    reward_amount  total_trans_amount  difficulty  duration  reward  bogo  \\\n",
       "0             0.0               22.16         0.0       3.0     0.0   0.0   \n",
       "3             0.0                8.57         0.0       4.0     0.0   0.0   \n",
       "5             5.0               22.68         5.0       5.0     5.0   1.0   \n",
       "9             2.0               96.87        10.0      10.0     2.0   0.0   \n",
       "14            2.0               69.20        10.0       7.0     2.0   0.0   \n",
       "\n",
       "    discount  informational  email  mobile  social  web  age   income  2013  \\\n",
       "0        0.0            1.0    1.0     1.0     1.0  0.0   33  72000.0     0   \n",
       "3        0.0            1.0    1.0     1.0     0.0  1.0   33  72000.0     0   \n",
       "5        0.0            0.0    1.0     1.0     1.0  1.0   33  72000.0     0   \n",
       "9        1.0            0.0    1.0     1.0     1.0  1.0   33  72000.0     0   \n",
       "14       1.0            0.0    1.0     1.0     0.0  1.0   33  72000.0     0   \n",
       "\n",
       "    2014  2015  2016  2017  2018  F  M  O  \n",
       "0      0     0     0     1     0  0  1  0  \n",
       "3      0     0     0     1     0  0  1  0  \n",
       "5      0     0     0     1     0  0  1  0  \n",
       "9      0     0     0     1     0  0  1  0  \n",
       "14     0     0     0     1     0  0  1  0  "
      ]
     },
     "execution_count": 5,
     "metadata": {},
     "output_type": "execute_result"
    }
   ],
   "source": [
    "rec_of.head()"
   ]
  },
  {
   "cell_type": "markdown",
   "metadata": {},
   "source": [
    "### Exploratory Data Analysis"
   ]
  },
  {
   "cell_type": "code",
   "execution_count": 7,
   "metadata": {},
   "outputs": [
    {
     "name": "stdout",
     "output_type": "stream",
     "text": [
      "The proportion of viewed offer is 0.739\n",
      "The proportion of completed offer is 0.488\n"
     ]
    }
   ],
   "source": [
    "# proportion of viewed offer and completed offer \n",
    "print('The proportion of viewed offer is', round(rec_of['offer_viewed'].mean(),3))\n",
    "print('The proportion of completed offer is', round(rec_of['offer_completed'].mean(),3))"
   ]
  },
  {
   "cell_type": "markdown",
   "metadata": {},
   "source": [
    "From the two plot below, we can observe some fun facts:\n",
    "* In successful offers, 2USD, 3USD, 5USD and 10USD offers share similar proportions.\n",
    "* The 3USD offer were provided in least amount. However, in successful offers, its proportion is relatively high. We can see this is a reward amount that have potential. "
   ]
  },
  {
   "cell_type": "code",
   "execution_count": 20,
   "metadata": {},
   "outputs": [
    {
     "data": {
      "image/png": "[encoded data removed]",
      "text/plain": [
       "<matplotlib.figure.Figure at 0x7f004da43da0>"
      ]
     },
     "metadata": {},
     "output_type": "display_data"
    }
   ],
   "source": [
    "# for those completed offers, what does the reward distribution look like\n",
    "rec_of[rec_of['viewed_before_completed']>0].reward_amount.value_counts().sort_index().plot.pie()\n",
    "plt.title('Reward amount for completed offers')\n",
    "plt.show()"
   ]
  },
  {
   "cell_type": "code",
   "execution_count": 21,
   "metadata": {},
   "outputs": [
    {
     "data": {
      "image/png": "[encoded data removed]",
      "text/plain": [
       "<matplotlib.figure.Figure at 0x7f004daf4780>"
      ]
     },
     "metadata": {},
     "output_type": "display_data"
    }
   ],
   "source": [
    "# for all the offers that have a reward, what does the reward distribution look like, regardless it is completed or not\n",
    "rec_of.reward.value_counts().sort_index().plot.pie()\n",
    "plt.title('Reward amount for all the offers')\n",
    "plt.show()"
   ]
  },
  {
   "cell_type": "markdown",
   "metadata": {},
   "source": [
    "From the plot below, we can see that the transaction amount peaked around 18USD among successful offers."
   ]
  },
  {
   "cell_type": "code",
   "execution_count": 22,
   "metadata": {},
   "outputs": [
    {
     "data": {
      "image/png": "[encoded data removed]",
      "text/plain": [
       "<matplotlib.figure.Figure at 0x7f004da5a198>"
      ]
     },
     "metadata": {
      "needs_background": "light"
     },
     "output_type": "display_data"
    }
   ],
   "source": [
    "# for those completed offers, what does the transaction amount distribution look like\n",
    "rec_of[rec_of['viewed_before_completed']>0].trans_amount_comp.plot.hist(range = (0,100), bins = 35)\n",
    "plt.title('Histogram of transaction amount for completed offers')\n",
    "plt.show()"
   ]
  },
  {
   "cell_type": "markdown",
   "metadata": {},
   "source": [
    "From the plot below, we can observe that those who complete an offer mostly are between 50 to 70."
   ]
  },
  {
   "cell_type": "code",
   "execution_count": 23,
   "metadata": {},
   "outputs": [
    {
     "data": {
      "image/png": "[encoded data removed]",
      "text/plain": [
       "<matplotlib.figure.Figure at 0x7f004da5a518>"
      ]
     },
     "metadata": {
      "needs_background": "light"
     },
     "output_type": "display_data"
    }
   ],
   "source": [
    "# age distribution for those who completes an offer\n",
    "rec_of[rec_of['viewed_before_completed']>0].age.plot.hist(range = (15,100), bins = 40)\n",
    "plt.title('Histogram of user age for the completed offers')\n",
    "plt.show()"
   ]
  },
  {
   "cell_type": "markdown",
   "metadata": {},
   "source": [
    "From the plot below, we can see that most customers who complete an offer have income mostly between 50k to 70k."
   ]
  },
  {
   "cell_type": "code",
   "execution_count": 13,
   "metadata": {},
   "outputs": [
    {
     "data": {
      "image/png": "[encoded data removed]",
      "text/plain": [
       "<matplotlib.figure.Figure at 0x7f004dcb45c0>"
      ]
     },
     "metadata": {
      "needs_background": "light"
     },
     "output_type": "display_data"
    }
   ],
   "source": [
    "# income distribution for those who completes an offer\n",
    "rec_of[rec_of['viewed_before_completed']>0].income.plot.hist(bins = 30)\n",
    "plt.title('Histogram of user income for completed offers')\n",
    "plt.show()"
   ]
  },
  {
   "cell_type": "markdown",
   "metadata": {},
   "source": [
    "We can see that compared to baseline, the social channel type has the potential since its proportion among all types increases."
   ]
  },
  {
   "cell_type": "code",
   "execution_count": 24,
   "metadata": {},
   "outputs": [
    {
     "data": {
      "image/png": "[encoded data removed]",
      "text/plain": [
       "<matplotlib.figure.Figure at 0x7f004ddc8748>"
      ]
     },
     "metadata": {
      "needs_background": "light"
     },
     "output_type": "display_data"
    }
   ],
   "source": [
    "# for completed offer, email social or web, which is better?\n",
    "rec_of[rec_of['viewed_before_completed']>0].loc[:,('email', 'mobile', 'social', 'web')].sum(axis = 0).plot.bar()\n",
    "plt.title('Counts of each channel type for completed offers')\n",
    "plt.show()"
   ]
  },
  {
   "cell_type": "code",
   "execution_count": 25,
   "metadata": {},
   "outputs": [
    {
     "data": {
      "image/png": "[encoded data removed]",
      "text/plain": [
       "<matplotlib.figure.Figure at 0x7f004d7b2080>"
      ]
     },
     "metadata": {
      "needs_background": "light"
     },
     "output_type": "display_data"
    }
   ],
   "source": [
    "# Baseline\n",
    "rec_of.loc[:,('email', 'mobile', 'social', 'web')].sum(axis = 0).plot.bar()\n",
    "plt.title('Counts of each channel type for all the offers')\n",
    "plt.show()"
   ]
  },
  {
   "cell_type": "markdown",
   "metadata": {},
   "source": [
    "We can see that compared to baseline, the 7USD difficulty offer has the potential since its proportion increases in completed offers, while the 20USD difficulty offer may not be so popular."
   ]
  },
  {
   "cell_type": "code",
   "execution_count": 27,
   "metadata": {},
   "outputs": [
    {
     "data": {
      "image/png": "[encoded data removed]",
      "text/plain": [
       "<matplotlib.figure.Figure at 0x7f004d6d5f28>"
      ]
     },
     "metadata": {},
     "output_type": "display_data"
    }
   ],
   "source": [
    "# for completed offer, difficulty distribution \n",
    "rec_of[rec_of['viewed_before_completed']>0].difficulty.value_counts().plot.pie()\n",
    "plt.title('The difficulty amount for the completed offers')\n",
    "plt.show()"
   ]
  },
  {
   "cell_type": "code",
   "execution_count": 26,
   "metadata": {},
   "outputs": [
    {
     "data": {
      "image/png": "[encoded data removed]",
      "text/plain": [
       "<matplotlib.figure.Figure at 0x7f004d71a6d8>"
      ]
     },
     "metadata": {},
     "output_type": "display_data"
    }
   ],
   "source": [
    "#baseline\n",
    "rec_of[rec_of['difficulty']!=0].difficulty.value_counts().plot.pie()\n",
    "plt.title('The difficulty amount for all the offers')\n",
    "plt.show()"
   ]
  },
  {
   "cell_type": "markdown",
   "metadata": {},
   "source": [
    "# Build Model "
   ]
  },
  {
   "cell_type": "markdown",
   "metadata": {},
   "source": [
    "## Part 1: Offer complete prediction \n"
   ]
  },
  {
   "cell_type": "markdown",
   "metadata": {},
   "source": [
    "I want to use predictors I have to predict if an offer would be completed. Multiplt machine learning methods will be used and compared. "
   ]
  },
  {
   "cell_type": "markdown",
   "metadata": {},
   "source": [
    "### Data set preparation "
   ]
  },
  {
   "cell_type": "code",
   "execution_count": 5,
   "metadata": {},
   "outputs": [
    {
     "data": {
      "text/html": [
       "<div>\n",
       "<style scoped>\n",
       "    .dataframe tbody tr th:only-of-type {\n",
       "        vertical-align: middle;\n",
       "    }\n",
       "\n",
       "    .dataframe tbody tr th {\n",
       "        vertical-align: top;\n",
       "    }\n",
       "\n",
       "    .dataframe thead th {\n",
       "        text-align: right;\n",
       "    }\n",
       "</style>\n",
       "<table border=\"1\" class=\"dataframe\">\n",
       "  <thead>\n",
       "    <tr style=\"text-align: right;\">\n",
       "      <th></th>\n",
       "      <th>user_id</th>\n",
       "      <th>time</th>\n",
       "      <th>offer_id</th>\n",
       "      <th>offer_viewed</th>\n",
       "      <th>offer_completed</th>\n",
       "      <th>viewed_before_completed</th>\n",
       "      <th>trans_amount_comp</th>\n",
       "      <th>reward_amount</th>\n",
       "      <th>total_trans_amount</th>\n",
       "      <th>difficulty</th>\n",
       "      <th>duration</th>\n",
       "      <th>reward</th>\n",
       "      <th>bogo</th>\n",
       "      <th>discount</th>\n",
       "      <th>informational</th>\n",
       "      <th>email</th>\n",
       "      <th>mobile</th>\n",
       "      <th>social</th>\n",
       "      <th>web</th>\n",
       "      <th>age</th>\n",
       "      <th>income</th>\n",
       "      <th>2013</th>\n",
       "      <th>2014</th>\n",
       "      <th>2015</th>\n",
       "      <th>2016</th>\n",
       "      <th>2017</th>\n",
       "      <th>2018</th>\n",
       "      <th>F</th>\n",
       "      <th>M</th>\n",
       "      <th>O</th>\n",
       "    </tr>\n",
       "  </thead>\n",
       "  <tbody>\n",
       "    <tr>\n",
       "      <th>0</th>\n",
       "      <td>0009655768c64bdeb2e877511632db8f</td>\n",
       "      <td>7.0</td>\n",
       "      <td>5a8bc65990b245e5a138643cd4eb9837</td>\n",
       "      <td>1</td>\n",
       "      <td>0</td>\n",
       "      <td>0</td>\n",
       "      <td>0.00</td>\n",
       "      <td>0.0</td>\n",
       "      <td>22.16</td>\n",
       "      <td>0.0</td>\n",
       "      <td>3.0</td>\n",
       "      <td>0.0</td>\n",
       "      <td>0.0</td>\n",
       "      <td>0.0</td>\n",
       "      <td>1.0</td>\n",
       "      <td>1.0</td>\n",
       "      <td>1.0</td>\n",
       "      <td>1.0</td>\n",
       "      <td>0.0</td>\n",
       "      <td>33</td>\n",
       "      <td>72000.0</td>\n",
       "      <td>0</td>\n",
       "      <td>0</td>\n",
       "      <td>0</td>\n",
       "      <td>0</td>\n",
       "      <td>1</td>\n",
       "      <td>0</td>\n",
       "      <td>0</td>\n",
       "      <td>1</td>\n",
       "      <td>0</td>\n",
       "    </tr>\n",
       "    <tr>\n",
       "      <th>3</th>\n",
       "      <td>0009655768c64bdeb2e877511632db8f</td>\n",
       "      <td>14.0</td>\n",
       "      <td>3f207df678b143eea3cee63160fa8bed</td>\n",
       "      <td>1</td>\n",
       "      <td>0</td>\n",
       "      <td>0</td>\n",
       "      <td>0.00</td>\n",
       "      <td>0.0</td>\n",
       "      <td>8.57</td>\n",
       "      <td>0.0</td>\n",
       "      <td>4.0</td>\n",
       "      <td>0.0</td>\n",
       "      <td>0.0</td>\n",
       "      <td>0.0</td>\n",
       "      <td>1.0</td>\n",
       "      <td>1.0</td>\n",
       "      <td>1.0</td>\n",
       "      <td>0.0</td>\n",
       "      <td>1.0</td>\n",
       "      <td>33</td>\n",
       "      <td>72000.0</td>\n",
       "      <td>0</td>\n",
       "      <td>0</td>\n",
       "      <td>0</td>\n",
       "      <td>0</td>\n",
       "      <td>1</td>\n",
       "      <td>0</td>\n",
       "      <td>0</td>\n",
       "      <td>1</td>\n",
       "      <td>0</td>\n",
       "    </tr>\n",
       "    <tr>\n",
       "      <th>5</th>\n",
       "      <td>0009655768c64bdeb2e877511632db8f</td>\n",
       "      <td>17.0</td>\n",
       "      <td>f19421c1d4aa40978ebb69ca19b0e20d</td>\n",
       "      <td>1</td>\n",
       "      <td>1</td>\n",
       "      <td>0</td>\n",
       "      <td>8.57</td>\n",
       "      <td>5.0</td>\n",
       "      <td>22.68</td>\n",
       "      <td>5.0</td>\n",
       "      <td>5.0</td>\n",
       "      <td>5.0</td>\n",
       "      <td>1.0</td>\n",
       "      <td>0.0</td>\n",
       "      <td>0.0</td>\n",
       "      <td>1.0</td>\n",
       "      <td>1.0</td>\n",
       "      <td>1.0</td>\n",
       "      <td>1.0</td>\n",
       "      <td>33</td>\n",
       "      <td>72000.0</td>\n",
       "      <td>0</td>\n",
       "      <td>0</td>\n",
       "      <td>0</td>\n",
       "      <td>0</td>\n",
       "      <td>1</td>\n",
       "      <td>0</td>\n",
       "      <td>0</td>\n",
       "      <td>1</td>\n",
       "      <td>0</td>\n",
       "    </tr>\n",
       "    <tr>\n",
       "      <th>9</th>\n",
       "      <td>0009655768c64bdeb2e877511632db8f</td>\n",
       "      <td>21.0</td>\n",
       "      <td>fafdcd668e3743c1bb461111dcafc2a4</td>\n",
       "      <td>1</td>\n",
       "      <td>1</td>\n",
       "      <td>0</td>\n",
       "      <td>14.11</td>\n",
       "      <td>2.0</td>\n",
       "      <td>96.87</td>\n",
       "      <td>10.0</td>\n",
       "      <td>10.0</td>\n",
       "      <td>2.0</td>\n",
       "      <td>0.0</td>\n",
       "      <td>1.0</td>\n",
       "      <td>0.0</td>\n",
       "      <td>1.0</td>\n",
       "      <td>1.0</td>\n",
       "      <td>1.0</td>\n",
       "      <td>1.0</td>\n",
       "      <td>33</td>\n",
       "      <td>72000.0</td>\n",
       "      <td>0</td>\n",
       "      <td>0</td>\n",
       "      <td>0</td>\n",
       "      <td>0</td>\n",
       "      <td>1</td>\n",
       "      <td>0</td>\n",
       "      <td>0</td>\n",
       "      <td>1</td>\n",
       "      <td>0</td>\n",
       "    </tr>\n",
       "    <tr>\n",
       "      <th>14</th>\n",
       "      <td>0009655768c64bdeb2e877511632db8f</td>\n",
       "      <td>24.0</td>\n",
       "      <td>2906b810c7d4411798c6938adc9daaa5</td>\n",
       "      <td>0</td>\n",
       "      <td>1</td>\n",
       "      <td>0</td>\n",
       "      <td>10.27</td>\n",
       "      <td>2.0</td>\n",
       "      <td>69.20</td>\n",
       "      <td>10.0</td>\n",
       "      <td>7.0</td>\n",
       "      <td>2.0</td>\n",
       "      <td>0.0</td>\n",
       "      <td>1.0</td>\n",
       "      <td>0.0</td>\n",
       "      <td>1.0</td>\n",
       "      <td>1.0</td>\n",
       "      <td>0.0</td>\n",
       "      <td>1.0</td>\n",
       "      <td>33</td>\n",
       "      <td>72000.0</td>\n",
       "      <td>0</td>\n",
       "      <td>0</td>\n",
       "      <td>0</td>\n",
       "      <td>0</td>\n",
       "      <td>1</td>\n",
       "      <td>0</td>\n",
       "      <td>0</td>\n",
       "      <td>1</td>\n",
       "      <td>0</td>\n",
       "    </tr>\n",
       "  </tbody>\n",
       "</table>\n",
       "</div>"
      ],
      "text/plain": [
       "                             user_id  time                          offer_id  \\\n",
       "0   0009655768c64bdeb2e877511632db8f   7.0  5a8bc65990b245e5a138643cd4eb9837   \n",
       "3   0009655768c64bdeb2e877511632db8f  14.0  3f207df678b143eea3cee63160fa8bed   \n",
       "5   0009655768c64bdeb2e877511632db8f  17.0  f19421c1d4aa40978ebb69ca19b0e20d   \n",
       "9   0009655768c64bdeb2e877511632db8f  21.0  fafdcd668e3743c1bb461111dcafc2a4   \n",
       "14  0009655768c64bdeb2e877511632db8f  24.0  2906b810c7d4411798c6938adc9daaa5   \n",
       "\n",
       "    offer_viewed  offer_completed  viewed_before_completed  trans_amount_comp  \\\n",
       "0              1                0                        0               0.00   \n",
       "3              1                0                        0               0.00   \n",
       "5              1                1                        0               8.57   \n",
       "9              1                1                        0              14.11   \n",
       "14             0                1                        0              10.27   \n",
       "\n",
       "    reward_amount  total_trans_amount  difficulty  duration  reward  bogo  \\\n",
       "0             0.0               22.16         0.0       3.0     0.0   0.0   \n",
       "3             0.0                8.57         0.0       4.0     0.0   0.0   \n",
       "5             5.0               22.68         5.0       5.0     5.0   1.0   \n",
       "9             2.0               96.87        10.0      10.0     2.0   0.0   \n",
       "14            2.0               69.20        10.0       7.0     2.0   0.0   \n",
       "\n",
       "    discount  informational  email  mobile  social  web  age   income  2013  \\\n",
       "0        0.0            1.0    1.0     1.0     1.0  0.0   33  72000.0     0   \n",
       "3        0.0            1.0    1.0     1.0     0.0  1.0   33  72000.0     0   \n",
       "5        0.0            0.0    1.0     1.0     1.0  1.0   33  72000.0     0   \n",
       "9        1.0            0.0    1.0     1.0     1.0  1.0   33  72000.0     0   \n",
       "14       1.0            0.0    1.0     1.0     0.0  1.0   33  72000.0     0   \n",
       "\n",
       "    2014  2015  2016  2017  2018  F  M  O  \n",
       "0      0     0     0     1     0  0  1  0  \n",
       "3      0     0     0     1     0  0  1  0  \n",
       "5      0     0     0     1     0  0  1  0  \n",
       "9      0     0     0     1     0  0  1  0  \n",
       "14     0     0     0     1     0  0  1  0  "
      ]
     },
     "execution_count": 5,
     "metadata": {},
     "output_type": "execute_result"
    }
   ],
   "source": [
    "rec_of.head()"
   ]
  },
  {
   "cell_type": "code",
   "execution_count": 6,
   "metadata": {},
   "outputs": [],
   "source": [
    "y = [0 if i == 0 else 1 for i in rec_of['viewed_before_completed']]"
   ]
  },
  {
   "cell_type": "code",
   "execution_count": 7,
   "metadata": {},
   "outputs": [],
   "source": [
    "col_name = ['trans_amount_comp','total_trans_amount','difficulty',\n",
    "            'duration','reward','bogo','discount',\n",
    "            'informational','email','mobile','social','web','age',\n",
    "            'income',2013,2014,2015,2016,2017,2018,'F','M','O']\n",
    "X = rec_of[col_name]"
   ]
  },
  {
   "cell_type": "code",
   "execution_count": 8,
   "metadata": {},
   "outputs": [],
   "source": [
    "X_train, X_test, y_train, y_test = train_test_split(X, y, test_size=0.2, random_state = 77)"
   ]
  },
  {
   "cell_type": "markdown",
   "metadata": {},
   "source": [
    "### Random Forest"
   ]
  },
  {
   "cell_type": "code",
   "execution_count": 26,
   "metadata": {},
   "outputs": [
    {
     "data": {
      "text/plain": [
       "RandomForestClassifier(bootstrap=True, class_weight=None, criterion='gini',\n",
       "            max_depth=None, max_features='auto', max_leaf_nodes=None,\n",
       "            min_impurity_decrease=0.0, min_impurity_split=None,\n",
       "            min_samples_leaf=1, min_samples_split=2,\n",
       "            min_weight_fraction_leaf=0.0, n_estimators=10, n_jobs=1,\n",
       "            oob_score=False, random_state=None, verbose=0,\n",
       "            warm_start=False)"
      ]
     },
     "execution_count": 26,
     "metadata": {},
     "output_type": "execute_result"
    }
   ],
   "source": [
    "# train model\n",
    "rf_model = RandomForestClassifier()\n",
    "rf_model.fit(X_train, y_train)"
   ]
  },
  {
   "cell_type": "code",
   "execution_count": 27,
   "metadata": {},
   "outputs": [],
   "source": [
    "# make prediction \n",
    "y_pred_untune = rf_model.predict(X_test)"
   ]
  },
  {
   "cell_type": "code",
   "execution_count": 28,
   "metadata": {},
   "outputs": [
    {
     "data": {
      "text/plain": [
       "array([[7619, 1057],\n",
       "       [ 992, 3633]])"
      ]
     },
     "execution_count": 28,
     "metadata": {},
     "output_type": "execute_result"
    }
   ],
   "source": [
    "# confusion matrix\n",
    "confusion_matrix(y_test, y_pred_untune)"
   ]
  },
  {
   "cell_type": "code",
   "execution_count": 29,
   "metadata": {},
   "outputs": [
    {
     "name": "stdout",
     "output_type": "stream",
     "text": [
      "Precision: 0.775\n",
      "Recall: 0.786\n",
      "Accuracy: 0.846\n",
      "F1 Score: 0.780\n"
     ]
    }
   ],
   "source": [
    "print('Precision: %.3f' % precision_score(y_test, y_pred_untune))\n",
    "print('Recall: %.3f' % recall_score(y_test, y_pred_untune))\n",
    "print('Accuracy: %.3f' % accuracy_score(y_test, y_pred_untune))\n",
    "print('F1 Score: %.3f' % f1_score(y_test, y_pred_untune))"
   ]
  },
  {
   "cell_type": "markdown",
   "metadata": {},
   "source": [
    "#### Model tuning"
   ]
  },
  {
   "cell_type": "code",
   "execution_count": 12,
   "metadata": {},
   "outputs": [],
   "source": [
    "# Number of trees in random forest\n",
    "n_estimators = [100, 300, 500, 800, 1200, 1500, 2000]\n",
    "# Maximum number of levels in tree\n",
    "max_depth = [2,4,6,8,10,15,20]\n",
    "# Minimum number of samples required to split a node\n",
    "min_samples_split = [2, 5, 10, 15, 20, 30, 50]\n",
    "max_features = ['auto', 'sqrt']\n",
    "random_grid = {'n_estimators': n_estimators,\n",
    "               'max_depth': max_depth,\n",
    "               'min_samples_split': min_samples_split,\n",
    "               'max_features': max_features}"
   ]
  },
  {
   "cell_type": "code",
   "execution_count": 13,
   "metadata": {},
   "outputs": [
    {
     "name": "stdout",
     "output_type": "stream",
     "text": [
      "Fitting 4 folds for each of 30 candidates, totalling 120 fits\n",
      "[CV] n_estimators=500, min_samples_split=10, max_features=sqrt, max_depth=2 \n",
      "[CV]  n_estimators=500, min_samples_split=10, max_features=sqrt, max_depth=2, total=  13.7s\n",
      "[CV] n_estimators=500, min_samples_split=10, max_features=sqrt, max_depth=2 \n"
     ]
    },
    {
     "name": "stderr",
     "output_type": "stream",
     "text": [
      "[Parallel(n_jobs=-1)]: Done   1 out of   1 | elapsed:   16.7s remaining:    0.0s\n"
     ]
    },
    {
     "name": "stdout",
     "output_type": "stream",
     "text": [
      "[CV]  n_estimators=500, min_samples_split=10, max_features=sqrt, max_depth=2, total=  13.3s\n",
      "[CV] n_estimators=500, min_samples_split=10, max_features=sqrt, max_depth=2 \n",
      "[CV]  n_estimators=500, min_samples_split=10, max_features=sqrt, max_depth=2, total=  13.3s\n",
      "[CV] n_estimators=500, min_samples_split=10, max_features=sqrt, max_depth=2 \n",
      "[CV]  n_estimators=500, min_samples_split=10, max_features=sqrt, max_depth=2, total=   6.1s\n",
      "[CV] n_estimators=2000, min_samples_split=50, max_features=auto, max_depth=6 \n",
      "[CV]  n_estimators=2000, min_samples_split=50, max_features=auto, max_depth=6, total=  44.1s\n",
      "[CV] n_estimators=2000, min_samples_split=50, max_features=auto, max_depth=6 \n",
      "[CV]  n_estimators=2000, min_samples_split=50, max_features=auto, max_depth=6, total=  44.4s\n",
      "[CV] n_estimators=2000, min_samples_split=50, max_features=auto, max_depth=6 \n",
      "[CV]  n_estimators=2000, min_samples_split=50, max_features=auto, max_depth=6, total=  43.7s\n",
      "[CV] n_estimators=2000, min_samples_split=50, max_features=auto, max_depth=6 \n",
      "[CV]  n_estimators=2000, min_samples_split=50, max_features=auto, max_depth=6, total=  45.0s\n",
      "[CV] n_estimators=800, min_samples_split=10, max_features=auto, max_depth=2 \n",
      "[CV]  n_estimators=800, min_samples_split=10, max_features=auto, max_depth=2, total=   9.8s\n",
      "[CV] n_estimators=800, min_samples_split=10, max_features=auto, max_depth=2 \n",
      "[CV]  n_estimators=800, min_samples_split=10, max_features=auto, max_depth=2, total=   9.9s\n",
      "[CV] n_estimators=800, min_samples_split=10, max_features=auto, max_depth=2 \n",
      "[CV]  n_estimators=800, min_samples_split=10, max_features=auto, max_depth=2, total=   9.5s\n",
      "[CV] n_estimators=800, min_samples_split=10, max_features=auto, max_depth=2 \n",
      "[CV]  n_estimators=800, min_samples_split=10, max_features=auto, max_depth=2, total=   9.9s\n",
      "[CV] n_estimators=500, min_samples_split=5, max_features=auto, max_depth=6 \n",
      "[CV]  n_estimators=500, min_samples_split=5, max_features=auto, max_depth=6, total=  10.7s\n",
      "[CV] n_estimators=500, min_samples_split=5, max_features=auto, max_depth=6 \n",
      "[CV]  n_estimators=500, min_samples_split=5, max_features=auto, max_depth=6, total=  11.1s\n",
      "[CV] n_estimators=500, min_samples_split=5, max_features=auto, max_depth=6 \n",
      "[CV]  n_estimators=500, min_samples_split=5, max_features=auto, max_depth=6, total=  11.3s\n",
      "[CV] n_estimators=500, min_samples_split=5, max_features=auto, max_depth=6 \n",
      "[CV]  n_estimators=500, min_samples_split=5, max_features=auto, max_depth=6, total=  11.5s\n",
      "[CV] n_estimators=2000, min_samples_split=2, max_features=auto, max_depth=15 \n",
      "[CV]  n_estimators=2000, min_samples_split=2, max_features=auto, max_depth=15, total= 1.4min\n",
      "[CV] n_estimators=2000, min_samples_split=2, max_features=auto, max_depth=15 \n",
      "[CV]  n_estimators=2000, min_samples_split=2, max_features=auto, max_depth=15, total= 1.4min\n",
      "[CV] n_estimators=2000, min_samples_split=2, max_features=auto, max_depth=15 \n",
      "[CV]  n_estimators=2000, min_samples_split=2, max_features=auto, max_depth=15, total= 1.4min\n",
      "[CV] n_estimators=2000, min_samples_split=2, max_features=auto, max_depth=15 \n",
      "[CV]  n_estimators=2000, min_samples_split=2, max_features=auto, max_depth=15, total= 1.4min\n",
      "[CV] n_estimators=2000, min_samples_split=10, max_features=sqrt, max_depth=6 \n",
      "[CV]  n_estimators=2000, min_samples_split=10, max_features=sqrt, max_depth=6, total=  44.8s\n",
      "[CV] n_estimators=2000, min_samples_split=10, max_features=sqrt, max_depth=6 \n",
      "[CV]  n_estimators=2000, min_samples_split=10, max_features=sqrt, max_depth=6, total=  44.4s\n",
      "[CV] n_estimators=2000, min_samples_split=10, max_features=sqrt, max_depth=6 \n",
      "[CV]  n_estimators=2000, min_samples_split=10, max_features=sqrt, max_depth=6, total=  45.3s\n",
      "[CV] n_estimators=2000, min_samples_split=10, max_features=sqrt, max_depth=6 \n",
      "[CV]  n_estimators=2000, min_samples_split=10, max_features=sqrt, max_depth=6, total=  44.5s\n",
      "[CV] n_estimators=500, min_samples_split=20, max_features=sqrt, max_depth=10 \n",
      "[CV]  n_estimators=500, min_samples_split=20, max_features=sqrt, max_depth=10, total=  15.9s\n",
      "[CV] n_estimators=500, min_samples_split=20, max_features=sqrt, max_depth=10 \n",
      "[CV]  n_estimators=500, min_samples_split=20, max_features=sqrt, max_depth=10, total=  16.0s\n",
      "[CV] n_estimators=500, min_samples_split=20, max_features=sqrt, max_depth=10 \n",
      "[CV]  n_estimators=500, min_samples_split=20, max_features=sqrt, max_depth=10, total=  15.8s\n",
      "[CV] n_estimators=500, min_samples_split=20, max_features=sqrt, max_depth=10 \n",
      "[CV]  n_estimators=500, min_samples_split=20, max_features=sqrt, max_depth=10, total=  15.8s\n",
      "[CV] n_estimators=2000, min_samples_split=5, max_features=sqrt, max_depth=4 \n",
      "[CV]  n_estimators=2000, min_samples_split=5, max_features=sqrt, max_depth=4, total=  35.8s\n",
      "[CV] n_estimators=2000, min_samples_split=5, max_features=sqrt, max_depth=4 \n",
      "[CV]  n_estimators=2000, min_samples_split=5, max_features=sqrt, max_depth=4, total=  35.3s\n",
      "[CV] n_estimators=2000, min_samples_split=5, max_features=sqrt, max_depth=4 \n",
      "[CV]  n_estimators=2000, min_samples_split=5, max_features=sqrt, max_depth=4, total=  34.5s\n",
      "[CV] n_estimators=2000, min_samples_split=5, max_features=sqrt, max_depth=4 \n",
      "[CV]  n_estimators=2000, min_samples_split=5, max_features=sqrt, max_depth=4, total=  34.4s\n",
      "[CV] n_estimators=1500, min_samples_split=30, max_features=sqrt, max_depth=8 \n",
      "[CV]  n_estimators=1500, min_samples_split=30, max_features=sqrt, max_depth=8, total=  40.7s\n",
      "[CV] n_estimators=1500, min_samples_split=30, max_features=sqrt, max_depth=8 \n",
      "[CV]  n_estimators=1500, min_samples_split=30, max_features=sqrt, max_depth=8, total=  40.7s\n",
      "[CV] n_estimators=1500, min_samples_split=30, max_features=sqrt, max_depth=8 \n",
      "[CV]  n_estimators=1500, min_samples_split=30, max_features=sqrt, max_depth=8, total=  41.6s\n",
      "[CV] n_estimators=1500, min_samples_split=30, max_features=sqrt, max_depth=8 \n",
      "[CV]  n_estimators=1500, min_samples_split=30, max_features=sqrt, max_depth=8, total=  41.6s\n",
      "[CV] n_estimators=1500, min_samples_split=30, max_features=auto, max_depth=4 \n",
      "[CV]  n_estimators=1500, min_samples_split=30, max_features=auto, max_depth=4, total=  26.1s\n",
      "[CV] n_estimators=1500, min_samples_split=30, max_features=auto, max_depth=4 \n",
      "[CV]  n_estimators=1500, min_samples_split=30, max_features=auto, max_depth=4, total=  26.0s\n",
      "[CV] n_estimators=1500, min_samples_split=30, max_features=auto, max_depth=4 \n",
      "[CV]  n_estimators=1500, min_samples_split=30, max_features=auto, max_depth=4, total=  26.4s\n",
      "[CV] n_estimators=1500, min_samples_split=30, max_features=auto, max_depth=4 \n",
      "[CV]  n_estimators=1500, min_samples_split=30, max_features=auto, max_depth=4, total=  26.3s\n",
      "[CV] n_estimators=300, min_samples_split=30, max_features=auto, max_depth=10 \n",
      "[CV]  n_estimators=300, min_samples_split=30, max_features=auto, max_depth=10, total=   9.6s\n",
      "[CV] n_estimators=300, min_samples_split=30, max_features=auto, max_depth=10 \n",
      "[CV]  n_estimators=300, min_samples_split=30, max_features=auto, max_depth=10, total=   9.6s\n",
      "[CV] n_estimators=300, min_samples_split=30, max_features=auto, max_depth=10 \n",
      "[CV]  n_estimators=300, min_samples_split=30, max_features=auto, max_depth=10, total=   9.9s\n",
      "[CV] n_estimators=300, min_samples_split=30, max_features=auto, max_depth=10 \n",
      "[CV]  n_estimators=300, min_samples_split=30, max_features=auto, max_depth=10, total=   9.5s\n",
      "[CV] n_estimators=100, min_samples_split=2, max_features=auto, max_depth=10 \n",
      "[CV]  n_estimators=100, min_samples_split=2, max_features=auto, max_depth=10, total=   3.5s\n",
      "[CV] n_estimators=100, min_samples_split=2, max_features=auto, max_depth=10 \n",
      "[CV]  n_estimators=100, min_samples_split=2, max_features=auto, max_depth=10, total=   3.2s\n",
      "[CV] n_estimators=100, min_samples_split=2, max_features=auto, max_depth=10 \n",
      "[CV]  n_estimators=100, min_samples_split=2, max_features=auto, max_depth=10, total=   3.2s\n",
      "[CV] n_estimators=100, min_samples_split=2, max_features=auto, max_depth=10 \n",
      "[CV]  n_estimators=100, min_samples_split=2, max_features=auto, max_depth=10, total=   3.2s\n",
      "[CV] n_estimators=500, min_samples_split=10, max_features=auto, max_depth=8 \n",
      "[CV]  n_estimators=500, min_samples_split=10, max_features=auto, max_depth=8, total=  14.1s\n",
      "[CV] n_estimators=500, min_samples_split=10, max_features=auto, max_depth=8 \n",
      "[CV]  n_estimators=500, min_samples_split=10, max_features=auto, max_depth=8, total=  13.9s\n",
      "[CV] n_estimators=500, min_samples_split=10, max_features=auto, max_depth=8 \n",
      "[CV]  n_estimators=500, min_samples_split=10, max_features=auto, max_depth=8, total=  13.8s\n",
      "[CV] n_estimators=500, min_samples_split=10, max_features=auto, max_depth=8 \n",
      "[CV]  n_estimators=500, min_samples_split=10, max_features=auto, max_depth=8, total=  13.8s\n",
      "[CV] n_estimators=1200, min_samples_split=2, max_features=sqrt, max_depth=4 \n",
      "[CV]  n_estimators=1200, min_samples_split=2, max_features=sqrt, max_depth=4, total=  21.2s\n",
      "[CV] n_estimators=1200, min_samples_split=2, max_features=sqrt, max_depth=4 \n",
      "[CV]  n_estimators=1200, min_samples_split=2, max_features=sqrt, max_depth=4, total=  21.2s\n",
      "[CV] n_estimators=1200, min_samples_split=2, max_features=sqrt, max_depth=4 \n",
      "[CV]  n_estimators=1200, min_samples_split=2, max_features=sqrt, max_depth=4, total=  21.3s\n",
      "[CV] n_estimators=1200, min_samples_split=2, max_features=sqrt, max_depth=4 \n",
      "[CV]  n_estimators=1200, min_samples_split=2, max_features=sqrt, max_depth=4, total=  21.6s\n",
      "[CV] n_estimators=500, min_samples_split=20, max_features=sqrt, max_depth=15 \n",
      "[CV]  n_estimators=500, min_samples_split=20, max_features=sqrt, max_depth=15, total=  20.3s\n",
      "[CV] n_estimators=500, min_samples_split=20, max_features=sqrt, max_depth=15 \n",
      "[CV]  n_estimators=500, min_samples_split=20, max_features=sqrt, max_depth=15, total=  20.4s\n",
      "[CV] n_estimators=500, min_samples_split=20, max_features=sqrt, max_depth=15 \n",
      "[CV]  n_estimators=500, min_samples_split=20, max_features=sqrt, max_depth=15, total=  20.4s\n",
      "[CV] n_estimators=500, min_samples_split=20, max_features=sqrt, max_depth=15 \n",
      "[CV]  n_estimators=500, min_samples_split=20, max_features=sqrt, max_depth=15, total=  20.3s\n",
      "[CV] n_estimators=800, min_samples_split=5, max_features=auto, max_depth=20 \n",
      "[CV]  n_estimators=800, min_samples_split=5, max_features=auto, max_depth=20, total=  38.5s\n",
      "[CV] n_estimators=800, min_samples_split=5, max_features=auto, max_depth=20 \n",
      "[CV]  n_estimators=800, min_samples_split=5, max_features=auto, max_depth=20, total=  38.0s\n",
      "[CV] n_estimators=800, min_samples_split=5, max_features=auto, max_depth=20 \n",
      "[CV]  n_estimators=800, min_samples_split=5, max_features=auto, max_depth=20, total=  38.6s\n",
      "[CV] n_estimators=800, min_samples_split=5, max_features=auto, max_depth=20 \n",
      "[CV]  n_estimators=800, min_samples_split=5, max_features=auto, max_depth=20, total=  38.2s\n",
      "[CV] n_estimators=1200, min_samples_split=2, max_features=sqrt, max_depth=15 \n",
      "[CV]  n_estimators=1200, min_samples_split=2, max_features=sqrt, max_depth=15, total=  51.2s\n",
      "[CV] n_estimators=1200, min_samples_split=2, max_features=sqrt, max_depth=15 \n",
      "[CV]  n_estimators=1200, min_samples_split=2, max_features=sqrt, max_depth=15, total=  51.1s\n",
      "[CV] n_estimators=1200, min_samples_split=2, max_features=sqrt, max_depth=15 \n",
      "[CV]  n_estimators=1200, min_samples_split=2, max_features=sqrt, max_depth=15, total=  50.5s\n",
      "[CV] n_estimators=1200, min_samples_split=2, max_features=sqrt, max_depth=15 \n",
      "[CV]  n_estimators=1200, min_samples_split=2, max_features=sqrt, max_depth=15, total=  50.9s\n",
      "[CV] n_estimators=300, min_samples_split=2, max_features=sqrt, max_depth=4 \n",
      "[CV]  n_estimators=300, min_samples_split=2, max_features=sqrt, max_depth=4, total=   5.2s\n",
      "[CV] n_estimators=300, min_samples_split=2, max_features=sqrt, max_depth=4 \n",
      "[CV]  n_estimators=300, min_samples_split=2, max_features=sqrt, max_depth=4, total=   5.2s\n",
      "[CV] n_estimators=300, min_samples_split=2, max_features=sqrt, max_depth=4 \n",
      "[CV]  n_estimators=300, min_samples_split=2, max_features=sqrt, max_depth=4, total=   5.1s\n",
      "[CV] n_estimators=300, min_samples_split=2, max_features=sqrt, max_depth=4 \n",
      "[CV]  n_estimators=300, min_samples_split=2, max_features=sqrt, max_depth=4, total=   5.4s\n",
      "[CV] n_estimators=2000, min_samples_split=20, max_features=auto, max_depth=15 \n",
      "[CV]  n_estimators=2000, min_samples_split=20, max_features=auto, max_depth=15, total= 1.4min\n",
      "[CV] n_estimators=2000, min_samples_split=20, max_features=auto, max_depth=15 \n",
      "[CV]  n_estimators=2000, min_samples_split=20, max_features=auto, max_depth=15, total= 1.4min\n",
      "[CV] n_estimators=2000, min_samples_split=20, max_features=auto, max_depth=15 \n",
      "[CV]  n_estimators=2000, min_samples_split=20, max_features=auto, max_depth=15, total= 1.4min\n",
      "[CV] n_estimators=2000, min_samples_split=20, max_features=auto, max_depth=15 \n",
      "[CV]  n_estimators=2000, min_samples_split=20, max_features=auto, max_depth=15, total= 1.4min\n",
      "[CV] n_estimators=500, min_samples_split=20, max_features=sqrt, max_depth=4 \n",
      "[CV]  n_estimators=500, min_samples_split=20, max_features=sqrt, max_depth=4, total=   9.0s\n",
      "[CV] n_estimators=500, min_samples_split=20, max_features=sqrt, max_depth=4 \n",
      "[CV]  n_estimators=500, min_samples_split=20, max_features=sqrt, max_depth=4, total=   9.1s\n",
      "[CV] n_estimators=500, min_samples_split=20, max_features=sqrt, max_depth=4 \n",
      "[CV]  n_estimators=500, min_samples_split=20, max_features=sqrt, max_depth=4, total=   9.0s\n",
      "[CV] n_estimators=500, min_samples_split=20, max_features=sqrt, max_depth=4 \n",
      "[CV]  n_estimators=500, min_samples_split=20, max_features=sqrt, max_depth=4, total=   9.0s\n",
      "[CV] n_estimators=2000, min_samples_split=2, max_features=sqrt, max_depth=15 \n",
      "[CV]  n_estimators=2000, min_samples_split=2, max_features=sqrt, max_depth=15, total= 1.4min\n",
      "[CV] n_estimators=2000, min_samples_split=2, max_features=sqrt, max_depth=15 \n",
      "[CV]  n_estimators=2000, min_samples_split=2, max_features=sqrt, max_depth=15, total= 1.4min\n",
      "[CV] n_estimators=2000, min_samples_split=2, max_features=sqrt, max_depth=15 \n",
      "[CV]  n_estimators=2000, min_samples_split=2, max_features=sqrt, max_depth=15, total= 1.4min\n",
      "[CV] n_estimators=2000, min_samples_split=2, max_features=sqrt, max_depth=15 \n",
      "[CV]  n_estimators=2000, min_samples_split=2, max_features=sqrt, max_depth=15, total= 1.4min\n",
      "[CV] n_estimators=100, min_samples_split=15, max_features=auto, max_depth=6 \n",
      "[CV]  n_estimators=100, min_samples_split=15, max_features=auto, max_depth=6, total=   2.3s\n",
      "[CV] n_estimators=100, min_samples_split=15, max_features=auto, max_depth=6 \n",
      "[CV]  n_estimators=100, min_samples_split=15, max_features=auto, max_depth=6, total=   2.3s\n",
      "[CV] n_estimators=100, min_samples_split=15, max_features=auto, max_depth=6 \n",
      "[CV]  n_estimators=100, min_samples_split=15, max_features=auto, max_depth=6, total=   2.3s\n",
      "[CV] n_estimators=100, min_samples_split=15, max_features=auto, max_depth=6 \n",
      "[CV]  n_estimators=100, min_samples_split=15, max_features=auto, max_depth=6, total=   2.5s\n",
      "[CV] n_estimators=1200, min_samples_split=15, max_features=sqrt, max_depth=15 \n",
      "[CV]  n_estimators=1200, min_samples_split=15, max_features=sqrt, max_depth=15, total=  48.4s\n",
      "[CV] n_estimators=1200, min_samples_split=15, max_features=sqrt, max_depth=15 \n",
      "[CV]  n_estimators=1200, min_samples_split=15, max_features=sqrt, max_depth=15, total=  48.4s\n",
      "[CV] n_estimators=1200, min_samples_split=15, max_features=sqrt, max_depth=15 \n",
      "[CV]  n_estimators=1200, min_samples_split=15, max_features=sqrt, max_depth=15, total=  49.1s\n",
      "[CV] n_estimators=1200, min_samples_split=15, max_features=sqrt, max_depth=15 \n",
      "[CV]  n_estimators=1200, min_samples_split=15, max_features=sqrt, max_depth=15, total=  49.1s\n",
      "[CV] n_estimators=800, min_samples_split=20, max_features=sqrt, max_depth=6 \n",
      "[CV]  n_estimators=800, min_samples_split=20, max_features=sqrt, max_depth=6, total=  18.3s\n",
      "[CV] n_estimators=800, min_samples_split=20, max_features=sqrt, max_depth=6 \n",
      "[CV]  n_estimators=800, min_samples_split=20, max_features=sqrt, max_depth=6, total=  18.4s\n",
      "[CV] n_estimators=800, min_samples_split=20, max_features=sqrt, max_depth=6 \n",
      "[CV]  n_estimators=800, min_samples_split=20, max_features=sqrt, max_depth=6, total=  18.3s\n",
      "[CV] n_estimators=800, min_samples_split=20, max_features=sqrt, max_depth=6 \n",
      "[CV]  n_estimators=800, min_samples_split=20, max_features=sqrt, max_depth=6, total=  18.8s\n",
      "[CV] n_estimators=1500, min_samples_split=15, max_features=sqrt, max_depth=6 \n",
      "[CV]  n_estimators=1500, min_samples_split=15, max_features=sqrt, max_depth=6, total=  33.8s\n",
      "[CV] n_estimators=1500, min_samples_split=15, max_features=sqrt, max_depth=6 \n",
      "[CV]  n_estimators=1500, min_samples_split=15, max_features=sqrt, max_depth=6, total=  34.0s\n",
      "[CV] n_estimators=1500, min_samples_split=15, max_features=sqrt, max_depth=6 \n",
      "[CV]  n_estimators=1500, min_samples_split=15, max_features=sqrt, max_depth=6, total=  34.3s\n",
      "[CV] n_estimators=1500, min_samples_split=15, max_features=sqrt, max_depth=6 \n",
      "[CV]  n_estimators=1500, min_samples_split=15, max_features=sqrt, max_depth=6, total=  34.9s\n",
      "[CV] n_estimators=2000, min_samples_split=2, max_features=sqrt, max_depth=8 \n",
      "[CV]  n_estimators=2000, min_samples_split=2, max_features=sqrt, max_depth=8, total=  54.5s\n",
      "[CV] n_estimators=2000, min_samples_split=2, max_features=sqrt, max_depth=8 \n",
      "[CV]  n_estimators=2000, min_samples_split=2, max_features=sqrt, max_depth=8, total=  54.5s\n",
      "[CV] n_estimators=2000, min_samples_split=2, max_features=sqrt, max_depth=8 \n",
      "[CV]  n_estimators=2000, min_samples_split=2, max_features=sqrt, max_depth=8, total=  54.2s\n",
      "[CV] n_estimators=2000, min_samples_split=2, max_features=sqrt, max_depth=8 \n",
      "[CV]  n_estimators=2000, min_samples_split=2, max_features=sqrt, max_depth=8, total=  54.6s\n",
      "[CV] n_estimators=800, min_samples_split=5, max_features=sqrt, max_depth=6 \n",
      "[CV]  n_estimators=800, min_samples_split=5, max_features=sqrt, max_depth=6, total=  18.1s\n",
      "[CV] n_estimators=800, min_samples_split=5, max_features=sqrt, max_depth=6 \n",
      "[CV]  n_estimators=800, min_samples_split=5, max_features=sqrt, max_depth=6, total=  18.1s\n",
      "[CV] n_estimators=800, min_samples_split=5, max_features=sqrt, max_depth=6 \n",
      "[CV]  n_estimators=800, min_samples_split=5, max_features=sqrt, max_depth=6, total=  18.6s\n",
      "[CV] n_estimators=800, min_samples_split=5, max_features=sqrt, max_depth=6 \n",
      "[CV]  n_estimators=800, min_samples_split=5, max_features=sqrt, max_depth=6, total=  18.4s\n",
      "[CV] n_estimators=800, min_samples_split=10, max_features=sqrt, max_depth=4 \n",
      "[CV]  n_estimators=800, min_samples_split=10, max_features=sqrt, max_depth=4, total=  14.3s\n",
      "[CV] n_estimators=800, min_samples_split=10, max_features=sqrt, max_depth=4 \n",
      "[CV]  n_estimators=800, min_samples_split=10, max_features=sqrt, max_depth=4, total=  14.0s\n",
      "[CV] n_estimators=800, min_samples_split=10, max_features=sqrt, max_depth=4 \n",
      "[CV]  n_estimators=800, min_samples_split=10, max_features=sqrt, max_depth=4, total=  14.2s\n",
      "[CV] n_estimators=800, min_samples_split=10, max_features=sqrt, max_depth=4 \n",
      "[CV]  n_estimators=800, min_samples_split=10, max_features=sqrt, max_depth=4, total=  14.0s\n",
      "[CV] n_estimators=1500, min_samples_split=2, max_features=sqrt, max_depth=20 \n",
      "[CV]  n_estimators=1500, min_samples_split=2, max_features=sqrt, max_depth=20, total= 1.2min\n",
      "[CV] n_estimators=1500, min_samples_split=2, max_features=sqrt, max_depth=20 \n",
      "[CV]  n_estimators=1500, min_samples_split=2, max_features=sqrt, max_depth=20, total= 1.2min\n",
      "[CV] n_estimators=1500, min_samples_split=2, max_features=sqrt, max_depth=20 \n",
      "[CV]  n_estimators=1500, min_samples_split=2, max_features=sqrt, max_depth=20, total= 1.2min\n",
      "[CV] n_estimators=1500, min_samples_split=2, max_features=sqrt, max_depth=20 \n",
      "[CV]  n_estimators=1500, min_samples_split=2, max_features=sqrt, max_depth=20, total= 1.2min\n",
      "[CV] n_estimators=1200, min_samples_split=30, max_features=sqrt, max_depth=20 \n",
      "[CV]  n_estimators=1200, min_samples_split=30, max_features=sqrt, max_depth=20, total=  51.4s\n",
      "[CV] n_estimators=1200, min_samples_split=30, max_features=sqrt, max_depth=20 \n",
      "[CV]  n_estimators=1200, min_samples_split=30, max_features=sqrt, max_depth=20, total=  50.9s\n",
      "[CV] n_estimators=1200, min_samples_split=30, max_features=sqrt, max_depth=20 \n",
      "[CV]  n_estimators=1200, min_samples_split=30, max_features=sqrt, max_depth=20, total=  52.0s\n",
      "[CV] n_estimators=1200, min_samples_split=30, max_features=sqrt, max_depth=20 \n",
      "[CV]  n_estimators=1200, min_samples_split=30, max_features=sqrt, max_depth=20, total=  51.6s\n"
     ]
    },
    {
     "name": "stderr",
     "output_type": "stream",
     "text": [
      "[Parallel(n_jobs=-1)]: Done 120 out of 120 | elapsed: 74.9min finished\n"
     ]
    },
    {
     "data": {
      "text/plain": [
       "RandomizedSearchCV(cv=4, error_score='raise',\n",
       "          estimator=RandomForestClassifier(bootstrap=True, class_weight=None, criterion='gini',\n",
       "            max_depth=None, max_features='auto', max_leaf_nodes=None,\n",
       "            min_impurity_decrease=0.0, min_impurity_split=None,\n",
       "            min_samples_leaf=1, min_samples_split=2,\n",
       "            min_weight_fraction_leaf=0.0, n_estimators=10, n_jobs=1,\n",
       "            oob_score=False, random_state=None, verbose=0,\n",
       "            warm_start=False),\n",
       "          fit_params=None, iid=True, n_iter=30, n_jobs=-1,\n",
       "          param_distributions={'n_estimators': [100, 300, 500, 800, 1200, 1500, 2000], 'max_depth': [2, 4, 6, 8, 10, 15, 20], 'min_samples_split': [2, 5, 10, 15, 20, 30, 50], 'max_features': ['auto', 'sqrt']},\n",
       "          pre_dispatch='2*n_jobs', random_state=77, refit=True,\n",
       "          return_train_score='warn', scoring=None, verbose=2)"
      ]
     },
     "execution_count": 13,
     "metadata": {},
     "output_type": "execute_result"
    }
   ],
   "source": [
    "rf_base = RandomForestClassifier(criterion = 'gini')\n",
    "rf_random = RandomizedSearchCV(estimator = rf_base,\n",
    "                               param_distributions = random_grid,\n",
    "                               n_iter = 30, cv = 4,\n",
    "                               verbose=2,\n",
    "                               random_state=77, n_jobs = -1)\n",
    "rf_random.fit(X_train, y_train)"
   ]
  },
  {
   "cell_type": "code",
   "execution_count": 14,
   "metadata": {},
   "outputs": [
    {
     "data": {
      "text/plain": [
       "{'n_estimators': 500,\n",
       " 'min_samples_split': 20,\n",
       " 'max_features': 'sqrt',\n",
       " 'max_depth': 15}"
      ]
     },
     "execution_count": 14,
     "metadata": {},
     "output_type": "execute_result"
    }
   ],
   "source": [
    "rf_random.best_params_"
   ]
  },
  {
   "cell_type": "code",
   "execution_count": 16,
   "metadata": {},
   "outputs": [],
   "source": [
    "param_grid = {\n",
    "    'n_estimators': [500, 800, 1000],\n",
    "    'max_depth': [12, 15, 18],\n",
    "    'min_samples_split': [15, 20, 25, 30]\n",
    "}"
   ]
  },
  {
   "cell_type": "code",
   "execution_count": 17,
   "metadata": {},
   "outputs": [
    {
     "name": "stdout",
     "output_type": "stream",
     "text": [
      "Fitting 4 folds for each of 36 candidates, totalling 144 fits\n",
      "[CV] max_depth=12, min_samples_split=15, n_estimators=500 ............\n",
      "[CV]  max_depth=12, min_samples_split=15, n_estimators=500, total=  17.5s\n",
      "[CV] max_depth=12, min_samples_split=15, n_estimators=500 ............\n"
     ]
    },
    {
     "name": "stderr",
     "output_type": "stream",
     "text": [
      "[Parallel(n_jobs=-1)]: Done   1 out of   1 | elapsed:   19.9s remaining:    0.0s\n"
     ]
    },
    {
     "name": "stdout",
     "output_type": "stream",
     "text": [
      "[CV]  max_depth=12, min_samples_split=15, n_estimators=500, total=  17.7s\n",
      "[CV] max_depth=12, min_samples_split=15, n_estimators=500 ............\n",
      "[CV]  max_depth=12, min_samples_split=15, n_estimators=500, total=  17.1s\n",
      "[CV] max_depth=12, min_samples_split=15, n_estimators=500 ............\n",
      "[CV]  max_depth=12, min_samples_split=15, n_estimators=500, total=  17.6s\n",
      "[CV] max_depth=12, min_samples_split=15, n_estimators=800 ............\n",
      "[CV]  max_depth=12, min_samples_split=15, n_estimators=800, total=  27.9s\n",
      "[CV] max_depth=12, min_samples_split=15, n_estimators=800 ............\n",
      "[CV]  max_depth=12, min_samples_split=15, n_estimators=800, total=  27.8s\n",
      "[CV] max_depth=12, min_samples_split=15, n_estimators=800 ............\n",
      "[CV]  max_depth=12, min_samples_split=15, n_estimators=800, total=  27.7s\n",
      "[CV] max_depth=12, min_samples_split=15, n_estimators=800 ............\n",
      "[CV]  max_depth=12, min_samples_split=15, n_estimators=800, total=  27.3s\n",
      "[CV] max_depth=12, min_samples_split=15, n_estimators=1000 ...........\n",
      "[CV]  max_depth=12, min_samples_split=15, n_estimators=1000, total=  34.4s\n",
      "[CV] max_depth=12, min_samples_split=15, n_estimators=1000 ...........\n",
      "[CV]  max_depth=12, min_samples_split=15, n_estimators=1000, total=  33.6s\n",
      "[CV] max_depth=12, min_samples_split=15, n_estimators=1000 ...........\n",
      "[CV]  max_depth=12, min_samples_split=15, n_estimators=1000, total=  34.2s\n",
      "[CV] max_depth=12, min_samples_split=15, n_estimators=1000 ...........\n",
      "[CV]  max_depth=12, min_samples_split=15, n_estimators=1000, total=  34.5s\n",
      "[CV] max_depth=12, min_samples_split=20, n_estimators=500 ............\n",
      "[CV]  max_depth=12, min_samples_split=20, n_estimators=500, total=  17.1s\n",
      "[CV] max_depth=12, min_samples_split=20, n_estimators=500 ............\n",
      "[CV]  max_depth=12, min_samples_split=20, n_estimators=500, total=  17.2s\n",
      "[CV] max_depth=12, min_samples_split=20, n_estimators=500 ............\n",
      "[CV]  max_depth=12, min_samples_split=20, n_estimators=500, total=  16.9s\n",
      "[CV] max_depth=12, min_samples_split=20, n_estimators=500 ............\n",
      "[CV]  max_depth=12, min_samples_split=20, n_estimators=500, total=  16.6s\n",
      "[CV] max_depth=12, min_samples_split=20, n_estimators=800 ............\n",
      "[CV]  max_depth=12, min_samples_split=20, n_estimators=800, total=  27.0s\n",
      "[CV] max_depth=12, min_samples_split=20, n_estimators=800 ............\n",
      "[CV]  max_depth=12, min_samples_split=20, n_estimators=800, total=  27.5s\n",
      "[CV] max_depth=12, min_samples_split=20, n_estimators=800 ............\n",
      "[CV]  max_depth=12, min_samples_split=20, n_estimators=800, total=  27.3s\n",
      "[CV] max_depth=12, min_samples_split=20, n_estimators=800 ............\n",
      "[CV]  max_depth=12, min_samples_split=20, n_estimators=800, total=  27.0s\n",
      "[CV] max_depth=12, min_samples_split=20, n_estimators=1000 ...........\n",
      "[CV]  max_depth=12, min_samples_split=20, n_estimators=1000, total=  34.4s\n",
      "[CV] max_depth=12, min_samples_split=20, n_estimators=1000 ...........\n",
      "[CV]  max_depth=12, min_samples_split=20, n_estimators=1000, total=  34.2s\n",
      "[CV] max_depth=12, min_samples_split=20, n_estimators=1000 ...........\n",
      "[CV]  max_depth=12, min_samples_split=20, n_estimators=1000, total=  34.2s\n",
      "[CV] max_depth=12, min_samples_split=20, n_estimators=1000 ...........\n",
      "[CV]  max_depth=12, min_samples_split=20, n_estimators=1000, total=  34.4s\n",
      "[CV] max_depth=12, min_samples_split=25, n_estimators=500 ............\n",
      "[CV]  max_depth=12, min_samples_split=25, n_estimators=500, total=  17.1s\n",
      "[CV] max_depth=12, min_samples_split=25, n_estimators=500 ............\n",
      "[CV]  max_depth=12, min_samples_split=25, n_estimators=500, total=  17.0s\n",
      "[CV] max_depth=12, min_samples_split=25, n_estimators=500 ............\n",
      "[CV]  max_depth=12, min_samples_split=25, n_estimators=500, total=  17.0s\n",
      "[CV] max_depth=12, min_samples_split=25, n_estimators=500 ............\n",
      "[CV]  max_depth=12, min_samples_split=25, n_estimators=500, total=  16.8s\n",
      "[CV] max_depth=12, min_samples_split=25, n_estimators=800 ............\n",
      "[CV]  max_depth=12, min_samples_split=25, n_estimators=800, total=  27.6s\n",
      "[CV] max_depth=12, min_samples_split=25, n_estimators=800 ............\n",
      "[CV]  max_depth=12, min_samples_split=25, n_estimators=800, total=  27.9s\n",
      "[CV] max_depth=12, min_samples_split=25, n_estimators=800 ............\n",
      "[CV]  max_depth=12, min_samples_split=25, n_estimators=800, total=  27.4s\n",
      "[CV] max_depth=12, min_samples_split=25, n_estimators=800 ............\n",
      "[CV]  max_depth=12, min_samples_split=25, n_estimators=800, total=  26.7s\n",
      "[CV] max_depth=12, min_samples_split=25, n_estimators=1000 ...........\n",
      "[CV]  max_depth=12, min_samples_split=25, n_estimators=1000, total=  34.1s\n",
      "[CV] max_depth=12, min_samples_split=25, n_estimators=1000 ...........\n",
      "[CV]  max_depth=12, min_samples_split=25, n_estimators=1000, total=  34.7s\n",
      "[CV] max_depth=12, min_samples_split=25, n_estimators=1000 ...........\n",
      "[CV]  max_depth=12, min_samples_split=25, n_estimators=1000, total=  34.5s\n",
      "[CV] max_depth=12, min_samples_split=25, n_estimators=1000 ...........\n",
      "[CV]  max_depth=12, min_samples_split=25, n_estimators=1000, total=  34.0s\n",
      "[CV] max_depth=12, min_samples_split=30, n_estimators=500 ............\n",
      "[CV]  max_depth=12, min_samples_split=30, n_estimators=500, total=  16.9s\n",
      "[CV] max_depth=12, min_samples_split=30, n_estimators=500 ............\n",
      "[CV]  max_depth=12, min_samples_split=30, n_estimators=500, total=  17.2s\n",
      "[CV] max_depth=12, min_samples_split=30, n_estimators=500 ............\n",
      "[CV]  max_depth=12, min_samples_split=30, n_estimators=500, total=  16.8s\n",
      "[CV] max_depth=12, min_samples_split=30, n_estimators=500 ............\n",
      "[CV]  max_depth=12, min_samples_split=30, n_estimators=500, total=  17.1s\n",
      "[CV] max_depth=12, min_samples_split=30, n_estimators=800 ............\n",
      "[CV]  max_depth=12, min_samples_split=30, n_estimators=800, total=  27.5s\n",
      "[CV] max_depth=12, min_samples_split=30, n_estimators=800 ............\n",
      "[CV]  max_depth=12, min_samples_split=30, n_estimators=800, total=  27.4s\n",
      "[CV] max_depth=12, min_samples_split=30, n_estimators=800 ............\n",
      "[CV]  max_depth=12, min_samples_split=30, n_estimators=800, total=  27.4s\n",
      "[CV] max_depth=12, min_samples_split=30, n_estimators=800 ............\n",
      "[CV]  max_depth=12, min_samples_split=30, n_estimators=800, total=  28.0s\n",
      "[CV] max_depth=12, min_samples_split=30, n_estimators=1000 ...........\n",
      "[CV]  max_depth=12, min_samples_split=30, n_estimators=1000, total=  34.1s\n",
      "[CV] max_depth=12, min_samples_split=30, n_estimators=1000 ...........\n",
      "[CV]  max_depth=12, min_samples_split=30, n_estimators=1000, total=  34.0s\n",
      "[CV] max_depth=12, min_samples_split=30, n_estimators=1000 ...........\n",
      "[CV]  max_depth=12, min_samples_split=30, n_estimators=1000, total=  34.2s\n",
      "[CV] max_depth=12, min_samples_split=30, n_estimators=1000 ...........\n",
      "[CV]  max_depth=12, min_samples_split=30, n_estimators=1000, total=  34.4s\n",
      "[CV] max_depth=15, min_samples_split=15, n_estimators=500 ............\n",
      "[CV]  max_depth=15, min_samples_split=15, n_estimators=500, total=  19.7s\n",
      "[CV] max_depth=15, min_samples_split=15, n_estimators=500 ............\n",
      "[CV]  max_depth=15, min_samples_split=15, n_estimators=500, total=  19.1s\n",
      "[CV] max_depth=15, min_samples_split=15, n_estimators=500 ............\n",
      "[CV]  max_depth=15, min_samples_split=15, n_estimators=500, total=  19.8s\n",
      "[CV] max_depth=15, min_samples_split=15, n_estimators=500 ............\n",
      "[CV]  max_depth=15, min_samples_split=15, n_estimators=500, total=  19.1s\n",
      "[CV] max_depth=15, min_samples_split=15, n_estimators=800 ............\n",
      "[CV]  max_depth=15, min_samples_split=15, n_estimators=800, total=  31.2s\n",
      "[CV] max_depth=15, min_samples_split=15, n_estimators=800 ............\n",
      "[CV]  max_depth=15, min_samples_split=15, n_estimators=800, total=  31.1s\n",
      "[CV] max_depth=15, min_samples_split=15, n_estimators=800 ............\n",
      "[CV]  max_depth=15, min_samples_split=15, n_estimators=800, total=  31.4s\n",
      "[CV] max_depth=15, min_samples_split=15, n_estimators=800 ............\n",
      "[CV]  max_depth=15, min_samples_split=15, n_estimators=800, total=  31.1s\n",
      "[CV] max_depth=15, min_samples_split=15, n_estimators=1000 ...........\n",
      "[CV]  max_depth=15, min_samples_split=15, n_estimators=1000, total=  39.0s\n",
      "[CV] max_depth=15, min_samples_split=15, n_estimators=1000 ...........\n",
      "[CV]  max_depth=15, min_samples_split=15, n_estimators=1000, total=  38.9s\n",
      "[CV] max_depth=15, min_samples_split=15, n_estimators=1000 ...........\n",
      "[CV]  max_depth=15, min_samples_split=15, n_estimators=1000, total=  38.6s\n",
      "[CV] max_depth=15, min_samples_split=15, n_estimators=1000 ...........\n",
      "[CV]  max_depth=15, min_samples_split=15, n_estimators=1000, total=  38.7s\n",
      "[CV] max_depth=15, min_samples_split=20, n_estimators=500 ............\n",
      "[CV]  max_depth=15, min_samples_split=20, n_estimators=500, total=  19.0s\n",
      "[CV] max_depth=15, min_samples_split=20, n_estimators=500 ............\n",
      "[CV]  max_depth=15, min_samples_split=20, n_estimators=500, total=  19.1s\n",
      "[CV] max_depth=15, min_samples_split=20, n_estimators=500 ............\n",
      "[CV]  max_depth=15, min_samples_split=20, n_estimators=500, total=  19.2s\n",
      "[CV] max_depth=15, min_samples_split=20, n_estimators=500 ............\n",
      "[CV]  max_depth=15, min_samples_split=20, n_estimators=500, total=  18.9s\n",
      "[CV] max_depth=15, min_samples_split=20, n_estimators=800 ............\n",
      "[CV]  max_depth=15, min_samples_split=20, n_estimators=800, total=  31.0s\n",
      "[CV] max_depth=15, min_samples_split=20, n_estimators=800 ............\n",
      "[CV]  max_depth=15, min_samples_split=20, n_estimators=800, total=  30.7s\n",
      "[CV] max_depth=15, min_samples_split=20, n_estimators=800 ............\n",
      "[CV]  max_depth=15, min_samples_split=20, n_estimators=800, total=  30.5s\n",
      "[CV] max_depth=15, min_samples_split=20, n_estimators=800 ............\n",
      "[CV]  max_depth=15, min_samples_split=20, n_estimators=800, total=  31.2s\n",
      "[CV] max_depth=15, min_samples_split=20, n_estimators=1000 ...........\n",
      "[CV]  max_depth=15, min_samples_split=20, n_estimators=1000, total=  37.8s\n",
      "[CV] max_depth=15, min_samples_split=20, n_estimators=1000 ...........\n",
      "[CV]  max_depth=15, min_samples_split=20, n_estimators=1000, total=  38.1s\n",
      "[CV] max_depth=15, min_samples_split=20, n_estimators=1000 ...........\n",
      "[CV]  max_depth=15, min_samples_split=20, n_estimators=1000, total=  38.2s\n",
      "[CV] max_depth=15, min_samples_split=20, n_estimators=1000 ...........\n",
      "[CV]  max_depth=15, min_samples_split=20, n_estimators=1000, total=  38.5s\n",
      "[CV] max_depth=15, min_samples_split=25, n_estimators=500 ............\n",
      "[CV]  max_depth=15, min_samples_split=25, n_estimators=500, total=  18.8s\n",
      "[CV] max_depth=15, min_samples_split=25, n_estimators=500 ............\n",
      "[CV]  max_depth=15, min_samples_split=25, n_estimators=500, total=  19.2s\n",
      "[CV] max_depth=15, min_samples_split=25, n_estimators=500 ............\n",
      "[CV]  max_depth=15, min_samples_split=25, n_estimators=500, total=  19.0s\n",
      "[CV] max_depth=15, min_samples_split=25, n_estimators=500 ............\n",
      "[CV]  max_depth=15, min_samples_split=25, n_estimators=500, total=  18.9s\n",
      "[CV] max_depth=15, min_samples_split=25, n_estimators=800 ............\n",
      "[CV]  max_depth=15, min_samples_split=25, n_estimators=800, total=  30.1s\n",
      "[CV] max_depth=15, min_samples_split=25, n_estimators=800 ............\n",
      "[CV]  max_depth=15, min_samples_split=25, n_estimators=800, total=  31.3s\n",
      "[CV] max_depth=15, min_samples_split=25, n_estimators=800 ............\n",
      "[CV]  max_depth=15, min_samples_split=25, n_estimators=800, total=  30.7s\n",
      "[CV] max_depth=15, min_samples_split=25, n_estimators=800 ............\n",
      "[CV]  max_depth=15, min_samples_split=25, n_estimators=800, total=  30.2s\n",
      "[CV] max_depth=15, min_samples_split=25, n_estimators=1000 ...........\n",
      "[CV]  max_depth=15, min_samples_split=25, n_estimators=1000, total=  38.0s\n",
      "[CV] max_depth=15, min_samples_split=25, n_estimators=1000 ...........\n",
      "[CV]  max_depth=15, min_samples_split=25, n_estimators=1000, total=  38.5s\n",
      "[CV] max_depth=15, min_samples_split=25, n_estimators=1000 ...........\n",
      "[CV]  max_depth=15, min_samples_split=25, n_estimators=1000, total=  37.0s\n",
      "[CV] max_depth=15, min_samples_split=25, n_estimators=1000 ...........\n",
      "[CV]  max_depth=15, min_samples_split=25, n_estimators=1000, total=  37.8s\n",
      "[CV] max_depth=15, min_samples_split=30, n_estimators=500 ............\n",
      "[CV]  max_depth=15, min_samples_split=30, n_estimators=500, total=  19.1s\n",
      "[CV] max_depth=15, min_samples_split=30, n_estimators=500 ............\n",
      "[CV]  max_depth=15, min_samples_split=30, n_estimators=500, total=  18.7s\n",
      "[CV] max_depth=15, min_samples_split=30, n_estimators=500 ............\n",
      "[CV]  max_depth=15, min_samples_split=30, n_estimators=500, total=  19.1s\n",
      "[CV] max_depth=15, min_samples_split=30, n_estimators=500 ............\n",
      "[CV]  max_depth=15, min_samples_split=30, n_estimators=500, total=  18.6s\n",
      "[CV] max_depth=15, min_samples_split=30, n_estimators=800 ............\n",
      "[CV]  max_depth=15, min_samples_split=30, n_estimators=800, total=  30.4s\n",
      "[CV] max_depth=15, min_samples_split=30, n_estimators=800 ............\n",
      "[CV]  max_depth=15, min_samples_split=30, n_estimators=800, total=  30.2s\n",
      "[CV] max_depth=15, min_samples_split=30, n_estimators=800 ............\n",
      "[CV]  max_depth=15, min_samples_split=30, n_estimators=800, total=  30.2s\n",
      "[CV] max_depth=15, min_samples_split=30, n_estimators=800 ............\n",
      "[CV]  max_depth=15, min_samples_split=30, n_estimators=800, total=  30.1s\n",
      "[CV] max_depth=15, min_samples_split=30, n_estimators=1000 ...........\n",
      "[CV]  max_depth=15, min_samples_split=30, n_estimators=1000, total=  37.9s\n",
      "[CV] max_depth=15, min_samples_split=30, n_estimators=1000 ...........\n",
      "[CV]  max_depth=15, min_samples_split=30, n_estimators=1000, total=  36.9s\n",
      "[CV] max_depth=15, min_samples_split=30, n_estimators=1000 ...........\n",
      "[CV]  max_depth=15, min_samples_split=30, n_estimators=1000, total=  38.2s\n",
      "[CV] max_depth=15, min_samples_split=30, n_estimators=1000 ...........\n",
      "[CV]  max_depth=15, min_samples_split=30, n_estimators=1000, total=  38.3s\n",
      "[CV] max_depth=18, min_samples_split=15, n_estimators=500 ............\n",
      "[CV]  max_depth=18, min_samples_split=15, n_estimators=500, total=  20.9s\n",
      "[CV] max_depth=18, min_samples_split=15, n_estimators=500 ............\n",
      "[CV]  max_depth=18, min_samples_split=15, n_estimators=500, total=  20.9s\n",
      "[CV] max_depth=18, min_samples_split=15, n_estimators=500 ............\n",
      "[CV]  max_depth=18, min_samples_split=15, n_estimators=500, total=  21.0s\n",
      "[CV] max_depth=18, min_samples_split=15, n_estimators=500 ............\n",
      "[CV]  max_depth=18, min_samples_split=15, n_estimators=500, total=  21.3s\n",
      "[CV] max_depth=18, min_samples_split=15, n_estimators=800 ............\n",
      "[CV]  max_depth=18, min_samples_split=15, n_estimators=800, total=  33.9s\n",
      "[CV] max_depth=18, min_samples_split=15, n_estimators=800 ............\n",
      "[CV]  max_depth=18, min_samples_split=15, n_estimators=800, total=  33.4s\n",
      "[CV] max_depth=18, min_samples_split=15, n_estimators=800 ............\n",
      "[CV]  max_depth=18, min_samples_split=15, n_estimators=800, total=  33.3s\n",
      "[CV] max_depth=18, min_samples_split=15, n_estimators=800 ............\n",
      "[CV]  max_depth=18, min_samples_split=15, n_estimators=800, total=  33.6s\n",
      "[CV] max_depth=18, min_samples_split=15, n_estimators=1000 ...........\n",
      "[CV]  max_depth=18, min_samples_split=15, n_estimators=1000, total=  41.7s\n",
      "[CV] max_depth=18, min_samples_split=15, n_estimators=1000 ...........\n",
      "[CV]  max_depth=18, min_samples_split=15, n_estimators=1000, total=  41.6s\n",
      "[CV] max_depth=18, min_samples_split=15, n_estimators=1000 ...........\n",
      "[CV]  max_depth=18, min_samples_split=15, n_estimators=1000, total=  42.1s\n",
      "[CV] max_depth=18, min_samples_split=15, n_estimators=1000 ...........\n",
      "[CV]  max_depth=18, min_samples_split=15, n_estimators=1000, total=  41.0s\n",
      "[CV] max_depth=18, min_samples_split=20, n_estimators=500 ............\n",
      "[CV]  max_depth=18, min_samples_split=20, n_estimators=500, total=  20.4s\n",
      "[CV] max_depth=18, min_samples_split=20, n_estimators=500 ............\n",
      "[CV]  max_depth=18, min_samples_split=20, n_estimators=500, total=  20.1s\n",
      "[CV] max_depth=18, min_samples_split=20, n_estimators=500 ............\n",
      "[CV]  max_depth=18, min_samples_split=20, n_estimators=500, total=  20.4s\n",
      "[CV] max_depth=18, min_samples_split=20, n_estimators=500 ............\n",
      "[CV]  max_depth=18, min_samples_split=20, n_estimators=500, total=  21.1s\n",
      "[CV] max_depth=18, min_samples_split=20, n_estimators=800 ............\n",
      "[CV]  max_depth=18, min_samples_split=20, n_estimators=800, total=  32.8s\n",
      "[CV] max_depth=18, min_samples_split=20, n_estimators=800 ............\n",
      "[CV]  max_depth=18, min_samples_split=20, n_estimators=800, total=  33.3s\n",
      "[CV] max_depth=18, min_samples_split=20, n_estimators=800 ............\n",
      "[CV]  max_depth=18, min_samples_split=20, n_estimators=800, total=  32.9s\n",
      "[CV] max_depth=18, min_samples_split=20, n_estimators=800 ............\n",
      "[CV]  max_depth=18, min_samples_split=20, n_estimators=800, total=  33.0s\n",
      "[CV] max_depth=18, min_samples_split=20, n_estimators=1000 ...........\n",
      "[CV]  max_depth=18, min_samples_split=20, n_estimators=1000, total=  40.6s\n",
      "[CV] max_depth=18, min_samples_split=20, n_estimators=1000 ...........\n",
      "[CV]  max_depth=18, min_samples_split=20, n_estimators=1000, total=  40.7s\n",
      "[CV] max_depth=18, min_samples_split=20, n_estimators=1000 ...........\n",
      "[CV]  max_depth=18, min_samples_split=20, n_estimators=1000, total=  41.1s\n",
      "[CV] max_depth=18, min_samples_split=20, n_estimators=1000 ...........\n",
      "[CV]  max_depth=18, min_samples_split=20, n_estimators=1000, total=  41.2s\n",
      "[CV] max_depth=18, min_samples_split=25, n_estimators=500 ............\n",
      "[CV]  max_depth=18, min_samples_split=25, n_estimators=500, total=  20.5s\n",
      "[CV] max_depth=18, min_samples_split=25, n_estimators=500 ............\n",
      "[CV]  max_depth=18, min_samples_split=25, n_estimators=500, total=  20.6s\n",
      "[CV] max_depth=18, min_samples_split=25, n_estimators=500 ............\n",
      "[CV]  max_depth=18, min_samples_split=25, n_estimators=500, total=  20.4s\n",
      "[CV] max_depth=18, min_samples_split=25, n_estimators=500 ............\n",
      "[CV]  max_depth=18, min_samples_split=25, n_estimators=500, total=  20.6s\n",
      "[CV] max_depth=18, min_samples_split=25, n_estimators=800 ............\n",
      "[CV]  max_depth=18, min_samples_split=25, n_estimators=800, total=  33.2s\n",
      "[CV] max_depth=18, min_samples_split=25, n_estimators=800 ............\n",
      "[CV]  max_depth=18, min_samples_split=25, n_estimators=800, total=  33.4s\n",
      "[CV] max_depth=18, min_samples_split=25, n_estimators=800 ............\n",
      "[CV]  max_depth=18, min_samples_split=25, n_estimators=800, total=  32.6s\n",
      "[CV] max_depth=18, min_samples_split=25, n_estimators=800 ............\n",
      "[CV]  max_depth=18, min_samples_split=25, n_estimators=800, total=  32.6s\n",
      "[CV] max_depth=18, min_samples_split=25, n_estimators=1000 ...........\n",
      "[CV]  max_depth=18, min_samples_split=25, n_estimators=1000, total=  41.0s\n",
      "[CV] max_depth=18, min_samples_split=25, n_estimators=1000 ...........\n",
      "[CV]  max_depth=18, min_samples_split=25, n_estimators=1000, total=  40.4s\n",
      "[CV] max_depth=18, min_samples_split=25, n_estimators=1000 ...........\n",
      "[CV]  max_depth=18, min_samples_split=25, n_estimators=1000, total=  40.9s\n",
      "[CV] max_depth=18, min_samples_split=25, n_estimators=1000 ...........\n",
      "[CV]  max_depth=18, min_samples_split=25, n_estimators=1000, total=  40.8s\n",
      "[CV] max_depth=18, min_samples_split=30, n_estimators=500 ............\n",
      "[CV]  max_depth=18, min_samples_split=30, n_estimators=500, total=  19.8s\n",
      "[CV] max_depth=18, min_samples_split=30, n_estimators=500 ............\n",
      "[CV]  max_depth=18, min_samples_split=30, n_estimators=500, total=  20.1s\n",
      "[CV] max_depth=18, min_samples_split=30, n_estimators=500 ............\n",
      "[CV]  max_depth=18, min_samples_split=30, n_estimators=500, total=  20.2s\n",
      "[CV] max_depth=18, min_samples_split=30, n_estimators=500 ............\n",
      "[CV]  max_depth=18, min_samples_split=30, n_estimators=500, total=  20.0s\n",
      "[CV] max_depth=18, min_samples_split=30, n_estimators=800 ............\n",
      "[CV]  max_depth=18, min_samples_split=30, n_estimators=800, total=  32.3s\n",
      "[CV] max_depth=18, min_samples_split=30, n_estimators=800 ............\n",
      "[CV]  max_depth=18, min_samples_split=30, n_estimators=800, total=  31.9s\n",
      "[CV] max_depth=18, min_samples_split=30, n_estimators=800 ............\n",
      "[CV]  max_depth=18, min_samples_split=30, n_estimators=800, total=  32.4s\n",
      "[CV] max_depth=18, min_samples_split=30, n_estimators=800 ............\n",
      "[CV]  max_depth=18, min_samples_split=30, n_estimators=800, total=  31.9s\n",
      "[CV] max_depth=18, min_samples_split=30, n_estimators=1000 ...........\n",
      "[CV]  max_depth=18, min_samples_split=30, n_estimators=1000, total=  39.7s\n",
      "[CV] max_depth=18, min_samples_split=30, n_estimators=1000 ...........\n",
      "[CV]  max_depth=18, min_samples_split=30, n_estimators=1000, total=  39.7s\n",
      "[CV] max_depth=18, min_samples_split=30, n_estimators=1000 ...........\n",
      "[CV]  max_depth=18, min_samples_split=30, n_estimators=1000, total=  40.0s\n",
      "[CV] max_depth=18, min_samples_split=30, n_estimators=1000 ...........\n",
      "[CV]  max_depth=18, min_samples_split=30, n_estimators=1000, total=  40.3s\n"
     ]
    },
    {
     "name": "stderr",
     "output_type": "stream",
     "text": [
      "[Parallel(n_jobs=-1)]: Done 144 out of 144 | elapsed: 80.1min finished\n"
     ]
    },
    {
     "data": {
      "text/plain": [
       "GridSearchCV(cv=4, error_score='raise',\n",
       "       estimator=RandomForestClassifier(bootstrap=True, class_weight=None, criterion='gini',\n",
       "            max_depth=None, max_features='sqrt', max_leaf_nodes=None,\n",
       "            min_impurity_decrease=0.0, min_impurity_split=None,\n",
       "            min_samples_leaf=1, min_samples_split=2,\n",
       "            min_weight_fraction_leaf=0.0, n_estimators=10, n_jobs=1,\n",
       "            oob_score=False, random_state=None, verbose=0,\n",
       "            warm_start=False),\n",
       "       fit_params=None, iid=True, n_jobs=-1,\n",
       "       param_grid={'n_estimators': [500, 800, 1000], 'max_depth': [12, 15, 18], 'min_samples_split': [15, 20, 25, 30]},\n",
       "       pre_dispatch='2*n_jobs', refit=True, return_train_score='warn',\n",
       "       scoring=None, verbose=2)"
      ]
     },
     "execution_count": 17,
     "metadata": {},
     "output_type": "execute_result"
    }
   ],
   "source": [
    "# Base model\n",
    "rf_grid = RandomForestClassifier(criterion = 'gini', max_features = 'sqrt')\n",
    "# Instantiate the grid search model\n",
    "grid_rf_search = GridSearchCV(estimator = rf_grid, param_grid = param_grid, \n",
    "                          cv = 4, n_jobs = -1, verbose = 2)\n",
    "grid_rf_search.fit(X_train, y_train)"
   ]
  },
  {
   "cell_type": "code",
   "execution_count": 18,
   "metadata": {},
   "outputs": [
    {
     "data": {
      "text/plain": [
       "{'max_depth': 15, 'min_samples_split': 20, 'n_estimators': 500}"
      ]
     },
     "execution_count": 18,
     "metadata": {},
     "output_type": "execute_result"
    }
   ],
   "source": [
    "grid_rf_search.best_params_"
   ]
  },
  {
   "cell_type": "code",
   "execution_count": 19,
   "metadata": {},
   "outputs": [
    {
     "data": {
      "text/plain": [
       "RandomForestClassifier(bootstrap=True, class_weight=None, criterion='gini',\n",
       "            max_depth=15, max_features='sqrt', max_leaf_nodes=None,\n",
       "            min_impurity_decrease=0.0, min_impurity_split=None,\n",
       "            min_samples_leaf=1, min_samples_split=20,\n",
       "            min_weight_fraction_leaf=0.0, n_estimators=500, n_jobs=1,\n",
       "            oob_score=False, random_state=None, verbose=0,\n",
       "            warm_start=False)"
      ]
     },
     "execution_count": 19,
     "metadata": {},
     "output_type": "execute_result"
    }
   ],
   "source": [
    "# get the best params grid\n",
    "best_rf_grid = grid_rf_search.best_estimator_\n",
    "best_rf_grid"
   ]
  },
  {
   "cell_type": "code",
   "execution_count": 42,
   "metadata": {},
   "outputs": [
    {
     "data": {
      "text/plain": [
       "array([[7485, 1191],\n",
       "       [ 603, 4022]])"
      ]
     },
     "execution_count": 42,
     "metadata": {},
     "output_type": "execute_result"
    }
   ],
   "source": [
    "# confusion matrix\n",
    "y_pred = grid_rf_search.predict(X_test)\n",
    "confusion_matrix(y_test, y_pred)"
   ]
  },
  {
   "cell_type": "code",
   "execution_count": 43,
   "metadata": {},
   "outputs": [
    {
     "name": "stdout",
     "output_type": "stream",
     "text": [
      "Precision: 0.772\n",
      "Recall: 0.870\n",
      "Accuracy: 0.865\n",
      "F1 Score: 0.818\n"
     ]
    }
   ],
   "source": [
    "# metrics\n",
    "print('Precision: %.3f' % precision_score(y_test, y_pred))\n",
    "print('Recall: %.3f' % recall_score(y_test, y_pred))\n",
    "print('Accuracy: %.3f' % accuracy_score(y_test, y_pred))\n",
    "print('F1 Score: %.3f' % f1_score(y_test, y_pred))"
   ]
  },
  {
   "cell_type": "code",
   "execution_count": 48,
   "metadata": {},
   "outputs": [],
   "source": [
    "rf_met = pd.DataFrame([{'precision':precision_score(y_test, y_pred),'recall':recall_score(y_test, y_pred),\n",
    "  'accuracy':accuracy_score(y_test, y_pred),'F1 Score':f1_score(y_test, y_pred)}],index = ['Random Forest'])"
   ]
  },
  {
   "cell_type": "code",
   "execution_count": 25,
   "metadata": {},
   "outputs": [
    {
     "data": {
      "text/html": [
       "<div>\n",
       "<style scoped>\n",
       "    .dataframe tbody tr th:only-of-type {\n",
       "        vertical-align: middle;\n",
       "    }\n",
       "\n",
       "    .dataframe tbody tr th {\n",
       "        vertical-align: top;\n",
       "    }\n",
       "\n",
       "    .dataframe thead th {\n",
       "        text-align: right;\n",
       "    }\n",
       "</style>\n",
       "<table border=\"1\" class=\"dataframe\">\n",
       "  <thead>\n",
       "    <tr style=\"text-align: right;\">\n",
       "      <th></th>\n",
       "      <th>0</th>\n",
       "    </tr>\n",
       "  </thead>\n",
       "  <tbody>\n",
       "    <tr>\n",
       "      <th>trans_amount_comp</th>\n",
       "      <td>0.395914</td>\n",
       "    </tr>\n",
       "    <tr>\n",
       "      <th>total_trans_amount</th>\n",
       "      <td>0.229472</td>\n",
       "    </tr>\n",
       "    <tr>\n",
       "      <th>social</th>\n",
       "      <td>0.057035</td>\n",
       "    </tr>\n",
       "    <tr>\n",
       "      <th>difficulty</th>\n",
       "      <td>0.053886</td>\n",
       "    </tr>\n",
       "    <tr>\n",
       "      <th>duration</th>\n",
       "      <td>0.052493</td>\n",
       "    </tr>\n",
       "    <tr>\n",
       "      <th>reward</th>\n",
       "      <td>0.044034</td>\n",
       "    </tr>\n",
       "    <tr>\n",
       "      <th>informational</th>\n",
       "      <td>0.042287</td>\n",
       "    </tr>\n",
       "    <tr>\n",
       "      <th>income</th>\n",
       "      <td>0.036748</td>\n",
       "    </tr>\n",
       "    <tr>\n",
       "      <th>age</th>\n",
       "      <td>0.028082</td>\n",
       "    </tr>\n",
       "    <tr>\n",
       "      <th>mobile</th>\n",
       "      <td>0.012646</td>\n",
       "    </tr>\n",
       "    <tr>\n",
       "      <th>2018</th>\n",
       "      <td>0.007664</td>\n",
       "    </tr>\n",
       "    <tr>\n",
       "      <th>discount</th>\n",
       "      <td>0.007253</td>\n",
       "    </tr>\n",
       "    <tr>\n",
       "      <th>web</th>\n",
       "      <td>0.006871</td>\n",
       "    </tr>\n",
       "    <tr>\n",
       "      <th>bogo</th>\n",
       "      <td>0.006447</td>\n",
       "    </tr>\n",
       "    <tr>\n",
       "      <th>2016</th>\n",
       "      <td>0.005199</td>\n",
       "    </tr>\n",
       "    <tr>\n",
       "      <th>M</th>\n",
       "      <td>0.002992</td>\n",
       "    </tr>\n",
       "    <tr>\n",
       "      <th>F</th>\n",
       "      <td>0.002797</td>\n",
       "    </tr>\n",
       "    <tr>\n",
       "      <th>2017</th>\n",
       "      <td>0.002125</td>\n",
       "    </tr>\n",
       "    <tr>\n",
       "      <th>2015</th>\n",
       "      <td>0.002007</td>\n",
       "    </tr>\n",
       "    <tr>\n",
       "      <th>2014</th>\n",
       "      <td>0.001717</td>\n",
       "    </tr>\n",
       "    <tr>\n",
       "      <th>2013</th>\n",
       "      <td>0.001250</td>\n",
       "    </tr>\n",
       "    <tr>\n",
       "      <th>O</th>\n",
       "      <td>0.001083</td>\n",
       "    </tr>\n",
       "    <tr>\n",
       "      <th>email</th>\n",
       "      <td>0.000000</td>\n",
       "    </tr>\n",
       "  </tbody>\n",
       "</table>\n",
       "</div>"
      ],
      "text/plain": [
       "                           0\n",
       "trans_amount_comp   0.395914\n",
       "total_trans_amount  0.229472\n",
       "social              0.057035\n",
       "difficulty          0.053886\n",
       "duration            0.052493\n",
       "reward              0.044034\n",
       "informational       0.042287\n",
       "income              0.036748\n",
       "age                 0.028082\n",
       "mobile              0.012646\n",
       "2018                0.007664\n",
       "discount            0.007253\n",
       "web                 0.006871\n",
       "bogo                0.006447\n",
       "2016                0.005199\n",
       "M                   0.002992\n",
       "F                   0.002797\n",
       "2017                0.002125\n",
       "2015                0.002007\n",
       "2014                0.001717\n",
       "2013                0.001250\n",
       "O                   0.001083\n",
       "email               0.000000"
      ]
     },
     "execution_count": 25,
     "metadata": {},
     "output_type": "execute_result"
    }
   ],
   "source": [
    "# feature importance\n",
    "pd.DataFrame(best_rf_grid.feature_importances_, index=X_train.columns).sort_values(by = 0, ascending=False)"
   ]
  },
  {
   "cell_type": "markdown",
   "metadata": {},
   "source": [
    "### KNN"
   ]
  },
  {
   "cell_type": "code",
   "execution_count": 34,
   "metadata": {},
   "outputs": [],
   "source": [
    "# Determine the optimal number of neighbors\n",
    "neighbors = np.arange(1, 30)\n",
    "train_accuracy = np.empty(len(neighbors))\n",
    "test_accuracy = np.empty(len(neighbors))\n",
    " \n",
    "# Loop over K values\n",
    "for i, k in enumerate(neighbors):\n",
    "    knn = KNeighborsClassifier(n_neighbors=k)\n",
    "    knn.fit(X_train, y_train)\n",
    "     \n",
    "    # Compute training and test data accuracy\n",
    "    train_accuracy[i] = knn.score(X_train, y_train)\n",
    "    test_accuracy[i] = knn.score(X_test, y_test)\n"
   ]
  },
  {
   "cell_type": "code",
   "execution_count": 36,
   "metadata": {},
   "outputs": [
    {
     "data": {
      "image/png": "[encoded data removed]",
      "text/plain": [
       "<matplotlib.figure.Figure at 0x7f9b3ad93f28>"
      ]
     },
     "metadata": {
      "needs_background": "light"
     },
     "output_type": "display_data"
    }
   ],
   "source": [
    "# plot the 'accuracy ~ number of neighbors' plot  \n",
    "plt.plot(neighbors, test_accuracy, label = 'Testing dataset Accuracy')\n",
    "plt.plot(neighbors, train_accuracy, label = 'Training dataset Accuracy')\n",
    " \n",
    "plt.legend()\n",
    "plt.xlabel('n_neighbors')\n",
    "plt.ylabel('Accuracy')\n",
    "plt.show()"
   ]
  },
  {
   "cell_type": "markdown",
   "metadata": {},
   "source": [
    "From the plot, we can see that the accuracy of test set stops increasing after K = 15. We pick it as out parameter."
   ]
  },
  {
   "cell_type": "code",
   "execution_count": 49,
   "metadata": {},
   "outputs": [],
   "source": [
    "knn_model = KNeighborsClassifier(n_neighbors=15)\n",
    "# model train\n",
    "knn_model.fit(X_train, y_train)\n",
    "# model fit\n",
    "y_pred = knn_model.predict(X_test)"
   ]
  },
  {
   "cell_type": "code",
   "execution_count": 50,
   "metadata": {},
   "outputs": [
    {
     "name": "stdout",
     "output_type": "stream",
     "text": [
      "Precision: 0.702\n",
      "Recall: 0.895\n",
      "Accuracy: 0.831\n",
      "F1 Score: 0.787\n"
     ]
    }
   ],
   "source": [
    "# metrics\n",
    "print('Precision: %.3f' % precision_score(y_test, y_pred))\n",
    "print('Recall: %.3f' % recall_score(y_test, y_pred))\n",
    "print('Accuracy: %.3f' % accuracy_score(y_test, y_pred))\n",
    "print('F1 Score: %.3f' % f1_score(y_test, y_pred))"
   ]
  },
  {
   "cell_type": "code",
   "execution_count": 51,
   "metadata": {},
   "outputs": [],
   "source": [
    "knn_met = pd.DataFrame([{'precision':precision_score(y_test, y_pred),'recall':recall_score(y_test, y_pred),\n",
    "  'accuracy':accuracy_score(y_test, y_pred),'F1 Score':f1_score(y_test, y_pred)}],index = ['KNN'])"
   ]
  },
  {
   "cell_type": "markdown",
   "metadata": {},
   "source": [
    "### Logistic Regression "
   ]
  },
  {
   "cell_type": "code",
   "execution_count": 52,
   "metadata": {},
   "outputs": [],
   "source": [
    "# build model\n",
    "lr_model = LogisticRegression()\n",
    "# fit model\n",
    "lr_model.fit(X_train, y_train)\n",
    "# make prediction \n",
    "y_pred = lr_model.predict(X_test)"
   ]
  },
  {
   "cell_type": "code",
   "execution_count": 53,
   "metadata": {},
   "outputs": [
    {
     "data": {
      "text/plain": [
       "array([[7454, 1222],\n",
       "       [1895, 2730]])"
      ]
     },
     "execution_count": 53,
     "metadata": {},
     "output_type": "execute_result"
    }
   ],
   "source": [
    "# confusion matrix\n",
    "confusion_matrix(y_test, y_pred)"
   ]
  },
  {
   "cell_type": "code",
   "execution_count": 54,
   "metadata": {},
   "outputs": [
    {
     "name": "stdout",
     "output_type": "stream",
     "text": [
      "Precision: 0.691\n",
      "Recall: 0.590\n",
      "Accuracy: 0.766\n",
      "F1 Score: 0.637\n"
     ]
    }
   ],
   "source": [
    "# metrics\n",
    "print('Precision: %.3f' % precision_score(y_test, y_pred))\n",
    "print('Recall: %.3f' % recall_score(y_test, y_pred))\n",
    "print('Accuracy: %.3f' % accuracy_score(y_test, y_pred))\n",
    "print('F1 Score: %.3f' % f1_score(y_test, y_pred))"
   ]
  },
  {
   "cell_type": "code",
   "execution_count": 56,
   "metadata": {},
   "outputs": [],
   "source": [
    "log_met = pd.DataFrame([{'precision':precision_score(y_test, y_pred),'recall':recall_score(y_test, y_pred),\n",
    "  'accuracy':accuracy_score(y_test, y_pred),'F1 Score':f1_score(y_test, y_pred)}],index = ['Logistic Regression'])"
   ]
  },
  {
   "cell_type": "markdown",
   "metadata": {},
   "source": [
    "### Classification Conclusion"
   ]
  },
  {
   "cell_type": "markdown",
   "metadata": {},
   "source": [
    "From the output metrics, we can see that random forest provides the best results. KNN has a slightly better recall compared to random forest, but is worse concerning other metrics."
   ]
  },
  {
   "cell_type": "code",
   "execution_count": 63,
   "metadata": {},
   "outputs": [
    {
     "data": {
      "text/html": [
       "<div>\n",
       "<style scoped>\n",
       "    .dataframe tbody tr th:only-of-type {\n",
       "        vertical-align: middle;\n",
       "    }\n",
       "\n",
       "    .dataframe tbody tr th {\n",
       "        vertical-align: top;\n",
       "    }\n",
       "\n",
       "    .dataframe thead th {\n",
       "        text-align: right;\n",
       "    }\n",
       "</style>\n",
       "<table border=\"1\" class=\"dataframe\">\n",
       "  <thead>\n",
       "    <tr style=\"text-align: right;\">\n",
       "      <th></th>\n",
       "      <th>F1 Score</th>\n",
       "      <th>accuracy</th>\n",
       "      <th>precision</th>\n",
       "      <th>recall</th>\n",
       "    </tr>\n",
       "  </thead>\n",
       "  <tbody>\n",
       "    <tr>\n",
       "      <th>Random Forest</th>\n",
       "      <td>0.817646</td>\n",
       "      <td>0.865123</td>\n",
       "      <td>0.771533</td>\n",
       "      <td>0.869622</td>\n",
       "    </tr>\n",
       "    <tr>\n",
       "      <th>KNN</th>\n",
       "      <td>0.786923</td>\n",
       "      <td>0.831441</td>\n",
       "      <td>0.702052</td>\n",
       "      <td>0.895135</td>\n",
       "    </tr>\n",
       "    <tr>\n",
       "      <th>Logistic Regression</th>\n",
       "      <td>0.636586</td>\n",
       "      <td>0.765657</td>\n",
       "      <td>0.690789</td>\n",
       "      <td>0.590270</td>\n",
       "    </tr>\n",
       "  </tbody>\n",
       "</table>\n",
       "</div>"
      ],
      "text/plain": [
       "                     F1 Score  accuracy  precision    recall\n",
       "Random Forest        0.817646  0.865123   0.771533  0.869622\n",
       "KNN                  0.786923  0.831441   0.702052  0.895135\n",
       "Logistic Regression  0.636586  0.765657   0.690789  0.590270"
      ]
     },
     "execution_count": 63,
     "metadata": {},
     "output_type": "execute_result"
    }
   ],
   "source": [
    "pd.concat([rf_met, knn_met, log_met], axis = 0)"
   ]
  },
  {
   "cell_type": "markdown",
   "metadata": {},
   "source": [
    "## Part 2: Profit prediction"
   ]
  },
  {
   "cell_type": "markdown",
   "metadata": {},
   "source": [
    "I want to predict the profit for each completed offer. The revenue of an offer is the total transaction amount minus the offer reward amount. I will use multiple machine learning technics and compare their performance."
   ]
  },
  {
   "cell_type": "markdown",
   "metadata": {},
   "source": [
    "### Data set preparation"
   ]
  },
  {
   "cell_type": "code",
   "execution_count": 23,
   "metadata": {},
   "outputs": [],
   "source": [
    "sub = rec_of[rec_of['offer_completed']!=0]\n",
    "sub['profit'] = sub['trans_amount_comp'] - sub['reward_amount']\n",
    "sub = sub[sub['profit'] < 40]\n",
    "col_name = ['difficulty','duration','reward','bogo','discount',\n",
    "            'informational','email','mobile','social','web','age',\n",
    "            'income',2013,2014,2015,2016,2017,2018,'F','M','O']\n",
    "X = sub[col_name]\n",
    "y = sub['profit']"
   ]
  },
  {
   "cell_type": "code",
   "execution_count": 24,
   "metadata": {},
   "outputs": [],
   "source": [
    "X_train, X_test, y_train, y_test = train_test_split(X, y, test_size=0.2, random_state = 77)"
   ]
  },
  {
   "cell_type": "code",
   "execution_count": 25,
   "metadata": {},
   "outputs": [],
   "source": [
    "# scale the data\n",
    "scaler = preprocessing.MinMaxScaler()\n",
    "X_train = scaler.fit_transform(X_train)\n",
    "X_test = scaler.transform(X_test)"
   ]
  },
  {
   "cell_type": "markdown",
   "metadata": {},
   "source": [
    "### Lasso "
   ]
  },
  {
   "cell_type": "code",
   "execution_count": 26,
   "metadata": {},
   "outputs": [
    {
     "name": "stdout",
     "output_type": "stream",
     "text": [
      "MSE training set 65.2\n",
      "MSE test set 64.55\n"
     ]
    }
   ],
   "source": [
    "# run lasso with an arbitrary alpha\n",
    "reg = Lasso(alpha=1)\n",
    "reg.fit(X_train, y_train)\n",
    "# Training data\n",
    "pred_train = reg.predict(X_train)\n",
    "mse_train = mean_squared_error(y_train, pred_train)\n",
    "print('MSE training set', round(mse_train, 2))\n",
    "# Test data\n",
    "pred = reg.predict(X_test)\n",
    "mse_test =mean_squared_error(y_test, pred)\n",
    "print('MSE test set', round(mse_test, 2))"
   ]
  },
  {
   "cell_type": "code",
   "execution_count": 27,
   "metadata": {},
   "outputs": [
    {
     "data": {
      "text/plain": [
       "Text(0.5,1,'Lasso coefficients as a function of alpha')"
      ]
     },
     "execution_count": 27,
     "metadata": {},
     "output_type": "execute_result"
    },
    {
     "data": {
      "image/png": "[encoded data removed]",
      "text/plain": [
       "<matplotlib.figure.Figure at 0x7f9f6e1c0c50>"
      ]
     },
     "metadata": {
      "needs_background": "light"
     },
     "output_type": "display_data"
    }
   ],
   "source": [
    "# see how mse changes as alpha changes \n",
    "alphas = np.linspace(0.001,10,1000)\n",
    "lasso = Lasso(max_iter=10000)\n",
    "coefs = []\n",
    "\n",
    "for a in alphas:\n",
    "    lasso.set_params(alpha=a)\n",
    "    lasso.fit(X_train, y_train)\n",
    "    coefs.append(lasso.coef_)\n",
    "\n",
    "ax = plt.gca()\n",
    "\n",
    "ax.plot(alphas, coefs)\n",
    "ax.set_xscale('log')\n",
    "plt.axis('tight')\n",
    "plt.xlabel('alpha')\n",
    "plt.ylabel('Standardized Coefficients')\n",
    "plt.title('Lasso coefficients as a function of alpha')"
   ]
  },
  {
   "cell_type": "code",
   "execution_count": 28,
   "metadata": {},
   "outputs": [
    {
     "data": {
      "text/plain": [
       "0.001"
      ]
     },
     "execution_count": 28,
     "metadata": {},
     "output_type": "execute_result"
    }
   ],
   "source": [
    "# then we need to find optimal alpha for lasso\n",
    "# Lasso with 5 fold cross-validation\n",
    "model = LassoCV(alphas = alphas, cv=5, random_state=77, max_iter=10000)\n",
    "\n",
    "# Fit model\n",
    "model.fit(X_train, y_train)\n",
    "\n",
    "# optimal alpha\n",
    "model.alpha_"
   ]
  },
  {
   "cell_type": "code",
   "execution_count": 29,
   "metadata": {},
   "outputs": [
    {
     "data": {
      "text/plain": [
       "(0.00063095734448019363,\n",
       " 15.848931924611133,\n",
       " 35.758305820678892,\n",
       " 71.392511662198444)"
      ]
     },
     "execution_count": 29,
     "metadata": {},
     "output_type": "execute_result"
    },
    {
     "data": {
      "image/png": "[encoded data removed]",
      "text/plain": [
       "<matplotlib.figure.Figure at 0x7f9f5c7c4668>"
      ]
     },
     "metadata": {
      "needs_background": "light"
     },
     "output_type": "display_data"
    }
   ],
   "source": [
    "plt.semilogx(model.alphas_, model.mse_path_, \":\")\n",
    "plt.plot(\n",
    "    model.alphas_ ,\n",
    "    model.mse_path_.mean(axis=-1),\n",
    "    \"k\",\n",
    "    label=\"Average across the folds\",\n",
    "    linewidth=2,\n",
    ")\n",
    "plt.axvline(\n",
    "    model.alpha_, linestyle=\"--\", color=\"k\", label=\"alpha: CV estimate\"\n",
    ")\n",
    "\n",
    "plt.legend()\n",
    "plt.xlabel(\"alphas\")\n",
    "plt.ylabel(\"Mean square error\")\n",
    "plt.title(\"Mean square error on each fold\")\n",
    "plt.axis(\"tight\")\n"
   ]
  },
  {
   "cell_type": "code",
   "execution_count": 30,
   "metadata": {},
   "outputs": [
    {
     "data": {
      "text/plain": [
       "Lasso(alpha=0.001, copy_X=True, fit_intercept=True, max_iter=1000,\n",
       "   normalize=False, positive=False, precompute=False, random_state=None,\n",
       "   selection='cyclic', tol=0.0001, warm_start=False)"
      ]
     },
     "execution_count": 30,
     "metadata": {},
     "output_type": "execute_result"
    }
   ],
   "source": [
    "# Set best alpha\n",
    "lasso_best = Lasso(alpha=model.alpha_)\n",
    "lasso_best.fit(X_train, y_train)"
   ]
  },
  {
   "cell_type": "code",
   "execution_count": 31,
   "metadata": {},
   "outputs": [
    {
     "name": "stdout",
     "output_type": "stream",
     "text": [
      "MSE training set 39.0\n",
      "MSE test set 38.1\n"
     ]
    }
   ],
   "source": [
    "# Training data\n",
    "pred_train = lasso_best.predict(X_train)\n",
    "mse_train = mean_squared_error(y_train, pred_train)\n",
    "print('MSE training set', round(mse_train, 2))\n",
    "# Test data\n",
    "pred = lasso_best.predict(X_test)\n",
    "mse_test = mean_squared_error(y_test, pred)\n",
    "print('MSE test set', round(mse_test, 2))"
   ]
  },
  {
   "cell_type": "code",
   "execution_count": 32,
   "metadata": {},
   "outputs": [],
   "source": [
    "lasso_met = pd.DataFrame([{'training_mse':mse_train,'test_mse':mse_test}],index = ['Lasso'])"
   ]
  },
  {
   "cell_type": "code",
   "execution_count": 33,
   "metadata": {},
   "outputs": [
    {
     "data": {
      "image/png": "[encoded data removed]",
      "text/plain": [
       "<matplotlib.figure.Figure at 0x7f9f5c7eedd8>"
      ]
     },
     "metadata": {
      "needs_background": "light"
     },
     "output_type": "display_data"
    }
   ],
   "source": [
    "fig1 = plt.figure()\n",
    "x_ax = range(len(y_test))\n",
    "plt.plot(x_ax, y_test, label=\"original\")\n",
    "plt.plot(x_ax, pred, label=\"predicted\")\n",
    "plt.title(\"Test and predicted data\")\n",
    "plt.xlim(0, 100)\n",
    "plt.ylim(0,80)\n",
    "plt.legend()\n",
    "plt.show()"
   ]
  },
  {
   "cell_type": "markdown",
   "metadata": {},
   "source": [
    "### KNN"
   ]
  },
  {
   "cell_type": "code",
   "execution_count": 34,
   "metadata": {},
   "outputs": [],
   "source": [
    "# Determine the optimal number of neighbors\n",
    "neighbors = np.arange(1, 30)\n",
    "train_mse = np.empty(len(neighbors))\n",
    "test_mse = np.empty(len(neighbors))\n",
    " \n",
    "# Loop over K values\n",
    "for i, k in enumerate(neighbors):\n",
    "    knn = KNeighborsRegressor(n_jobs=-1, n_neighbors=k)\n",
    "    knn.fit(X_train, y_train)\n",
    "     \n",
    "    # Compute training and test data MSE\n",
    "    train_mse[i] = mean_squared_error(y_train, knn.predict(X_train))\n",
    "    test_mse[i] = mean_squared_error(y_test, knn.predict(X_test))"
   ]
  },
  {
   "cell_type": "code",
   "execution_count": 35,
   "metadata": {},
   "outputs": [
    {
     "data": {
      "image/png": "[encoded data removed]",
      "text/plain": [
       "<matplotlib.figure.Figure at 0x7f9f5c6dfcc0>"
      ]
     },
     "metadata": {
      "needs_background": "light"
     },
     "output_type": "display_data"
    }
   ],
   "source": [
    "# plot the 'mse ~ number of neighbors' plot  \n",
    "plt.plot(neighbors, test_mse, label = 'Testing dataset MSE')\n",
    "plt.plot(neighbors, train_mse, label = 'Training dataset MSE')\n",
    " \n",
    "plt.legend()\n",
    "plt.xlabel('n_neighbors')\n",
    "plt.ylabel('Mean Squared Error')\n",
    "plt.show()"
   ]
  },
  {
   "cell_type": "markdown",
   "metadata": {},
   "source": [
    "From the plot, we can see that the test set MSE stops decreasing after around n_neighbors = 15. So, we pick 15 neighbors."
   ]
  },
  {
   "cell_type": "code",
   "execution_count": 36,
   "metadata": {},
   "outputs": [
    {
     "name": "stdout",
     "output_type": "stream",
     "text": [
      "MSE training set 34.03\n",
      "MSE test set 38.16\n"
     ]
    }
   ],
   "source": [
    "# instantiate\n",
    "knn_model = KNeighborsRegressor(n_jobs=-1, n_neighbors=15)\n",
    "# fit model\n",
    "knn_model.fit(X_train, y_train)\n",
    "# get mse\n",
    "# Training data\n",
    "pred_train = knn_model.predict(X_train)\n",
    "mse_train = mean_squared_error(y_train, pred_train)\n",
    "print('MSE training set', round(mse_train, 2))\n",
    "# Test data\n",
    "pred = knn_model.predict(X_test)\n",
    "mse_test = mean_squared_error(y_test, pred)\n",
    "print('MSE test set', round(mse_test, 2))"
   ]
  },
  {
   "cell_type": "code",
   "execution_count": 37,
   "metadata": {},
   "outputs": [],
   "source": [
    "knn_met = pd.DataFrame([{'training_mse':mse_train,'test_mse':mse_test}],index = ['KNN'])"
   ]
  },
  {
   "cell_type": "code",
   "execution_count": 38,
   "metadata": {},
   "outputs": [
    {
     "data": {
      "image/png": "[encoded data removed]",
      "text/plain": [
       "<matplotlib.figure.Figure at 0x7f9f5c504a20>"
      ]
     },
     "metadata": {
      "needs_background": "light"
     },
     "output_type": "display_data"
    }
   ],
   "source": [
    "fig1 = plt.figure()\n",
    "x_ax = range(len(y_test))\n",
    "plt.plot(x_ax, y_test, label=\"original\")\n",
    "plt.plot(x_ax, pred, label=\"predicted\")\n",
    "plt.title(\"Test and predicted data\")\n",
    "plt.xlim(0, 100)\n",
    "plt.ylim(0,80)\n",
    "plt.legend()\n",
    "plt.show()"
   ]
  },
  {
   "cell_type": "markdown",
   "metadata": {},
   "source": [
    "### Random forest"
   ]
  },
  {
   "cell_type": "code",
   "execution_count": 39,
   "metadata": {},
   "outputs": [
    {
     "name": "stdout",
     "output_type": "stream",
     "text": [
      "MSE training set 11.23\n",
      "MSE test set 45.46\n"
     ]
    }
   ],
   "source": [
    "rf_regressor = RandomForestRegressor()\n",
    "# train\n",
    "rf_regressor.fit(X_train, y_train)\n",
    "# metric: mse\n",
    "# Training data\n",
    "pred_train = rf_regressor.predict(X_train)\n",
    "mse_train = mean_squared_error(y_train, pred_train)\n",
    "print('MSE training set', round(mse_train, 2))\n",
    "# Test data\n",
    "pred = rf_regressor.predict(X_test)\n",
    "mse_test = mean_squared_error(y_test, pred)\n",
    "print('MSE test set', round(mse_test, 2))"
   ]
  },
  {
   "cell_type": "markdown",
   "metadata": {},
   "source": [
    "#### Model tuning"
   ]
  },
  {
   "cell_type": "code",
   "execution_count": 40,
   "metadata": {},
   "outputs": [],
   "source": [
    "# Number of trees in random forest\n",
    "n_estimators = [100, 300, 500, 800, 1200, 1500, 2000]\n",
    "# Maximum number of levels in tree\n",
    "max_depth = [2,4,6,8,10,15,20]\n",
    "# Minimum number of samples required to split a node\n",
    "min_samples_split = [2, 5, 10, 15, 20, 30, 50]\n",
    "# Method of selecting samples for training each tree\n",
    "bootstrap = [True, False]\n",
    "# Number of features to consider at every split\n",
    "max_features = ['auto', 'sqrt']\n",
    "random_grid = {'n_estimators': n_estimators,\n",
    "               'max_depth': max_depth,\n",
    "               'min_samples_split': min_samples_split,\n",
    "               'max_features': max_features,\n",
    "               'bootstrap': bootstrap}"
   ]
  },
  {
   "cell_type": "code",
   "execution_count": 41,
   "metadata": {},
   "outputs": [
    {
     "name": "stdout",
     "output_type": "stream",
     "text": [
      "Fitting 3 folds for each of 30 candidates, totalling 90 fits\n",
      "[CV] n_estimators=500, min_samples_split=10, max_features=sqrt, max_depth=8, bootstrap=False \n",
      "[CV]  n_estimators=500, min_samples_split=10, max_features=sqrt, max_depth=8, bootstrap=False, total=   4.5s\n",
      "[CV] n_estimators=500, min_samples_split=10, max_features=sqrt, max_depth=8, bootstrap=False \n"
     ]
    },
    {
     "name": "stderr",
     "output_type": "stream",
     "text": [
      "[Parallel(n_jobs=-1)]: Done   1 out of   1 | elapsed:    5.1s remaining:    0.0s\n"
     ]
    },
    {
     "name": "stdout",
     "output_type": "stream",
     "text": [
      "[CV]  n_estimators=500, min_samples_split=10, max_features=sqrt, max_depth=8, bootstrap=False, total=   4.7s\n",
      "[CV] n_estimators=500, min_samples_split=10, max_features=sqrt, max_depth=8, bootstrap=False \n",
      "[CV]  n_estimators=500, min_samples_split=10, max_features=sqrt, max_depth=8, bootstrap=False, total=   4.5s\n",
      "[CV] n_estimators=300, min_samples_split=30, max_features=sqrt, max_depth=2, bootstrap=True \n",
      "[CV]  n_estimators=300, min_samples_split=30, max_features=sqrt, max_depth=2, bootstrap=True, total=   1.0s\n",
      "[CV] n_estimators=300, min_samples_split=30, max_features=sqrt, max_depth=2, bootstrap=True \n",
      "[CV]  n_estimators=300, min_samples_split=30, max_features=sqrt, max_depth=2, bootstrap=True, total=   1.0s\n",
      "[CV] n_estimators=300, min_samples_split=30, max_features=sqrt, max_depth=2, bootstrap=True \n",
      "[CV]  n_estimators=300, min_samples_split=30, max_features=sqrt, max_depth=2, bootstrap=True, total=   1.0s\n",
      "[CV] n_estimators=1500, min_samples_split=10, max_features=auto, max_depth=10, bootstrap=False \n",
      "[CV]  n_estimators=1500, min_samples_split=10, max_features=auto, max_depth=10, bootstrap=False, total=  55.5s\n",
      "[CV] n_estimators=1500, min_samples_split=10, max_features=auto, max_depth=10, bootstrap=False \n",
      "[CV]  n_estimators=1500, min_samples_split=10, max_features=auto, max_depth=10, bootstrap=False, total=  56.2s\n",
      "[CV] n_estimators=1500, min_samples_split=10, max_features=auto, max_depth=10, bootstrap=False \n",
      "[CV]  n_estimators=1500, min_samples_split=10, max_features=auto, max_depth=10, bootstrap=False, total=  55.6s\n",
      "[CV] n_estimators=800, min_samples_split=50, max_features=sqrt, max_depth=15, bootstrap=True \n",
      "[CV]  n_estimators=800, min_samples_split=50, max_features=sqrt, max_depth=15, bootstrap=True, total=   7.5s\n",
      "[CV] n_estimators=800, min_samples_split=50, max_features=sqrt, max_depth=15, bootstrap=True \n",
      "[CV]  n_estimators=800, min_samples_split=50, max_features=sqrt, max_depth=15, bootstrap=True, total=   7.7s\n",
      "[CV] n_estimators=800, min_samples_split=50, max_features=sqrt, max_depth=15, bootstrap=True \n",
      "[CV]  n_estimators=800, min_samples_split=50, max_features=sqrt, max_depth=15, bootstrap=True, total=   7.5s\n",
      "[CV] n_estimators=800, min_samples_split=20, max_features=auto, max_depth=10, bootstrap=True \n",
      "[CV]  n_estimators=800, min_samples_split=20, max_features=auto, max_depth=10, bootstrap=True, total=  20.6s\n",
      "[CV] n_estimators=800, min_samples_split=20, max_features=auto, max_depth=10, bootstrap=True \n",
      "[CV]  n_estimators=800, min_samples_split=20, max_features=auto, max_depth=10, bootstrap=True, total=  20.7s\n",
      "[CV] n_estimators=800, min_samples_split=20, max_features=auto, max_depth=10, bootstrap=True \n",
      "[CV]  n_estimators=800, min_samples_split=20, max_features=auto, max_depth=10, bootstrap=True, total=  20.5s\n",
      "[CV] n_estimators=500, min_samples_split=20, max_features=auto, max_depth=15, bootstrap=False \n",
      "[CV]  n_estimators=500, min_samples_split=20, max_features=auto, max_depth=15, bootstrap=False, total=  23.2s\n",
      "[CV] n_estimators=500, min_samples_split=20, max_features=auto, max_depth=15, bootstrap=False \n",
      "[CV]  n_estimators=500, min_samples_split=20, max_features=auto, max_depth=15, bootstrap=False, total=  23.6s\n",
      "[CV] n_estimators=500, min_samples_split=20, max_features=auto, max_depth=15, bootstrap=False \n",
      "[CV]  n_estimators=500, min_samples_split=20, max_features=auto, max_depth=15, bootstrap=False, total=  23.3s\n",
      "[CV] n_estimators=2000, min_samples_split=50, max_features=sqrt, max_depth=4, bootstrap=True \n",
      "[CV]  n_estimators=2000, min_samples_split=50, max_features=sqrt, max_depth=4, bootstrap=True, total=   9.7s\n",
      "[CV] n_estimators=2000, min_samples_split=50, max_features=sqrt, max_depth=4, bootstrap=True \n",
      "[CV]  n_estimators=2000, min_samples_split=50, max_features=sqrt, max_depth=4, bootstrap=True, total=   9.5s\n",
      "[CV] n_estimators=2000, min_samples_split=50, max_features=sqrt, max_depth=4, bootstrap=True \n",
      "[CV]  n_estimators=2000, min_samples_split=50, max_features=sqrt, max_depth=4, bootstrap=True, total=   9.7s\n",
      "[CV] n_estimators=1500, min_samples_split=20, max_features=sqrt, max_depth=15, bootstrap=False \n",
      "[CV]  n_estimators=1500, min_samples_split=20, max_features=sqrt, max_depth=15, bootstrap=False, total=  22.5s\n",
      "[CV] n_estimators=1500, min_samples_split=20, max_features=sqrt, max_depth=15, bootstrap=False \n",
      "[CV]  n_estimators=1500, min_samples_split=20, max_features=sqrt, max_depth=15, bootstrap=False, total=  22.3s\n",
      "[CV] n_estimators=1500, min_samples_split=20, max_features=sqrt, max_depth=15, bootstrap=False \n",
      "[CV]  n_estimators=1500, min_samples_split=20, max_features=sqrt, max_depth=15, bootstrap=False, total=  22.3s\n",
      "[CV] n_estimators=1500, min_samples_split=20, max_features=auto, max_depth=4, bootstrap=False \n",
      "[CV]  n_estimators=1500, min_samples_split=20, max_features=auto, max_depth=4, bootstrap=False, total=  27.9s\n",
      "[CV] n_estimators=1500, min_samples_split=20, max_features=auto, max_depth=4, bootstrap=False \n",
      "[CV]  n_estimators=1500, min_samples_split=20, max_features=auto, max_depth=4, bootstrap=False, total=  27.9s\n",
      "[CV] n_estimators=1500, min_samples_split=20, max_features=auto, max_depth=4, bootstrap=False \n",
      "[CV]  n_estimators=1500, min_samples_split=20, max_features=auto, max_depth=4, bootstrap=False, total=  27.9s\n",
      "[CV] n_estimators=500, min_samples_split=2, max_features=sqrt, max_depth=2, bootstrap=True \n",
      "[CV]  n_estimators=500, min_samples_split=2, max_features=sqrt, max_depth=2, bootstrap=True, total=   1.7s\n",
      "[CV] n_estimators=500, min_samples_split=2, max_features=sqrt, max_depth=2, bootstrap=True \n",
      "[CV]  n_estimators=500, min_samples_split=2, max_features=sqrt, max_depth=2, bootstrap=True, total=   1.7s\n",
      "[CV] n_estimators=500, min_samples_split=2, max_features=sqrt, max_depth=2, bootstrap=True \n",
      "[CV]  n_estimators=500, min_samples_split=2, max_features=sqrt, max_depth=2, bootstrap=True, total=   1.7s\n",
      "[CV] n_estimators=800, min_samples_split=50, max_features=auto, max_depth=2, bootstrap=False \n",
      "[CV]  n_estimators=800, min_samples_split=50, max_features=auto, max_depth=2, bootstrap=False, total=   8.6s\n",
      "[CV] n_estimators=800, min_samples_split=50, max_features=auto, max_depth=2, bootstrap=False \n",
      "[CV]  n_estimators=800, min_samples_split=50, max_features=auto, max_depth=2, bootstrap=False, total=   8.4s\n",
      "[CV] n_estimators=800, min_samples_split=50, max_features=auto, max_depth=2, bootstrap=False \n",
      "[CV]  n_estimators=800, min_samples_split=50, max_features=auto, max_depth=2, bootstrap=False, total=   8.6s\n",
      "[CV] n_estimators=2000, min_samples_split=50, max_features=auto, max_depth=6, bootstrap=False \n",
      "[CV]  n_estimators=2000, min_samples_split=50, max_features=auto, max_depth=6, bootstrap=False, total=  50.6s\n",
      "[CV] n_estimators=2000, min_samples_split=50, max_features=auto, max_depth=6, bootstrap=False \n",
      "[CV]  n_estimators=2000, min_samples_split=50, max_features=auto, max_depth=6, bootstrap=False, total=  51.2s\n",
      "[CV] n_estimators=2000, min_samples_split=50, max_features=auto, max_depth=6, bootstrap=False \n",
      "[CV]  n_estimators=2000, min_samples_split=50, max_features=auto, max_depth=6, bootstrap=False, total=  50.7s\n",
      "[CV] n_estimators=300, min_samples_split=2, max_features=sqrt, max_depth=4, bootstrap=True \n",
      "[CV]  n_estimators=300, min_samples_split=2, max_features=sqrt, max_depth=4, bootstrap=True, total=   1.4s\n",
      "[CV] n_estimators=300, min_samples_split=2, max_features=sqrt, max_depth=4, bootstrap=True \n",
      "[CV]  n_estimators=300, min_samples_split=2, max_features=sqrt, max_depth=4, bootstrap=True, total=   1.4s\n",
      "[CV] n_estimators=300, min_samples_split=2, max_features=sqrt, max_depth=4, bootstrap=True \n",
      "[CV]  n_estimators=300, min_samples_split=2, max_features=sqrt, max_depth=4, bootstrap=True, total=   1.4s\n",
      "[CV] n_estimators=500, min_samples_split=5, max_features=auto, max_depth=2, bootstrap=False \n",
      "[CV]  n_estimators=500, min_samples_split=5, max_features=auto, max_depth=2, bootstrap=False, total=   5.2s\n",
      "[CV] n_estimators=500, min_samples_split=5, max_features=auto, max_depth=2, bootstrap=False \n",
      "[CV]  n_estimators=500, min_samples_split=5, max_features=auto, max_depth=2, bootstrap=False, total=   5.3s\n",
      "[CV] n_estimators=500, min_samples_split=5, max_features=auto, max_depth=2, bootstrap=False \n",
      "[CV]  n_estimators=500, min_samples_split=5, max_features=auto, max_depth=2, bootstrap=False, total=   5.5s\n",
      "[CV] n_estimators=2000, min_samples_split=50, max_features=sqrt, max_depth=6, bootstrap=False \n",
      "[CV]  n_estimators=2000, min_samples_split=50, max_features=sqrt, max_depth=6, bootstrap=False, total=  14.5s\n",
      "[CV] n_estimators=2000, min_samples_split=50, max_features=sqrt, max_depth=6, bootstrap=False \n",
      "[CV]  n_estimators=2000, min_samples_split=50, max_features=sqrt, max_depth=6, bootstrap=False, total=  14.8s\n",
      "[CV] n_estimators=2000, min_samples_split=50, max_features=sqrt, max_depth=6, bootstrap=False \n",
      "[CV]  n_estimators=2000, min_samples_split=50, max_features=sqrt, max_depth=6, bootstrap=False, total=  14.7s\n",
      "[CV] n_estimators=800, min_samples_split=30, max_features=auto, max_depth=2, bootstrap=True \n",
      "[CV]  n_estimators=800, min_samples_split=30, max_features=auto, max_depth=2, bootstrap=True, total=   6.4s\n",
      "[CV] n_estimators=800, min_samples_split=30, max_features=auto, max_depth=2, bootstrap=True \n",
      "[CV]  n_estimators=800, min_samples_split=30, max_features=auto, max_depth=2, bootstrap=True, total=   6.7s\n",
      "[CV] n_estimators=800, min_samples_split=30, max_features=auto, max_depth=2, bootstrap=True \n",
      "[CV]  n_estimators=800, min_samples_split=30, max_features=auto, max_depth=2, bootstrap=True, total=   6.4s\n",
      "[CV] n_estimators=2000, min_samples_split=15, max_features=auto, max_depth=2, bootstrap=True \n",
      "[CV]  n_estimators=2000, min_samples_split=15, max_features=auto, max_depth=2, bootstrap=True, total=  16.3s\n",
      "[CV] n_estimators=2000, min_samples_split=15, max_features=auto, max_depth=2, bootstrap=True \n",
      "[CV]  n_estimators=2000, min_samples_split=15, max_features=auto, max_depth=2, bootstrap=True, total=  16.3s\n",
      "[CV] n_estimators=2000, min_samples_split=15, max_features=auto, max_depth=2, bootstrap=True \n",
      "[CV]  n_estimators=2000, min_samples_split=15, max_features=auto, max_depth=2, bootstrap=True, total=  16.3s\n",
      "[CV] n_estimators=300, min_samples_split=20, max_features=auto, max_depth=20, bootstrap=True \n",
      "[CV]  n_estimators=300, min_samples_split=20, max_features=auto, max_depth=20, bootstrap=True, total=   9.7s\n",
      "[CV] n_estimators=300, min_samples_split=20, max_features=auto, max_depth=20, bootstrap=True \n",
      "[CV]  n_estimators=300, min_samples_split=20, max_features=auto, max_depth=20, bootstrap=True, total=  10.1s\n",
      "[CV] n_estimators=300, min_samples_split=20, max_features=auto, max_depth=20, bootstrap=True \n",
      "[CV]  n_estimators=300, min_samples_split=20, max_features=auto, max_depth=20, bootstrap=True, total=   9.7s\n",
      "[CV] n_estimators=300, min_samples_split=30, max_features=sqrt, max_depth=4, bootstrap=False \n",
      "[CV]  n_estimators=300, min_samples_split=30, max_features=sqrt, max_depth=4, bootstrap=False, total=   1.6s\n",
      "[CV] n_estimators=300, min_samples_split=30, max_features=sqrt, max_depth=4, bootstrap=False \n",
      "[CV]  n_estimators=300, min_samples_split=30, max_features=sqrt, max_depth=4, bootstrap=False, total=   1.6s\n",
      "[CV] n_estimators=300, min_samples_split=30, max_features=sqrt, max_depth=4, bootstrap=False \n",
      "[CV]  n_estimators=300, min_samples_split=30, max_features=sqrt, max_depth=4, bootstrap=False, total=   1.6s\n",
      "[CV] n_estimators=2000, min_samples_split=30, max_features=sqrt, max_depth=8, bootstrap=False \n",
      "[CV]  n_estimators=2000, min_samples_split=30, max_features=sqrt, max_depth=8, bootstrap=False, total=  18.2s\n",
      "[CV] n_estimators=2000, min_samples_split=30, max_features=sqrt, max_depth=8, bootstrap=False \n",
      "[CV]  n_estimators=2000, min_samples_split=30, max_features=sqrt, max_depth=8, bootstrap=False, total=  18.1s\n",
      "[CV] n_estimators=2000, min_samples_split=30, max_features=sqrt, max_depth=8, bootstrap=False \n",
      "[CV]  n_estimators=2000, min_samples_split=30, max_features=sqrt, max_depth=8, bootstrap=False, total=  18.0s\n",
      "[CV] n_estimators=1200, min_samples_split=30, max_features=auto, max_depth=2, bootstrap=False \n",
      "[CV]  n_estimators=1200, min_samples_split=30, max_features=auto, max_depth=2, bootstrap=False, total=  12.8s\n",
      "[CV] n_estimators=1200, min_samples_split=30, max_features=auto, max_depth=2, bootstrap=False \n",
      "[CV]  n_estimators=1200, min_samples_split=30, max_features=auto, max_depth=2, bootstrap=False, total=  12.8s\n",
      "[CV] n_estimators=1200, min_samples_split=30, max_features=auto, max_depth=2, bootstrap=False \n",
      "[CV]  n_estimators=1200, min_samples_split=30, max_features=auto, max_depth=2, bootstrap=False, total=  12.6s\n",
      "[CV] n_estimators=500, min_samples_split=10, max_features=auto, max_depth=2, bootstrap=True \n",
      "[CV]  n_estimators=500, min_samples_split=10, max_features=auto, max_depth=2, bootstrap=True, total=   4.3s\n",
      "[CV] n_estimators=500, min_samples_split=10, max_features=auto, max_depth=2, bootstrap=True \n",
      "[CV]  n_estimators=500, min_samples_split=10, max_features=auto, max_depth=2, bootstrap=True, total=   4.0s\n",
      "[CV] n_estimators=500, min_samples_split=10, max_features=auto, max_depth=2, bootstrap=True \n",
      "[CV]  n_estimators=500, min_samples_split=10, max_features=auto, max_depth=2, bootstrap=True, total=   4.0s\n",
      "[CV] n_estimators=1500, min_samples_split=5, max_features=auto, max_depth=8, bootstrap=False \n",
      "[CV]  n_estimators=1500, min_samples_split=5, max_features=auto, max_depth=8, bootstrap=False, total=  46.9s\n",
      "[CV] n_estimators=1500, min_samples_split=5, max_features=auto, max_depth=8, bootstrap=False \n",
      "[CV]  n_estimators=1500, min_samples_split=5, max_features=auto, max_depth=8, bootstrap=False, total=  47.5s\n",
      "[CV] n_estimators=1500, min_samples_split=5, max_features=auto, max_depth=8, bootstrap=False \n",
      "[CV]  n_estimators=1500, min_samples_split=5, max_features=auto, max_depth=8, bootstrap=False, total=  47.0s\n",
      "[CV] n_estimators=100, min_samples_split=30, max_features=auto, max_depth=2, bootstrap=True \n",
      "[CV]  n_estimators=100, min_samples_split=30, max_features=auto, max_depth=2, bootstrap=True, total=   0.8s\n",
      "[CV] n_estimators=100, min_samples_split=30, max_features=auto, max_depth=2, bootstrap=True \n",
      "[CV]  n_estimators=100, min_samples_split=30, max_features=auto, max_depth=2, bootstrap=True, total=   0.8s\n",
      "[CV] n_estimators=100, min_samples_split=30, max_features=auto, max_depth=2, bootstrap=True \n",
      "[CV]  n_estimators=100, min_samples_split=30, max_features=auto, max_depth=2, bootstrap=True, total=   0.8s\n",
      "[CV] n_estimators=1500, min_samples_split=20, max_features=auto, max_depth=15, bootstrap=False \n",
      "[CV]  n_estimators=1500, min_samples_split=20, max_features=auto, max_depth=15, bootstrap=False, total= 1.1min\n",
      "[CV] n_estimators=1500, min_samples_split=20, max_features=auto, max_depth=15, bootstrap=False \n",
      "[CV]  n_estimators=1500, min_samples_split=20, max_features=auto, max_depth=15, bootstrap=False, total= 1.2min\n",
      "[CV] n_estimators=1500, min_samples_split=20, max_features=auto, max_depth=15, bootstrap=False \n",
      "[CV]  n_estimators=1500, min_samples_split=20, max_features=auto, max_depth=15, bootstrap=False, total= 1.2min\n",
      "[CV] n_estimators=500, min_samples_split=15, max_features=auto, max_depth=4, bootstrap=False \n",
      "[CV]  n_estimators=500, min_samples_split=15, max_features=auto, max_depth=4, bootstrap=False, total=   9.2s\n",
      "[CV] n_estimators=500, min_samples_split=15, max_features=auto, max_depth=4, bootstrap=False \n",
      "[CV]  n_estimators=500, min_samples_split=15, max_features=auto, max_depth=4, bootstrap=False, total=   9.5s\n",
      "[CV] n_estimators=500, min_samples_split=15, max_features=auto, max_depth=4, bootstrap=False \n",
      "[CV]  n_estimators=500, min_samples_split=15, max_features=auto, max_depth=4, bootstrap=False, total=   9.2s\n",
      "[CV] n_estimators=2000, min_samples_split=15, max_features=auto, max_depth=2, bootstrap=False \n",
      "[CV]  n_estimators=2000, min_samples_split=15, max_features=auto, max_depth=2, bootstrap=False, total=  21.1s\n",
      "[CV] n_estimators=2000, min_samples_split=15, max_features=auto, max_depth=2, bootstrap=False \n",
      "[CV]  n_estimators=2000, min_samples_split=15, max_features=auto, max_depth=2, bootstrap=False, total=  21.0s\n",
      "[CV] n_estimators=2000, min_samples_split=15, max_features=auto, max_depth=2, bootstrap=False \n",
      "[CV]  n_estimators=2000, min_samples_split=15, max_features=auto, max_depth=2, bootstrap=False, total=  21.2s\n",
      "[CV] n_estimators=500, min_samples_split=50, max_features=sqrt, max_depth=10, bootstrap=True \n",
      "[CV]  n_estimators=500, min_samples_split=50, max_features=sqrt, max_depth=10, bootstrap=True, total=   4.1s\n",
      "[CV] n_estimators=500, min_samples_split=50, max_features=sqrt, max_depth=10, bootstrap=True \n",
      "[CV]  n_estimators=500, min_samples_split=50, max_features=sqrt, max_depth=10, bootstrap=True, total=   4.1s\n",
      "[CV] n_estimators=500, min_samples_split=50, max_features=sqrt, max_depth=10, bootstrap=True \n",
      "[CV]  n_estimators=500, min_samples_split=50, max_features=sqrt, max_depth=10, bootstrap=True, total=   4.1s\n",
      "[CV] n_estimators=2000, min_samples_split=2, max_features=sqrt, max_depth=6, bootstrap=False \n",
      "[CV]  n_estimators=2000, min_samples_split=2, max_features=sqrt, max_depth=6, bootstrap=False, total=  14.4s\n",
      "[CV] n_estimators=2000, min_samples_split=2, max_features=sqrt, max_depth=6, bootstrap=False \n",
      "[CV]  n_estimators=2000, min_samples_split=2, max_features=sqrt, max_depth=6, bootstrap=False, total=  14.8s\n",
      "[CV] n_estimators=2000, min_samples_split=2, max_features=sqrt, max_depth=6, bootstrap=False \n",
      "[CV]  n_estimators=2000, min_samples_split=2, max_features=sqrt, max_depth=6, bootstrap=False, total=  14.5s\n",
      "[CV] n_estimators=300, min_samples_split=15, max_features=auto, max_depth=4, bootstrap=True \n",
      "[CV]  n_estimators=300, min_samples_split=15, max_features=auto, max_depth=4, bootstrap=True, total=   4.0s\n",
      "[CV] n_estimators=300, min_samples_split=15, max_features=auto, max_depth=4, bootstrap=True \n",
      "[CV]  n_estimators=300, min_samples_split=15, max_features=auto, max_depth=4, bootstrap=True, total=   4.0s\n",
      "[CV] n_estimators=300, min_samples_split=15, max_features=auto, max_depth=4, bootstrap=True \n",
      "[CV]  n_estimators=300, min_samples_split=15, max_features=auto, max_depth=4, bootstrap=True, total=   4.0s\n"
     ]
    },
    {
     "name": "stderr",
     "output_type": "stream",
     "text": [
      "[Parallel(n_jobs=-1)]: Done  90 out of  90 | elapsed: 26.3min finished\n"
     ]
    },
    {
     "data": {
      "text/plain": [
       "RandomizedSearchCV(cv=3, error_score='raise',\n",
       "          estimator=RandomForestRegressor(bootstrap=True, criterion='mse', max_depth=None,\n",
       "           max_features='auto', max_leaf_nodes=None,\n",
       "           min_impurity_decrease=0.0, min_impurity_split=None,\n",
       "           min_samples_leaf=1, min_samples_split=2,\n",
       "           min_weight_fraction_leaf=0.0, n_estimators=10, n_jobs=1,\n",
       "           oob_score=False, random_state=None, verbose=0, warm_start=False),\n",
       "          fit_params=None, iid=True, n_iter=30, n_jobs=-1,\n",
       "          param_distributions={'n_estimators': [100, 300, 500, 800, 1200, 1500, 2000], 'max_depth': [2, 4, 6, 8, 10, 15, 20], 'min_samples_split': [2, 5, 10, 15, 20, 30, 50], 'max_features': ['auto', 'sqrt'], 'bootstrap': [True, False]},\n",
       "          pre_dispatch='2*n_jobs', random_state=77, refit=True,\n",
       "          return_train_score='warn', scoring=None, verbose=2)"
      ]
     },
     "execution_count": 41,
     "metadata": {},
     "output_type": "execute_result"
    }
   ],
   "source": [
    "# Use the random grid to search for best hyperparameters\n",
    "# First create the base model to tune\n",
    "rf_base = RandomForestRegressor()\n",
    "# Random search of parameters, using 3 fold cross validation, \n",
    "# search across 30 different combinations, and use all available cores\n",
    "rf_random = RandomizedSearchCV(estimator = rf_base, param_distributions = random_grid, n_iter = 30, cv = 3, verbose=2, random_state=77, n_jobs = -1)\n",
    "# Fit the random search model\n",
    "rf_random.fit(X_train, y_train)"
   ]
  },
  {
   "cell_type": "code",
   "execution_count": 42,
   "metadata": {},
   "outputs": [
    {
     "data": {
      "text/plain": [
       "{'n_estimators': 800,\n",
       " 'min_samples_split': 20,\n",
       " 'max_features': 'auto',\n",
       " 'max_depth': 10,\n",
       " 'bootstrap': True}"
      ]
     },
     "execution_count": 42,
     "metadata": {},
     "output_type": "execute_result"
    }
   ],
   "source": [
    "# best params\n",
    "rf_random.best_params_"
   ]
  },
  {
   "cell_type": "code",
   "execution_count": 47,
   "metadata": {},
   "outputs": [],
   "source": [
    "# Create the parameter grid based on the results of random search \n",
    "param_grid = {\n",
    "    'max_depth': [8, 10, 12],\n",
    "    'min_samples_split': [15, 20, 25],\n",
    "    'n_estimators': [600, 800, 1000]\n",
    "}\n",
    "# Create a based model\n",
    "rf_base = RandomForestRegressor(max_features = 'auto', bootstrap = True)\n",
    "# Instantiate the grid search model\n",
    "grid_search = GridSearchCV(estimator = rf_base, param_grid = param_grid, \n",
    "                          cv = 3, n_jobs = -1, verbose = 2)"
   ]
  },
  {
   "cell_type": "code",
   "execution_count": 48,
   "metadata": {},
   "outputs": [
    {
     "name": "stdout",
     "output_type": "stream",
     "text": [
      "Fitting 3 folds for each of 27 candidates, totalling 81 fits\n",
      "[CV] max_depth=8, min_samples_split=15, n_estimators=600 .............\n",
      "[CV]  max_depth=8, min_samples_split=15, n_estimators=600, total=  13.3s\n",
      "[CV] max_depth=8, min_samples_split=15, n_estimators=600 .............\n"
     ]
    },
    {
     "name": "stderr",
     "output_type": "stream",
     "text": [
      "[Parallel(n_jobs=-1)]: Done   1 out of   1 | elapsed:   14.0s remaining:    0.0s\n"
     ]
    },
    {
     "name": "stdout",
     "output_type": "stream",
     "text": [
      "[CV]  max_depth=8, min_samples_split=15, n_estimators=600, total=  13.4s\n",
      "[CV] max_depth=8, min_samples_split=15, n_estimators=600 .............\n",
      "[CV]  max_depth=8, min_samples_split=15, n_estimators=600, total=  13.0s\n",
      "[CV] max_depth=8, min_samples_split=15, n_estimators=800 .............\n",
      "[CV]  max_depth=8, min_samples_split=15, n_estimators=800, total=  17.5s\n",
      "[CV] max_depth=8, min_samples_split=15, n_estimators=800 .............\n",
      "[CV]  max_depth=8, min_samples_split=15, n_estimators=800, total=  17.7s\n",
      "[CV] max_depth=8, min_samples_split=15, n_estimators=800 .............\n",
      "[CV]  max_depth=8, min_samples_split=15, n_estimators=800, total=  17.7s\n",
      "[CV] max_depth=8, min_samples_split=15, n_estimators=1000 ............\n",
      "[CV]  max_depth=8, min_samples_split=15, n_estimators=1000, total=  22.0s\n",
      "[CV] max_depth=8, min_samples_split=15, n_estimators=1000 ............\n",
      "[CV]  max_depth=8, min_samples_split=15, n_estimators=1000, total=  22.1s\n",
      "[CV] max_depth=8, min_samples_split=15, n_estimators=1000 ............\n",
      "[CV]  max_depth=8, min_samples_split=15, n_estimators=1000, total=  22.0s\n",
      "[CV] max_depth=8, min_samples_split=20, n_estimators=600 .............\n",
      "[CV]  max_depth=8, min_samples_split=20, n_estimators=600, total=  13.0s\n",
      "[CV] max_depth=8, min_samples_split=20, n_estimators=600 .............\n",
      "[CV]  max_depth=8, min_samples_split=20, n_estimators=600, total=  13.4s\n",
      "[CV] max_depth=8, min_samples_split=20, n_estimators=600 .............\n",
      "[CV]  max_depth=8, min_samples_split=20, n_estimators=600, total=  13.3s\n",
      "[CV] max_depth=8, min_samples_split=20, n_estimators=800 .............\n",
      "[CV]  max_depth=8, min_samples_split=20, n_estimators=800, total=  17.6s\n",
      "[CV] max_depth=8, min_samples_split=20, n_estimators=800 .............\n",
      "[CV]  max_depth=8, min_samples_split=20, n_estimators=800, total=  17.7s\n",
      "[CV] max_depth=8, min_samples_split=20, n_estimators=800 .............\n",
      "[CV]  max_depth=8, min_samples_split=20, n_estimators=800, total=  17.6s\n",
      "[CV] max_depth=8, min_samples_split=20, n_estimators=1000 ............\n",
      "[CV]  max_depth=8, min_samples_split=20, n_estimators=1000, total=  22.0s\n",
      "[CV] max_depth=8, min_samples_split=20, n_estimators=1000 ............\n",
      "[CV]  max_depth=8, min_samples_split=20, n_estimators=1000, total=  22.1s\n",
      "[CV] max_depth=8, min_samples_split=20, n_estimators=1000 ............\n",
      "[CV]  max_depth=8, min_samples_split=20, n_estimators=1000, total=  22.0s\n",
      "[CV] max_depth=8, min_samples_split=25, n_estimators=600 .............\n",
      "[CV]  max_depth=8, min_samples_split=25, n_estimators=600, total=  13.2s\n",
      "[CV] max_depth=8, min_samples_split=25, n_estimators=600 .............\n",
      "[CV]  max_depth=8, min_samples_split=25, n_estimators=600, total=  13.3s\n",
      "[CV] max_depth=8, min_samples_split=25, n_estimators=600 .............\n",
      "[CV]  max_depth=8, min_samples_split=25, n_estimators=600, total=  13.1s\n",
      "[CV] max_depth=8, min_samples_split=25, n_estimators=800 .............\n",
      "[CV]  max_depth=8, min_samples_split=25, n_estimators=800, total=  17.5s\n",
      "[CV] max_depth=8, min_samples_split=25, n_estimators=800 .............\n",
      "[CV]  max_depth=8, min_samples_split=25, n_estimators=800, total=  17.7s\n",
      "[CV] max_depth=8, min_samples_split=25, n_estimators=800 .............\n",
      "[CV]  max_depth=8, min_samples_split=25, n_estimators=800, total=  17.6s\n",
      "[CV] max_depth=8, min_samples_split=25, n_estimators=1000 ............\n",
      "[CV]  max_depth=8, min_samples_split=25, n_estimators=1000, total=  21.9s\n",
      "[CV] max_depth=8, min_samples_split=25, n_estimators=1000 ............\n",
      "[CV]  max_depth=8, min_samples_split=25, n_estimators=1000, total=  22.0s\n",
      "[CV] max_depth=8, min_samples_split=25, n_estimators=1000 ............\n",
      "[CV]  max_depth=8, min_samples_split=25, n_estimators=1000, total=  21.8s\n",
      "[CV] max_depth=10, min_samples_split=15, n_estimators=600 ............\n",
      "[CV]  max_depth=10, min_samples_split=15, n_estimators=600, total=  15.3s\n",
      "[CV] max_depth=10, min_samples_split=15, n_estimators=600 ............\n",
      "[CV]  max_depth=10, min_samples_split=15, n_estimators=600, total=  15.7s\n",
      "[CV] max_depth=10, min_samples_split=15, n_estimators=600 ............\n",
      "[CV]  max_depth=10, min_samples_split=15, n_estimators=600, total=  15.6s\n",
      "[CV] max_depth=10, min_samples_split=15, n_estimators=800 ............\n",
      "[CV]  max_depth=10, min_samples_split=15, n_estimators=800, total=  20.6s\n",
      "[CV] max_depth=10, min_samples_split=15, n_estimators=800 ............\n",
      "[CV]  max_depth=10, min_samples_split=15, n_estimators=800, total=  20.8s\n",
      "[CV] max_depth=10, min_samples_split=15, n_estimators=800 ............\n",
      "[CV]  max_depth=10, min_samples_split=15, n_estimators=800, total=  20.6s\n",
      "[CV] max_depth=10, min_samples_split=15, n_estimators=1000 ...........\n",
      "[CV]  max_depth=10, min_samples_split=15, n_estimators=1000, total=  25.7s\n",
      "[CV] max_depth=10, min_samples_split=15, n_estimators=1000 ...........\n",
      "[CV]  max_depth=10, min_samples_split=15, n_estimators=1000, total=  25.9s\n",
      "[CV] max_depth=10, min_samples_split=15, n_estimators=1000 ...........\n",
      "[CV]  max_depth=10, min_samples_split=15, n_estimators=1000, total=  25.9s\n",
      "[CV] max_depth=10, min_samples_split=20, n_estimators=600 ............\n",
      "[CV]  max_depth=10, min_samples_split=20, n_estimators=600, total=  15.4s\n",
      "[CV] max_depth=10, min_samples_split=20, n_estimators=600 ............\n",
      "[CV]  max_depth=10, min_samples_split=20, n_estimators=600, total=  15.5s\n",
      "[CV] max_depth=10, min_samples_split=20, n_estimators=600 ............\n",
      "[CV]  max_depth=10, min_samples_split=20, n_estimators=600, total=  15.4s\n",
      "[CV] max_depth=10, min_samples_split=20, n_estimators=800 ............\n",
      "[CV]  max_depth=10, min_samples_split=20, n_estimators=800, total=  20.4s\n",
      "[CV] max_depth=10, min_samples_split=20, n_estimators=800 ............\n",
      "[CV]  max_depth=10, min_samples_split=20, n_estimators=800, total=  20.6s\n",
      "[CV] max_depth=10, min_samples_split=20, n_estimators=800 ............\n",
      "[CV]  max_depth=10, min_samples_split=20, n_estimators=800, total=  20.5s\n",
      "[CV] max_depth=10, min_samples_split=20, n_estimators=1000 ...........\n",
      "[CV]  max_depth=10, min_samples_split=20, n_estimators=1000, total=  25.5s\n",
      "[CV] max_depth=10, min_samples_split=20, n_estimators=1000 ...........\n",
      "[CV]  max_depth=10, min_samples_split=20, n_estimators=1000, total=  25.7s\n",
      "[CV] max_depth=10, min_samples_split=20, n_estimators=1000 ...........\n",
      "[CV]  max_depth=10, min_samples_split=20, n_estimators=1000, total=  25.6s\n",
      "[CV] max_depth=10, min_samples_split=25, n_estimators=600 ............\n",
      "[CV]  max_depth=10, min_samples_split=25, n_estimators=600, total=  15.3s\n",
      "[CV] max_depth=10, min_samples_split=25, n_estimators=600 ............\n",
      "[CV]  max_depth=10, min_samples_split=25, n_estimators=600, total=  15.5s\n",
      "[CV] max_depth=10, min_samples_split=25, n_estimators=600 ............\n",
      "[CV]  max_depth=10, min_samples_split=25, n_estimators=600, total=  15.3s\n",
      "[CV] max_depth=10, min_samples_split=25, n_estimators=800 ............\n",
      "[CV]  max_depth=10, min_samples_split=25, n_estimators=800, total=  20.3s\n",
      "[CV] max_depth=10, min_samples_split=25, n_estimators=800 ............\n",
      "[CV]  max_depth=10, min_samples_split=25, n_estimators=800, total=  20.5s\n",
      "[CV] max_depth=10, min_samples_split=25, n_estimators=800 ............\n",
      "[CV]  max_depth=10, min_samples_split=25, n_estimators=800, total=  20.4s\n",
      "[CV] max_depth=10, min_samples_split=25, n_estimators=1000 ...........\n",
      "[CV]  max_depth=10, min_samples_split=25, n_estimators=1000, total=  25.4s\n",
      "[CV] max_depth=10, min_samples_split=25, n_estimators=1000 ...........\n",
      "[CV]  max_depth=10, min_samples_split=25, n_estimators=1000, total=  25.6s\n",
      "[CV] max_depth=10, min_samples_split=25, n_estimators=1000 ...........\n",
      "[CV]  max_depth=10, min_samples_split=25, n_estimators=1000, total=  25.4s\n",
      "[CV] max_depth=12, min_samples_split=15, n_estimators=600 ............\n",
      "[CV]  max_depth=12, min_samples_split=15, n_estimators=600, total=  17.5s\n",
      "[CV] max_depth=12, min_samples_split=15, n_estimators=600 ............\n",
      "[CV]  max_depth=12, min_samples_split=15, n_estimators=600, total=  17.6s\n",
      "[CV] max_depth=12, min_samples_split=15, n_estimators=600 ............\n",
      "[CV]  max_depth=12, min_samples_split=15, n_estimators=600, total=  17.5s\n",
      "[CV] max_depth=12, min_samples_split=15, n_estimators=800 ............\n",
      "[CV]  max_depth=12, min_samples_split=15, n_estimators=800, total=  23.2s\n",
      "[CV] max_depth=12, min_samples_split=15, n_estimators=800 ............\n",
      "[CV]  max_depth=12, min_samples_split=15, n_estimators=800, total=  23.4s\n",
      "[CV] max_depth=12, min_samples_split=15, n_estimators=800 ............\n",
      "[CV]  max_depth=12, min_samples_split=15, n_estimators=800, total=  23.3s\n",
      "[CV] max_depth=12, min_samples_split=15, n_estimators=1000 ...........\n",
      "[CV]  max_depth=12, min_samples_split=15, n_estimators=1000, total=  29.1s\n",
      "[CV] max_depth=12, min_samples_split=15, n_estimators=1000 ...........\n",
      "[CV]  max_depth=12, min_samples_split=15, n_estimators=1000, total=  29.2s\n",
      "[CV] max_depth=12, min_samples_split=15, n_estimators=1000 ...........\n",
      "[CV]  max_depth=12, min_samples_split=15, n_estimators=1000, total=  29.1s\n",
      "[CV] max_depth=12, min_samples_split=20, n_estimators=600 ............\n",
      "[CV]  max_depth=12, min_samples_split=20, n_estimators=600, total=  17.2s\n",
      "[CV] max_depth=12, min_samples_split=20, n_estimators=600 ............\n",
      "[CV]  max_depth=12, min_samples_split=20, n_estimators=600, total=  17.5s\n",
      "[CV] max_depth=12, min_samples_split=20, n_estimators=600 ............\n",
      "[CV]  max_depth=12, min_samples_split=20, n_estimators=600, total=  17.2s\n",
      "[CV] max_depth=12, min_samples_split=20, n_estimators=800 ............\n",
      "[CV]  max_depth=12, min_samples_split=20, n_estimators=800, total=  22.8s\n",
      "[CV] max_depth=12, min_samples_split=20, n_estimators=800 ............\n",
      "[CV]  max_depth=12, min_samples_split=20, n_estimators=800, total=  23.1s\n",
      "[CV] max_depth=12, min_samples_split=20, n_estimators=800 ............\n",
      "[CV]  max_depth=12, min_samples_split=20, n_estimators=800, total=  22.9s\n",
      "[CV] max_depth=12, min_samples_split=20, n_estimators=1000 ...........\n",
      "[CV]  max_depth=12, min_samples_split=20, n_estimators=1000, total=  28.4s\n",
      "[CV] max_depth=12, min_samples_split=20, n_estimators=1000 ...........\n",
      "[CV]  max_depth=12, min_samples_split=20, n_estimators=1000, total=  28.7s\n",
      "[CV] max_depth=12, min_samples_split=20, n_estimators=1000 ...........\n",
      "[CV]  max_depth=12, min_samples_split=20, n_estimators=1000, total=  28.6s\n",
      "[CV] max_depth=12, min_samples_split=25, n_estimators=600 ............\n",
      "[CV]  max_depth=12, min_samples_split=25, n_estimators=600, total=  17.0s\n",
      "[CV] max_depth=12, min_samples_split=25, n_estimators=600 ............\n",
      "[CV]  max_depth=12, min_samples_split=25, n_estimators=600, total=  17.1s\n",
      "[CV] max_depth=12, min_samples_split=25, n_estimators=600 ............\n",
      "[CV]  max_depth=12, min_samples_split=25, n_estimators=600, total=  17.0s\n",
      "[CV] max_depth=12, min_samples_split=25, n_estimators=800 ............\n",
      "[CV]  max_depth=12, min_samples_split=25, n_estimators=800, total=  22.5s\n",
      "[CV] max_depth=12, min_samples_split=25, n_estimators=800 ............\n",
      "[CV]  max_depth=12, min_samples_split=25, n_estimators=800, total=  22.7s\n",
      "[CV] max_depth=12, min_samples_split=25, n_estimators=800 ............\n",
      "[CV]  max_depth=12, min_samples_split=25, n_estimators=800, total=  22.6s\n",
      "[CV] max_depth=12, min_samples_split=25, n_estimators=1000 ...........\n",
      "[CV]  max_depth=12, min_samples_split=25, n_estimators=1000, total=  28.1s\n",
      "[CV] max_depth=12, min_samples_split=25, n_estimators=1000 ...........\n",
      "[CV]  max_depth=12, min_samples_split=25, n_estimators=1000, total=  28.3s\n",
      "[CV] max_depth=12, min_samples_split=25, n_estimators=1000 ...........\n",
      "[CV]  max_depth=12, min_samples_split=25, n_estimators=1000, total=  28.2s\n"
     ]
    },
    {
     "name": "stderr",
     "output_type": "stream",
     "text": [
      "[Parallel(n_jobs=-1)]: Done  81 out of  81 | elapsed: 29.2min finished\n"
     ]
    },
    {
     "data": {
      "text/plain": [
       "GridSearchCV(cv=3, error_score='raise',\n",
       "       estimator=RandomForestRegressor(bootstrap=True, criterion='mse', max_depth=None,\n",
       "           max_features='auto', max_leaf_nodes=None,\n",
       "           min_impurity_decrease=0.0, min_impurity_split=None,\n",
       "           min_samples_leaf=1, min_samples_split=2,\n",
       "           min_weight_fraction_leaf=0.0, n_estimators=10, n_jobs=1,\n",
       "           oob_score=False, random_state=None, verbose=0, warm_start=False),\n",
       "       fit_params=None, iid=True, n_jobs=-1,\n",
       "       param_grid={'max_depth': [8, 10, 12], 'min_samples_split': [15, 20, 25], 'n_estimators': [600, 800, 1000]},\n",
       "       pre_dispatch='2*n_jobs', refit=True, return_train_score='warn',\n",
       "       scoring=None, verbose=2)"
      ]
     },
     "execution_count": 48,
     "metadata": {},
     "output_type": "execute_result"
    }
   ],
   "source": [
    "# Fit the grid search to the data\n",
    "grid_search.fit(X_train, y_train)"
   ]
  },
  {
   "cell_type": "code",
   "execution_count": 49,
   "metadata": {},
   "outputs": [
    {
     "data": {
      "text/plain": [
       "{'max_depth': 8, 'min_samples_split': 25, 'n_estimators': 1000}"
      ]
     },
     "execution_count": 49,
     "metadata": {},
     "output_type": "execute_result"
    }
   ],
   "source": [
    "grid_search.best_params_"
   ]
  },
  {
   "cell_type": "code",
   "execution_count": 50,
   "metadata": {},
   "outputs": [
    {
     "data": {
      "text/plain": [
       "RandomForestRegressor(bootstrap=True, criterion='mse', max_depth=8,\n",
       "           max_features='auto', max_leaf_nodes=None,\n",
       "           min_impurity_decrease=0.0, min_impurity_split=None,\n",
       "           min_samples_leaf=1, min_samples_split=25,\n",
       "           min_weight_fraction_leaf=0.0, n_estimators=1000, n_jobs=1,\n",
       "           oob_score=False, random_state=None, verbose=0, warm_start=False)"
      ]
     },
     "execution_count": 50,
     "metadata": {},
     "output_type": "execute_result"
    }
   ],
   "source": [
    "# best model\n",
    "rf_opt = grid_search.best_estimator_\n",
    "rf_opt.fit(X_train, y_train)"
   ]
  },
  {
   "cell_type": "code",
   "execution_count": 51,
   "metadata": {},
   "outputs": [
    {
     "name": "stdout",
     "output_type": "stream",
     "text": [
      "MSE training set 34.46\n",
      "MSE test set 35.66\n"
     ]
    }
   ],
   "source": [
    "# metric: mse\n",
    "# Training data\n",
    "pred_train = rf_opt.predict(X_train)\n",
    "mse_train = mean_squared_error(y_train, pred_train)\n",
    "print('MSE training set', round(mse_train, 2))\n",
    "# Test data\n",
    "pred = rf_opt.predict(X_test)\n",
    "mse_test = mean_squared_error(y_test, pred)\n",
    "print('MSE test set', round(mse_test, 2))"
   ]
  },
  {
   "cell_type": "code",
   "execution_count": 52,
   "metadata": {},
   "outputs": [],
   "source": [
    "rf_met = pd.DataFrame([{'training_mse':mse_train,'test_mse':mse_test}],index = ['Random Forest'])"
   ]
  },
  {
   "cell_type": "markdown",
   "metadata": {},
   "source": [
    "### Prediction Conclusion"
   ]
  },
  {
   "cell_type": "markdown",
   "metadata": {},
   "source": [
    "From the output, we can see that random forest has overall best performance. "
   ]
  },
  {
   "cell_type": "code",
   "execution_count": 53,
   "metadata": {},
   "outputs": [
    {
     "data": {
      "text/html": [
       "<div>\n",
       "<style scoped>\n",
       "    .dataframe tbody tr th:only-of-type {\n",
       "        vertical-align: middle;\n",
       "    }\n",
       "\n",
       "    .dataframe tbody tr th {\n",
       "        vertical-align: top;\n",
       "    }\n",
       "\n",
       "    .dataframe thead th {\n",
       "        text-align: right;\n",
       "    }\n",
       "</style>\n",
       "<table border=\"1\" class=\"dataframe\">\n",
       "  <thead>\n",
       "    <tr style=\"text-align: right;\">\n",
       "      <th></th>\n",
       "      <th>test_mse</th>\n",
       "      <th>training_mse</th>\n",
       "    </tr>\n",
       "  </thead>\n",
       "  <tbody>\n",
       "    <tr>\n",
       "      <th>Random Forest</th>\n",
       "      <td>35.656213</td>\n",
       "      <td>34.462826</td>\n",
       "    </tr>\n",
       "    <tr>\n",
       "      <th>KNN</th>\n",
       "      <td>38.161361</td>\n",
       "      <td>34.030821</td>\n",
       "    </tr>\n",
       "    <tr>\n",
       "      <th>Lasso</th>\n",
       "      <td>38.095220</td>\n",
       "      <td>39.001854</td>\n",
       "    </tr>\n",
       "  </tbody>\n",
       "</table>\n",
       "</div>"
      ],
      "text/plain": [
       "                test_mse  training_mse\n",
       "Random Forest  35.656213     34.462826\n",
       "KNN            38.161361     34.030821\n",
       "Lasso          38.095220     39.001854"
      ]
     },
     "execution_count": 53,
     "metadata": {},
     "output_type": "execute_result"
    }
   ],
   "source": [
    "pd.concat([rf_met, knn_met, lasso_met], axis = 0)"
   ]
  },
  {
   "cell_type": "code",
   "execution_count": null,
   "metadata": {},
   "outputs": [],
   "source": []
  }
 ],
 "metadata": {
  "kernelspec": {
   "display_name": "Python 3",
   "language": "python",
   "name": "python3"
  },
  "language_info": {
   "codemirror_mode": {
    "name": "ipython",
    "version": 3
   },
   "file_extension": ".py",
   "mimetype": "text/x-python",
   "name": "python",
   "nbconvert_exporter": "python",
   "pygments_lexer": "ipython3",
   "version": "3.6.3"
  }
 },
 "nbformat": 4,
 "nbformat_minor": 2
}
